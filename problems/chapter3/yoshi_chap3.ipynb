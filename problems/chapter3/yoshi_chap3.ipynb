{
 "cells": [
  {
   "cell_type": "markdown",
   "metadata": {},
   "source": [
    "### 3.1\n",
    "#### 問\n",
    "- 勾配とヘッセ行列を求めよ\n",
    "\n",
    "#### 答\n",
    "- (i) $f(x) = 2x_1^3 -x_1^2x_2 +2x_2^2$\n",
    "\n",
    "$$\n",
    "\\nabla f(x) = \\begin{bmatrix}\n",
    "                  6x_1^2 - 2x_1x_2 \\\\\n",
    "                  -x_1^2 + 4x_2\n",
    "              \\end{bmatrix}\n",
    "\n",
    "\\nabla^2 f(x) =  \\begin{bmatrix}\n",
    "                    6x_1^2 - 2x_1x_2 \\\\\n",
    "                    -x_1^2 + 4x_2\n",
    "                 \\end{bmatrix}\n",
    "$$"
   ]
  },
  {
   "cell_type": "markdown",
   "metadata": {},
   "source": []
  }
 ],
 "metadata": {
  "language_info": {
   "name": "python"
  },
  "orig_nbformat": 4
 },
 "nbformat": 4,
 "nbformat_minor": 2
}
