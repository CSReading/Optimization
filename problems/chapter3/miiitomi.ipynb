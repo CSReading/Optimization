{
 "cells": [
  {
   "cell_type": "code",
   "execution_count": 1,
   "metadata": {},
   "outputs": [],
   "source": [
    "import numpy as np\n",
    "import scipy.optimize as opt"
   ]
  },
  {
   "cell_type": "markdown",
   "metadata": {},
   "source": [
    "# 3.1\n",
    "次の関数の勾配とヘッセ行列を求めよ."
   ]
  },
  {
   "cell_type": "markdown",
   "metadata": {},
   "source": [
    "(i)\n",
    ">$$f(x) = 2 x_1^3 - x_1^2x_2 + 2x_2^2.$$"
   ]
  },
  {
   "cell_type": "markdown",
   "metadata": {},
   "source": [
    "$$\n",
    "\\nabla f(x) = \\begin{bmatrix}\n",
    "                6 x_1^2 - 2x_1x_2\\\\\n",
    "                -x_1^2 + 4x_2\n",
    "              \\end{bmatrix},\\ \n",
    "\\nabla^2 f(x) = \\begin{bmatrix}\n",
    "                  12x_1 - 2x_2  &  -2x_1\\\\\n",
    "                  -2x_1  & 4\n",
    "                \\end{bmatrix}.\n",
    "$$"
   ]
  },
  {
   "cell_type": "code",
   "execution_count": 2,
   "metadata": {},
   "outputs": [
    {
     "name": "stdout",
     "output_type": "stream",
     "text": [
      "Warning: Maximum number of function evaluations has been exceeded.\n"
     ]
    }
   ],
   "source": [
    "# 最適解なし\n",
    "f = lambda x: 2*(x[0]**3) - (x[0]**2)*x[1] + 2*(x[1]**2)\n",
    "x0 = np.array([1.0, 1.0])\n",
    "res = opt.minimize(f, x0, method=\"nelder-mead\", options={\"disp\": True})"
   ]
  },
  {
   "cell_type": "code",
   "execution_count": 3,
   "metadata": {},
   "outputs": [
    {
     "name": "stdout",
     "output_type": "stream",
     "text": [
      "Optimization terminated successfully.\n",
      "         Current function value: 0.000000\n",
      "         Iterations: 14\n",
      "         Function evaluations: 48\n",
      "         Gradient evaluations: 16\n"
     ]
    },
    {
     "data": {
      "text/plain": [
       "array([ 8.47274610e-04, -7.46373369e-09])"
      ]
     },
     "execution_count": 3,
     "metadata": {},
     "output_type": "execute_result"
    }
   ],
   "source": [
    "# methodを指定しないと嘘解が求まっちゃう\n",
    "res = opt.minimize(f, x0, options={\"disp\": True})\n",
    "res.x"
   ]
  },
  {
   "cell_type": "markdown",
   "metadata": {},
   "source": [
    "(ii)\n",
    ">$$ f(x) = (x_1 - 3)^2 + x_1 x_2 + \\frac{1}{16}x_2^4 + (x_2 - 1)^2. $$"
   ]
  },
  {
   "cell_type": "markdown",
   "metadata": {},
   "source": [
    "$$\n",
    "    \\nabla f(x) = \\begin{bmatrix}\n",
    "                    2x_1 + x_2 - 6 \\\\\n",
    "                    x_1 + \\frac{1}{4} x_2^3 + 2x_2 - 2\n",
    "                  \\end{bmatrix},\\ \n",
    "    \\nabla^2 f(x) = \\begin{bmatrix}\n",
    "                      2 & 1\\\\\n",
    "                      1 & \\frac{3}{4}x_2^2 + 2\n",
    "                    \\end{bmatrix}.\n",
    "$$"
   ]
  },
  {
   "cell_type": "code",
   "execution_count": 4,
   "metadata": {},
   "outputs": [
    {
     "name": "stdout",
     "output_type": "stream",
     "text": [
      "Optimization terminated successfully.\n",
      "         Current function value: 0.677505\n",
      "         Iterations: 46\n",
      "         Function evaluations: 88\n"
     ]
    },
    {
     "data": {
      "text/plain": [
       "array([ 3.3128884 , -0.62579102])"
      ]
     },
     "execution_count": 4,
     "metadata": {},
     "output_type": "execute_result"
    }
   ],
   "source": [
    "f = lambda x: (x[0]-3)**2 + x[0]*x[1] + (1/16)*(x[1]**4) + (x[1]-1)**2\n",
    "x0 = np.array([1.0, 1.0])\n",
    "res = opt.minimize(f, x0, method=\"nelder-mead\", options={\"disp\": True})\n",
    "res.x"
   ]
  },
  {
   "cell_type": "code",
   "execution_count": 5,
   "metadata": {},
   "outputs": [
    {
     "name": "stdout",
     "output_type": "stream",
     "text": [
      "Optimization terminated successfully.\n",
      "         Current function value: 0.677505\n",
      "         Iterations: 7\n",
      "         Function evaluations: 8\n",
      "         Gradient evaluations: 8\n"
     ]
    },
    {
     "data": {
      "text/plain": [
       "array([ 3.31290812, -0.6258167 ])"
      ]
     },
     "execution_count": 5,
     "metadata": {},
     "output_type": "execute_result"
    }
   ],
   "source": [
    "# 勾配を指定して BFGS を使った方が収束が早い.\n",
    "def jac(x):\n",
    "    output = np.zeros(2)\n",
    "    output[0] = 2*x[0] + x[1] - 6\n",
    "    output[1] = x[0] + (1/4)*(x[1]**3) + 2*x[1] - 2\n",
    "    return output\n",
    "\n",
    "res = opt.minimize(f, x0, method=\"BFGS\", jac=jac, options={\"disp\": True})\n",
    "res.x"
   ]
  },
  {
   "cell_type": "markdown",
   "metadata": {},
   "source": [
    "# 3.2\n",
    ">正定値対称行列 $A = (A_{ij}) \\in \\mathbb{R}^{n\\times n}$, ベクトル $b \\in \\mathbb{R}^n$ に対し, 連立1次方程式\n",
    ">$$ Ax = b \\tag{3.32} $$\n",
    ">の解と無制約最適化問題\n",
    ">$$ \\min f(x) = \\frac{1}{2}x'Ax - b'x  \\tag{3.33} $$\n",
    ">の解が一致することを示せ. また, $\\nabla^2 f(x) = A$ を示せ."
   ]
  },
  {
   "cell_type": "markdown",
   "metadata": {},
   "source": [
    "$f(x)$ の勾配およびヘッセ行列は,\n",
    "$$\n",
    "    \\nabla f(x) = Ax - b,\\ \\nabla^2 f(x) = A\n",
    "$$\n",
    "であり, $A$ は正定値行列なので $f$ は狭義凸関数. したがって, $x^*$ が (3.33) の最適解であることの必要十分条件は,\n",
    "$$\n",
    "    \\nabla f(x^*) = A x^* - b = 0\n",
    "$$\n",
    "である."
   ]
  }
 ],
 "metadata": {
  "interpreter": {
   "hash": "d4d1e4263499bec80672ea0156c357c1ee493ec2b1c70f0acce89fc37c4a6abe"
  },
  "kernelspec": {
   "display_name": "Python 3.9.7 64-bit ('base': conda)",
   "language": "python",
   "name": "python3"
  },
  "language_info": {
   "codemirror_mode": {
    "name": "ipython",
    "version": 3
   },
   "file_extension": ".py",
   "mimetype": "text/x-python",
   "name": "python",
   "nbconvert_exporter": "python",
   "pygments_lexer": "ipython3",
   "version": "3.9.7"
  },
  "orig_nbformat": 4
 },
 "nbformat": 4,
 "nbformat_minor": 2
}
