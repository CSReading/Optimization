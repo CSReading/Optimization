{
 "cells": [
  {
   "cell_type": "markdown",
   "metadata": {},
   "source": [
    "# Chapter3: 非線形計画"
   ]
  },
  {
   "cell_type": "code",
   "execution_count": 1,
   "metadata": {},
   "outputs": [],
   "source": [
    "import cvxpy as cp\n",
    "import numpy as np\n",
    "import matplotlib.pyplot as plt\n",
    "import seaborn as sns"
   ]
  },
  {
   "cell_type": "markdown",
   "metadata": {},
   "source": [
    "## 3.1\n",
    "(問) 次の関数の勾配とヘッセ行列を求めよ.\n",
    "\n",
    "(答) \n",
    "\n",
    "(i) $f(\\bm{x}) = 2x_{1}^{3} - x_{1}^{2}x_{2} + 2x_{2}^{2}$\n",
    "$$\\nabla f(\\bm{x}) = \\left[\\begin{matrix}6x_{1}^{2} - 2x_{1}x_{2} \\\\ - x_{1}^{2} + 4x_{2}\\end{matrix}\\right],\n",
    "\\nabla^{2} f(\\bm{x}) = \\left[\\begin{matrix}12x_{1} - 2x_{2} & -2x_{1} \\\\ -2x_{1} & 4\\end{matrix}\\right] $$\n",
    "\n",
    "(ii) $f(\\bm{x}) = (x_{1} - 3)^{2} + x_{1}x_{2} + \\frac{1}{16}x_{2}^{4} + (x_{2} - 1)^{2}$\n",
    "$$\\nabla f(\\bm{x}) = \\left[\\begin{matrix}\n",
    "2(x_{1} - 3) + x_{2} \\\\ \n",
    "x_{1} + \\frac{1}{4}x_{2}^{3} + 2(x_{2} - 1)\n",
    "\\end{matrix}\\right],\n",
    "\\nabla^{2} f(\\bm{x}) = \\left[\\begin{matrix}\n",
    "2 & 1 \\\\ \n",
    "1 & \\frac{3}{4}x_{2}^{2} + 2\n",
    "\\end{matrix}\\right] $$\n",
    "\n",
    "(iii)リッジ回帰の目的関数$f(\\bm{x})=\\|A\\bm{x}-\\bm{b}\\|_{2}^{2} + \\gamma\\|\\bm{x}\\|_{2}^{2}$\n",
    "$$\\nabla f(\\bm{x}) = 2A^{\\top}A\\bm{x} - 2A^{\\top}\\bm{b} + 2\\gamma \\bm{x},\n",
    "\\nabla^{2} f(\\bm{x}) = 2A^{\\top}A + 2\\gamma I$$\n",
    "\n",
    "(iv)ロジスティクス損失関数$f(\\bm{x})=\\sum_{j=1}^{n}\\log(1 + \\exp(-x_{j}))$\n",
    "$$\\nabla f(\\bm{x}) = \\left[\\begin{matrix}\n",
    "\\frac{-1}{1 + \\exp(x_{1})} \\\\ \n",
    "\\vdots \\\\\n",
    "\\frac{-1}{1 + \\exp(x_{n})}\n",
    "\\end{matrix}\\right],\n",
    "\\nabla^{2} f(\\bm{x}) = \\left[\\begin{matrix}\n",
    "\\frac{\\exp(x_{1})}{(1 + \\exp(x_{1}))^{2}} & 0 & \\dots & 0 \\\\ \n",
    "0 & \\ddots & \\ddots & \\vdots \\\\\n",
    "\\vdots & \\ddots & \\ddots & 0 \\\\\n",
    "0 & \\dots & 0 & \\frac{\\exp(x_{n})}{(1 + \\exp(x_{n}))^{2}} \\\\\n",
    "\\end{matrix}\\right] $$\n",
    "\n",
    "(v) log-sum-exp関数$f(\\bm{x})=\\log\\left(\\sum_{j=1}^{n}\\exp(x_{j})\\right)$. この関数は混合正規分布を用いた最尤推定やロジスティック回帰に基づく多クラス分類などに現れる. また, $\\|x\\|_{\\infty}=\\max\\{|x_{1}|, \\dots, |x_{n}|\\}$を近似する関数としてしばしば用いられる.\n",
    "$$\\nabla f(\\bm{x}) = \\frac{1}{\\sum_{j=1}^{n}\\exp(x_{j})}\\left[\\begin{matrix}\n",
    "\\exp(x_{1}) \\\\ \n",
    "\\vdots \\\\\n",
    "\\exp(x_{n})\n",
    "\\end{matrix}\\right]$$\n",
    "$$\\nabla^{2} f(\\bm{x}) = \\frac{1}{(\\sum_{j=1}^{n}\\exp(x_{j}))^{2}}\\left[\\begin{matrix}\n",
    "\\exp(x_{1})(\\sum_{j=1}^{n}\\exp(x_{j})-\\exp(x_{1})) & -\\exp(x_{2})\\exp(x_{1}) & \\dots & -\\exp(x_{n})\\exp(x_{1}) \\\\ \n",
    "-\\exp(x_{1})\\exp(x_{2}) & \\ddots & \\ddots & \\vdots \\\\\n",
    "\\vdots & \\ddots & \\ddots & -\\exp(x_{n-1})\\exp(x_{n}) \\\\\n",
    "-\\exp(x_{n})\\exp(x_{1}) & \\dots & -\\exp(x_{n})\\exp(x_{n-1}) & \\exp(x_{n})(\\sum_{j=1}^{n}\\exp(x_{j})-\\exp(x_{n})) \\\\\n",
    "\\end{matrix}\\right] $$"
   ]
  },
  {
   "cell_type": "markdown",
   "metadata": {},
   "source": [
    "## 3.2\n",
    "(問) 例3.11の設定において, 連立一次方程式(3.32)$A\\bm{x}=\\bm{b}$の解と無制約最適化問題(3.33)$\\text{ Minimize }\\frac{1}{2}\\bm{x}^{\\top}A\\bm{x}-\\bm{b}^{\\top}\\bm{x}$の解が一致することを示せ. また, $\\nabla^{2}f(\\bm{x})=A$であることを示せ.\n",
    "\n",
    "(答) \n"
   ]
  },
  {
   "cell_type": "markdown",
   "metadata": {},
   "source": [
    "## 3.3\n",
    "(問) 練習問題3.1の(i), (ii)の関数について初期点を適当に定め, 最急降下法での最初の2反復目までを実際に計算してみよ. また同様にニュートン法での最初の2反復目までを実際に計算してみよ."
   ]
  },
  {
   "cell_type": "markdown",
   "metadata": {},
   "source": [
    "## 3.4\n",
    "(問) 次の制約付き最適化問題に対するKKT条件を書け. ただし, $A\\in \\mathbb{R}^{m \\times n}$は定行列であり, $\\bm{b}\\in\\mathbb{R}^{m}$は定ベクトルである.\n",
    "\n",
    "(答) \n",
    "\n",
    "(i) 非負制約つき最小2乗法:\n",
    "$$\\begin{aligned}\n",
    "\\text{Minimize } &\\frac{1}{2}\\| A\\bm{x} - \\bm{b} \\|_{2}^{2} \\\\\n",
    "\\text{subject to }& \\bm{x} \\ge \\bm{0}\n",
    "\\end{aligned}$$\n",
    "\n",
    "(ii)\n",
    "$$\\begin{aligned}\n",
    "\\text{Minimize } & \\sum_{j=1}^{n}x_{j}\\log x_{j}\\\\\n",
    "\\text{subject to } & \\sum_{j=1}^{n}x_{j} = 1\\\\ & \\bm{x} \\ge \\bm{0}\n",
    "\\end{aligned}$$\n",
    "この形式は例えばエントロピー最大化によるノンパラメトリック推定に現れる"
   ]
  },
  {
   "cell_type": "markdown",
   "metadata": {},
   "source": [
    "## 3.5\n",
    "(問) 2変数の非線形計画問題の例で, 局所最適解において1次独立制約想定が成り立たないものをつくり, その局所最適解でKKT条件を満たすラグランジュ定数が存在するか調べよ.\n",
    "\n",
    "(答) \n"
   ]
  },
  {
   "cell_type": "markdown",
   "metadata": {},
   "source": [
    "## 3.6\n",
    "(問) $\\ell_{1}$ノルム正則化付き最小2乗法\n",
    "$$\\text{Minimize} \\frac{1}{2}\\left\\|\\sum_{j=1}^{n}x_{j}\\bm{a}_{j}-\\bm{b}\\right\\|_{2}^{2} + \\gamma\\sum_{j=1}^{n}|x_{j}|$$\n",
    "に対する座標急降下法の更新は\n",
    "$$x_{l} \\leftarrow \\frac{1}{\\|\\bm{a}_{l}\\|_{2}^{2}}\\psi\\left( \\left(\\bm{b} - \\sum_{j\\neq l}x_{j}\\bm{a}_{j} \\right) ^{\\top}\\bm{a}_{l}\\right)$$\n",
    "とかけることを示せ.ただし, $\\gamma$は正の定数であり,\n",
    "$$\\psi(s)=\\begin{cases}\n",
    "s-\\gamma & (s > \\gamma \\text{のとき}),\\\\\n",
    "0 & (|s| \\le \\gamma \\text{のとき}), \\\\\n",
    "s + \\gamma & (s < -\\gamma \\text{のとき}),\n",
    "\\end{cases}$$\n",
    "である. \n",
    "\n",
    "(答) \n"
   ]
  },
  {
   "cell_type": "code",
   "execution_count": null,
   "metadata": {},
   "outputs": [],
   "source": []
  }
 ],
 "metadata": {
  "interpreter": {
   "hash": "d4d1e4263499bec80672ea0156c357c1ee493ec2b1c70f0acce89fc37c4a6abe"
  },
  "kernelspec": {
   "display_name": "Python 3.9.7 64-bit ('base': conda)",
   "language": "python",
   "name": "python3"
  },
  "language_info": {
   "codemirror_mode": {
    "name": "ipython",
    "version": 3
   },
   "file_extension": ".py",
   "mimetype": "text/x-python",
   "name": "python",
   "nbconvert_exporter": "python",
   "pygments_lexer": "ipython3",
   "version": "3.9.7"
  },
  "orig_nbformat": 4
 },
 "nbformat": 4,
 "nbformat_minor": 2
}
