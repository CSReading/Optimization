{
 "cells": [
  {
   "cell_type": "markdown",
   "metadata": {},
   "source": [
    "# Chapter3: 非線形計画"
   ]
  },
  {
   "cell_type": "code",
   "execution_count": 2,
   "metadata": {},
   "outputs": [],
   "source": [
    "import cvxpy as cp\n",
    "import numpy as np\n",
    "import matplotlib.pyplot as plt\n",
    "import seaborn as sns\n",
    "from sympy import symbols, lambdify\n",
    "from sympy.matrices import Matrix"
   ]
  },
  {
   "cell_type": "markdown",
   "metadata": {},
   "source": [
    "## 3.1\n",
    "(問) 次の関数の勾配とヘッセ行列を求めよ.\n",
    "\n",
    "(答) \n",
    "\n",
    "(i) $f(\\bm{x}) = 2x_{1}^{3} - x_{1}^{2}x_{2} + 2x_{2}^{2}$\n",
    "$$\\nabla f(\\bm{x}) = \\left[\\begin{matrix}6x_{1}^{2} - 2x_{1}x_{2} \\\\ - x_{1}^{2} + 4x_{2}\\end{matrix}\\right],\n",
    "\\nabla^{2} f(\\bm{x}) = \\left[\\begin{matrix}12x_{1} - 2x_{2} & -2x_{1} \\\\ -2x_{1} & 4\\end{matrix}\\right] $$\n",
    "\n",
    "(ii) $f(\\bm{x}) = (x_{1} - 3)^{2} + x_{1}x_{2} + \\frac{1}{16}x_{2}^{4} + (x_{2} - 1)^{2}$\n",
    "$$\\nabla f(\\bm{x}) = \\left[\\begin{matrix}\n",
    "2(x_{1} - 3) + x_{2} \\\\ \n",
    "x_{1} + \\frac{1}{4}x_{2}^{3} + 2(x_{2} - 1)\n",
    "\\end{matrix}\\right],\n",
    "\\nabla^{2} f(\\bm{x}) = \\left[\\begin{matrix}\n",
    "2 & 1 \\\\ \n",
    "1 & \\frac{3}{4}x_{2}^{2} + 2\n",
    "\\end{matrix}\\right] $$\n",
    "\n",
    "(iii)リッジ回帰の目的関数$f(\\bm{x})=\\|A\\bm{x}-\\bm{b}\\|_{2}^{2} + \\gamma\\|\\bm{x}\\|_{2}^{2}$\n",
    "$$\\nabla f(\\bm{x}) = 2A^{\\top}A\\bm{x} - 2A^{\\top}\\bm{b} + 2\\gamma \\bm{x},\n",
    "\\nabla^{2} f(\\bm{x}) = 2A^{\\top}A + 2\\gamma I$$\n",
    "\n",
    "(iv)ロジスティクス損失関数$f(\\bm{x})=\\sum_{j=1}^{n}\\log(1 + \\exp(-x_{j}))$\n",
    "$$\\nabla f(\\bm{x}) = \\left[\\begin{matrix}\n",
    "\\frac{-1}{1 + \\exp(x_{1})} \\\\ \n",
    "\\vdots \\\\\n",
    "\\frac{-1}{1 + \\exp(x_{n})}\n",
    "\\end{matrix}\\right],\n",
    "\\nabla^{2} f(\\bm{x}) = \\left[\\begin{matrix}\n",
    "\\frac{\\exp(x_{1})}{(1 + \\exp(x_{1}))^{2}} & 0 & \\dots & 0 \\\\ \n",
    "0 & \\ddots & \\ddots & \\vdots \\\\\n",
    "\\vdots & \\ddots & \\ddots & 0 \\\\\n",
    "0 & \\dots & 0 & \\frac{\\exp(x_{n})}{(1 + \\exp(x_{n}))^{2}} \\\\\n",
    "\\end{matrix}\\right] $$\n",
    "\n",
    "(v) log-sum-exp関数$f(\\bm{x})=\\log\\left(\\sum_{j=1}^{n}\\exp(x_{j})\\right)$. この関数は混合正規分布を用いた最尤推定やロジスティック回帰に基づく多クラス分類などに現れる. また, $\\|x\\|_{\\infty}=\\max\\{|x_{1}|, \\dots, |x_{n}|\\}$を近似する関数としてしばしば用いられる.\n",
    "$$\\nabla f(\\bm{x}) = \\frac{1}{\\sum_{j=1}^{n}\\exp(x_{j})}\\left[\\begin{matrix}\n",
    "\\exp(x_{1}) \\\\ \n",
    "\\vdots \\\\\n",
    "\\exp(x_{n})\n",
    "\\end{matrix}\\right]$$\n",
    "$$\\nabla^{2} f(\\bm{x}) = \\frac{1}{(\\sum_{j=1}^{n}\\exp(x_{j}))^{2}}\\left[\\begin{matrix}\n",
    "\\exp(x_{1})(\\sum_{j=1}^{n}\\exp(x_{j})-\\exp(x_{1})) & -\\exp(x_{2})\\exp(x_{1}) & \\dots & -\\exp(x_{n})\\exp(x_{1}) \\\\ \n",
    "-\\exp(x_{1})\\exp(x_{2}) & \\ddots & \\ddots & \\vdots \\\\\n",
    "\\vdots & \\ddots & \\ddots & -\\exp(x_{n-1})\\exp(x_{n}) \\\\\n",
    "-\\exp(x_{n})\\exp(x_{1}) & \\dots & -\\exp(x_{n})\\exp(x_{n-1}) & \\exp(x_{n})(\\sum_{j=1}^{n}\\exp(x_{j})-\\exp(x_{n})) \\\\\n",
    "\\end{matrix}\\right] $$"
   ]
  },
  {
   "cell_type": "markdown",
   "metadata": {},
   "source": [
    "## 3.2\n",
    "(問) 例3.11の設定において, 連立一次方程式(3.32)$A\\bm{x}=\\bm{b}$の解と無制約最適化問題(3.33)$\\text{ Minimize }\\frac{1}{2}\\bm{x}^{\\top}A\\bm{x}-\\bm{b}^{\\top}\\bm{x}$の解が一致することを示せ. また, $\\nabla^{2}f(\\bm{x})=A$であることを示せ.\n",
    "\n",
    "(答) \n",
    "Since $A$ is symetric positive definite matirix, FOC of (3.33) is $\\nabla f(\\bm{x})=A\\bm{x} - \\bm{b} = \\bm{0}$, which is the same as (3.32). Note that \n",
    "$\\nabla^{2}f(\\bm{x})=A^{\\top}=A$ is positive definite, so FOC lead global minimum."
   ]
  },
  {
   "cell_type": "markdown",
   "metadata": {},
   "source": [
    "## 3.3\n",
    "(問) 練習問題3.1の(i), (ii)の関数について初期点を適当に定め, 最急降下法での最初の2反復目までを実際に計算してみよ. また同様にニュートン法での最初の2反復目までを実際に計算してみよ."
   ]
  },
  {
   "cell_type": "markdown",
   "metadata": {},
   "source": [
    "(i) $f(\\bm{x}) = 2x_{1}^{3} - x_{1}^{2}x_{2} + 2x_{2}^{2}$\n",
    "$$\\nabla f(\\bm{x}) = \\left[\\begin{matrix}6x_{1}^{2} - 2x_{1}x_{2} \\\\ - x_{1}^{2} + 4x_{2}\\end{matrix}\\right],\n",
    "\\nabla^{2} f(\\bm{x}) = \\left[\\begin{matrix}12x_{1} - 2x_{2} & -2x_{1} \\\\ -2x_{1} & 4\\end{matrix}\\right] $$\n",
    "\n",
    "(ii) $f(\\bm{x}) = (x_{1} - 3)^{2} + x_{1}x_{2} + \\frac{1}{16}x_{2}^{4} + (x_{2} - 1)^{2}$\n",
    "$$\\nabla f(\\bm{x}) = \\left[\\begin{matrix}\n",
    "2(x_{1} - 3) + x_{2} \\\\ \n",
    "x_{1} + \\frac{1}{4}x_{2}^{3} + 2(x_{2} - 1)\n",
    "\\end{matrix}\\right],\n",
    "\\nabla^{2} f(\\bm{x}) = \\left[\\begin{matrix}\n",
    "2 & 1 \\\\ \n",
    "1 & \\frac{3}{4}x_{2}^{2} + 2\n",
    "\\end{matrix}\\right] $$"
   ]
  },
  {
   "cell_type": "code",
   "execution_count": 22,
   "metadata": {},
   "outputs": [],
   "source": [
    "def gradient_decent(f, var, x_init, alpha, step = 100, epsilon = 0, keep_history = False):\n",
    "    \"\"\"\n",
    "    Gradient decent method\n",
    "    return: np.ndarray if keep_history, it has trajectory\n",
    "    input:\n",
    "        f: sympy expression where matrix var to minimize\n",
    "        var: sympy matrix which is variable to minimize\n",
    "        x_init: np.ndarray of init value for x\n",
    "        alpha: float of parameter\n",
    "        step: max step number\n",
    "        eplison: threshold to stop iteration based on norm of derivative \n",
    "        keep_history: bool\n",
    "    \"\"\"\n",
    "    \n",
    "    counter = 0\n",
    "    x = x_init\n",
    "    if keep_history:\n",
    "        history = x.reshape(1, len(x)).copy()\n",
    "\n",
    "    df = lambdify(var, f.diff(var), 'numpy')\n",
    "    dfx = df(*x).reshape(len(x))\n",
    "    while counter < step and np.linalg.norm(dfx) > epsilon:\n",
    "        x += alpha * (-dfx)\n",
    "        counter += 1\n",
    "        dfx = df(*x).reshape(len(x))\n",
    "        if keep_history:\n",
    "            history = np.append(history, x.reshape(1, len(x)), axis = 0)\n",
    "    \n",
    "    if keep_history:\n",
    "        return history\n",
    "    else:\n",
    "        return x\n"
   ]
  },
  {
   "cell_type": "code",
   "execution_count": 94,
   "metadata": {},
   "outputs": [],
   "source": [
    "def newton_method(f, var, x_init, alpha, step = 100, epsilon = 0, keep_history = False):\n",
    "    \"\"\"\n",
    "    Newton method\n",
    "    return: np.ndarray if keep_history, it has trajectory\n",
    "    input:\n",
    "        f: sympy expression where matrix var to minimize\n",
    "        var: sympy matrix which is variable to minimize\n",
    "        x_init: np.ndarray of init value for x\n",
    "        alpha: float of parameter\n",
    "        step: max step number\n",
    "        eplison: threshold to stop iteration based on norm of derivative \n",
    "        keep_history: bool\n",
    "    \"\"\"\n",
    "    \n",
    "    counter = 0\n",
    "    x = x_init\n",
    "    if keep_history:\n",
    "        history = x.reshape(1, len(x)).copy()\n",
    "\n",
    "    df = lambdify(var, f.diff(var), 'numpy')\n",
    "    ddf = lambdify(var, f.diff(var, 2).reshape(len(x), len(x)), 'numpy')\n",
    "    while counter < step:\n",
    "        dfx = df(*x).reshape(len(x))\n",
    "        ddfx = np.array(ddf(*x))\n",
    "        if np.linalg.det(ddf(*x)) == 0:\n",
    "            print('Determinant of Hessian is 0')\n",
    "            return False \n",
    "        d = np.linalg.inv(ddfx).dot(dfx).reshape(len(x))\n",
    "        if np.linalg.norm(d) < epsilon:\n",
    "            break \n",
    "    \n",
    "        x += alpha * (-d)\n",
    "        counter += 1\n",
    "        dfx = df(*x).reshape(len(x))\n",
    "        if keep_history:\n",
    "            history = np.append(history, x.reshape(1, len(x)), axis = 0)\n",
    "        \n",
    "    if keep_history:\n",
    "        return history\n",
    "    else:\n",
    "        return x\n"
   ]
  },
  {
   "cell_type": "code",
   "execution_count": 95,
   "metadata": {},
   "outputs": [
    {
     "name": "stdout",
     "output_type": "stream",
     "text": [
      "[[0.2       0.4      ]\n",
      " [0.2       0.4      ]\n",
      " [0.184     0.088    ]\n",
      " [0.1498496 0.0243712]]\n",
      "[[ 1.00000000e+00  1.00000000e+00]\n",
      " [ 3.88888889e-01 -5.55555556e-02]\n",
      " [ 1.99114224e-01  9.08012749e-04]\n",
      " [ 9.94801082e-02 -7.66629297e-06]]\n"
     ]
    }
   ],
   "source": [
    "# (i)\n",
    "x1, x2 = symbols('x1 x2')\n",
    "x = Matrix([x1, x2])\n",
    "f =  2 * x1**3 - x1**2 * x2 + 2 * x2**2\n",
    "history_gd = gradient_decent(f, x, x_init=np.array([1., 1.]), alpha = 0.2, step = 3, keep_history=True)\n",
    "print(history_gd)\n",
    "history_nm = newton_method(f, x, x_init=np.array([1., 1.]), alpha = 1., step = 3, keep_history=True)\n",
    "print(history_nm)"
   ]
  },
  {
   "cell_type": "code",
   "execution_count": 96,
   "metadata": {},
   "outputs": [
    {
     "data": {
      "image/png": "[encoded data removed]",
      "text/plain": [
       "<Figure size 432x288 with 1 Axes>"
      ]
     },
     "metadata": {
      "needs_background": "light"
     },
     "output_type": "display_data"
    }
   ],
   "source": [
    "x1 = np.arange(100)\n",
    "x2 = np.arange(100)\n",
    "x1, x2 = np.meshgrid(x1, x2)\n",
    "f = 2 * x1**3 - x1**2 * x2 + 2 * x2**2\n",
    "for i in range(len(history_nm)-1):\n",
    "    plt.quiver(*history_nm[i], *history_nm[i+1])\n",
    "plt.contour(x1, x2, f)\n",
    "plt.show()"
   ]
  },
  {
   "cell_type": "markdown",
   "metadata": {},
   "source": [
    "## 3.4\n",
    "(問) 次の制約付き最適化問題に対するKKT条件を書け. ただし, $A\\in \\mathbb{R}^{m \\times n}$は定行列であり, $\\bm{b}\\in\\mathbb{R}^{m}$は定ベクトルである.\n",
    "\n",
    "(答) \n",
    "\n",
    "(i) 非負制約つき最小2乗法:\n",
    "$$\\begin{aligned}\n",
    "\\text{Minimize } &\\frac{1}{2}\\| A\\bm{x} - \\bm{b} \\|_{2}^{2} \\\\\n",
    "\\text{subject to }& \\bm{x} \\ge \\bm{0}\n",
    "\\end{aligned}$$\n",
    "KKT condition:\n",
    "$$\n",
    "\\begin{aligned}\n",
    "& A^{\\top}A\\bm{x} - A^{\\top}\\bm{b} - \\left[\\begin{matrix}\\lambda_{1} \\\\ \\vdots \\\\ \\lambda_{n}\\end{matrix}\\right] = \\bm{0}, \\\\\n",
    "& x_{i} \\ge 0,\\ \\lambda_{i} \\ge 0,\\ \\lambda_{i}x_{i} = 0, &  i = 1, \\dots, n\n",
    "\\end{aligned}\n",
    "$$\n",
    "\n",
    "(ii)\n",
    "$$\\begin{aligned}\n",
    "\\text{Minimize } & \\sum_{j=1}^{n}x_{j}\\log x_{j}\\\\\n",
    "\\text{subject to } & \\sum_{j=1}^{n}x_{j} = 1\\\\ & \\bm{x} \\ge \\bm{0}\n",
    "\\end{aligned}$$\n",
    "この形式は例えばエントロピー最大化によるノンパラメトリック推定に現れる\n",
    "\n",
    "KKT condition:\n",
    "$$\n",
    "\\begin{aligned}\n",
    "& \\log(x_{i}) + 1 - \\lambda_{i} - \\mu_{i} = 0 &  i = 1, \\dots, n \\\\\n",
    "& x_{j} \\ge 0,\\ \\lambda_{j} \\ge 0,\\ \\lambda_{j}x_{j} = 0, &  j = 1, \\dots, n \\\\\n",
    "& \\sum_{k=1}^{n}x_{k}=1,\\\\\n",
    "\\end{aligned}\n",
    "$$"
   ]
  },
  {
   "cell_type": "markdown",
   "metadata": {},
   "source": [
    "## 3.5\n",
    "(問) 2変数の非線形計画問題の例で, 局所最適解において1次独立制約想定が成り立たないものをつくり, その局所最適解でKKT条件を満たすラグランジュ定数が存在するか調べよ.\n",
    "\n",
    "(答) \n"
   ]
  },
  {
   "cell_type": "markdown",
   "metadata": {},
   "source": [
    "## 3.6\n",
    "(問) $\\ell_{1}$ノルム正則化付き最小2乗法\n",
    "$$\\text{Minimize} \\frac{1}{2}\\left\\|\\sum_{j=1}^{n}x_{j}\\bm{a}_{j}-\\bm{b}\\right\\|_{2}^{2} + \\gamma\\sum_{j=1}^{n}|x_{j}|$$\n",
    "に対する座標急降下法の更新は\n",
    "$$x_{l} \\leftarrow \\frac{1}{\\|\\bm{a}_{l}\\|_{2}^{2}}\\psi\\left( \\left(\\bm{b} - \\sum_{j\\neq l}x_{j}\\bm{a}_{j} \\right) ^{\\top}\\bm{a}_{l}\\right)$$\n",
    "とかけることを示せ.ただし, $\\gamma$は正の定数であり,\n",
    "$$\\psi(s)=\\begin{cases}\n",
    "s-\\gamma & (s > \\gamma \\text{のとき}),\\\\\n",
    "0 & (|s| \\le \\gamma \\text{のとき}), \\\\\n",
    "s + \\gamma & (s < -\\gamma \\text{のとき}),\n",
    "\\end{cases}$$\n",
    "である. \n",
    "\n",
    "(答) \n"
   ]
  },
  {
   "cell_type": "code",
   "execution_count": null,
   "metadata": {},
   "outputs": [],
   "source": []
  }
 ],
 "metadata": {
  "interpreter": {
   "hash": "d4d1e4263499bec80672ea0156c357c1ee493ec2b1c70f0acce89fc37c4a6abe"
  },
  "kernelspec": {
   "display_name": "Python 3.9.7 64-bit ('base': conda)",
   "language": "python",
   "name": "python3"
  },
  "language_info": {
   "codemirror_mode": {
    "name": "ipython",
    "version": 3
   },
   "file_extension": ".py",
   "mimetype": "text/x-python",
   "name": "python",
   "nbconvert_exporter": "python",
   "pygments_lexer": "ipython3",
   "version": "3.9.7"
  },
  "orig_nbformat": 4
 },
 "nbformat": 4,
 "nbformat_minor": 2
}
