{
 "cells": [
  {
   "cell_type": "markdown",
   "metadata": {},
   "source": [
    "# 6.1\n",
    "\n",
    "(i) \n",
    "\n",
    "以下2つの経路が考えられる。\n",
    "- $v_5 \\rightarrow v_6 \\rightarrow v_3 \\rightarrow v_1 \\rightarrow v_3 \\rightarrow v_2 \\rightarrow v_4 \\rightarrow v_3 \\rightarrow v_6 \\rightarrow v_5$\n",
    "- $v_5 \\rightarrow v_6 \\rightarrow v_3 \\rightarrow v_2 \\rightarrow v_4 \\rightarrow v_2 \\rightarrow v_3 \\rightarrow v_1 \\rightarrow v_3 \\rightarrow v_6 \\rightarrow v_5$\n",
    "\n",
    "すでに一度訪れた点はスキップすると、以下2つの近似解が得られる。\n",
    "- $v_5 \\rightarrow v_6 \\rightarrow v_3 \\rightarrow v_1 \\rightarrow v_2 \\rightarrow v_4 \\rightarrow v_5$\n",
    "- $v_5 \\rightarrow v_6 \\rightarrow v_3 \\rightarrow v_2 \\rightarrow v_4 \\rightarrow v_1 \\rightarrow v_5$\n",
    "\n",
    "(ii)\n",
    "\n",
    "最適巡回路から1辺を除くと全域木のなるので、最適巡回路の重みが最小木の重み以下になることはありえないことを考慮すると、\n",
    "\n",
    "（最適巡回路の重み）$\\geq$ （図6.13 (b)）$=$ 1/2（図6.13 (c)）$\\geq$ 1/2（図6.13 (d)）"
   ]
  },
  {
   "cell_type": "markdown",
   "metadata": {},
   "source": [
    "# 6.2\n",
    "\n",
    "(i) \n",
    "\n",
    "$v\\in{V}$ とつながる辺に対して、カット $(S, V-S)$ に含まれるへの辺の数を $n_v^1$、含まれない辺の数を $n_v^0$ とすると、 今回の局所探索法で得られるカット $(S^*, V-S^*)$では、任意の $v\\in{V}$ について、$n_v^1 \\geq n_v^0$ が成り立つ。\n",
    "\n",
    "また、1つの辺は2つの点とつながるので、$2|E| = \\sum_{v\\in{V}} (n_v^0+n_v^1)$ が成り立つ。\n",
    "\n",
    "この局所探索法でのカットに含まれる辺の数は、$\\frac{1}{2} \\sum_{v\\in{V}} n_v^1$ なので、以下が成り立つ。\n",
    "\n",
    "\\begin{align*}\n",
    "    \\frac{1}{2} \\sum_{v\\in{V}} n_v^1 &\\geq \\frac{1}{4} \\sum_{v\\in{V}} (n_v^0+n_v^1) \\\\\n",
    "                                     &= \\frac{1}{2}|E|\n",
    "\\end{align*}\n",
    "\n",
    "最大カット数が、辺の総数以下であることは自明なので、この局所探索方は、最大カット問題の0.5-近似解法である。\n",
    "\n",
    "(ii)\n",
    "\n",
    "$f(S)$ をカット $(S, V-S)$ に含まれるへの辺の数とすると、\n",
    "\n",
    "1. $S_0 \\leftarrow \\empty$\n",
    "2. for $k=1, \\cdots, |V|$ do\n",
    "    - if there exists $j\\in{V}$ which satisfies $f(S_{k-1} \\cup \\{j\\}) > f(S_{k-1})$\n",
    "        - $j^* \\leftarrow \\argmax{f(S_{k-1} \\cup \\{j\\} \\ | \\ j\\in{V}) }$\n",
    "        - $S_k \\leftarrow S_{k-1} \\cup \\{j\\}$\n",
    "    - else $S_k \\leftarrow S_{k-1}$\n",
    "3. return $S_{|V|}$\n"
   ]
  },
  {
   "cell_type": "markdown",
   "metadata": {},
   "source": [
    "# 6.3\n",
    "\n",
    "(i) \n",
    "\n",
    "$k$-センター問題の最適クラスタリングを $\\tilde{C}_1, \\cdots, \\tilde{C}_k$、クラスター中心を $\\tilde{s}_1, \\cdots, \\tilde{s}_k$ とする。\n",
    "\n",
    "同様に、最遠点クラスタリング法で得られるクラスタリングを $C_1^*, \\cdots, C_k^*$、クラスター中心を $s_1^*, \\cdots, s_k^*$ とする。\n",
    "\n",
    "$\\tilde{U} = \\{\\tilde{s}_1, \\cdots, \\tilde{s}_k \\}$, $U^* = \\{s_1^*, \\cdots, s_k^*\\}$ とおくと、$\\tilde{\\delta} = \\max{\\{ \\rho(s_l, \\tilde{U}) \\ | \\ s_l\\in{V}\\}}$, $\\delta^* = \\max{\\{ \\rho(s_l, U^*) \\ | \\ s_l\\in{V}\\}}$ について、$\\delta^* \\leq  2\\tilde{\\delta}$ が成り立つこと証明したい。\n",
    "\n",
    "$s_{k+1}^* = \\argmax{\\{ \\rho(s_l, U^*) \\ | \\ s_l\\in{V}\\}}$ とおくと、$s_1^*, \\cdots, s_k^*, s_{k+1}^*$ のち、少なくとも２点はある $k$-センター問題の最適クラスタリング $\\tilde{C}_r\\in{\\tilde{U}}$ に属することがわかる。\n",
    "\n",
    "このとき、$s_1^*, \\cdots, s_{k+1}^*$ における２点間の距離は $\\delta^*$ 以上となる。（そうでないと、最遠点クラスタリング法に矛盾する）\n",
    "\n",
    "ここで、$\\tilde{C}_r$ に $s_i^*$ と $s_j^*$ が属しているとすると、三角不等式より、$\\max{\\{p(\\tilde{s}_r, s_i^*), p(\\tilde{s}_r, s_j^*)\\}}\\geq \\frac{\\delta^*}{2}$\n",
    "\n",
    "よって、$\\tilde{C}_r$ のクラスタリングの大きさは $\\frac{\\delta^*}{2}$ 以上であることがわかるので、$\\frac{\\delta^*}{2} \\leq \\tilde{\\delta} \\Leftrightarrow \\delta^* \\leq  2\\tilde{\\delta}$ が成り立つ。\n",
    "\n",
    "(ii)\n",
    "\n",
    "(i)より、三角不等式の等号成立は、$\\tilde{s}_r$ を中心として、$\\tilde{s}_r, s_i^*, s_j^*$ が一直線に並ぶ状況である。\n",
    "\n",
    "このことから、$k=2$ について、以下のような例が考えられる。（$\\tilde{\\delta} = 1, \\ \\delta^* = 2$）"
   ]
  },
  {
   "cell_type": "code",
   "execution_count": 5,
   "metadata": {},
   "outputs": [
    {
     "data": {
      "text/plain": [
       "<matplotlib.collections.PathCollection at 0x7fd09aa6b970>"
      ]
     },
     "execution_count": 5,
     "metadata": {},
     "output_type": "execute_result"
    },
    {
     "data": {
      "image/png": "[encoded data removed]",
      "text/plain": [
       "<Figure size 432x288 with 1 Axes>"
      ]
     },
     "metadata": {
      "needs_background": "light"
     },
     "output_type": "display_data"
    }
   ],
   "source": [
    "import matplotlib.pyplot as plt\n",
    "plt.scatter([-4, -3, -2, 2, 3, 4], [0, 0, 0, 0, 0, 0])"
   ]
  },
  {
   "cell_type": "markdown",
   "metadata": {},
   "source": [
    "# 6.4\n",
    "\n",
    "(i) \n",
    "\n",
    "$j\\in{V-S}$ を $S$ に追加した時に、$j$ を端点とした辺のもう一方の端点が $S$ に含まれているかどうかを考える。\n",
    "\n",
    "$j$ を端点とした辺のもう一方の端点が $S$ に含まれていない辺の集合を $|E'|$ とすると、$f(S \\cup \\{j\\}) - f(S) = |E'|$\n",
    "\n",
    "$T \\supseteq S$ を考えると、$S$ は $T$ の部分集合なので、$f(T \\cup \\{j\\}) - f(T) \\leq |E'|$ が成り立つ。\n",
    "\n",
    "よって、$f(S \\cup \\{j\\}) - f(S) \\geq f(T \\cup \\{j\\}) - f(T)$ が成り立つので、$f(S)$ は劣モジュラ関数。\n",
    "\n",
    "(ii)\n",
    "\n",
    "(i) と同様\n"
   ]
  },
  {
   "cell_type": "markdown",
   "metadata": {},
   "source": []
  }
 ],
 "metadata": {
  "interpreter": {
   "hash": "aee8b7b246df8f9039afb4144a1f6fd8d2ca17a180786b69acc140d282b71a49"
  },
  "kernelspec": {
   "display_name": "Python 3.8.2 64-bit",
   "language": "python",
   "name": "python3"
  },
  "language_info": {
   "codemirror_mode": {
    "name": "ipython",
    "version": 3
   },
   "file_extension": ".py",
   "mimetype": "text/x-python",
   "name": "python",
   "nbconvert_exporter": "python",
   "pygments_lexer": "ipython3",
   "version": "3.8.2"
  },
  "orig_nbformat": 4
 },
 "nbformat": 4,
 "nbformat_minor": 2
}
