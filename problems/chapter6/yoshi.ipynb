{
 "cells": [
  {
   "cell_type": "markdown",
   "metadata": {},
   "source": [
    "### 6-1\n",
    "#### 問\n",
    "- (1) 図6.13(a)のグラフにおいて, 点 $v_5$ を視点にした場合はどのような近似解が得られるか.\n",
    "#### 答\n",
    "- 以下のような経路が考えられる.\n",
    "    - $v_5 \\rightarrow v_6 \\rightarrow v_3 \\rightarrow v_1 \\rightarrow v_3 \\rightarrow v_2 \\rightarrow v_4 \\rightarrow v_2 \\rightarrow v_3 \\rightarrow v_6 \\rightarrow v_5$\n",
    "    - $v_5 \\rightarrow v_6 \\rightarrow v_3 \\rightarrow v_2 \\rightarrow v_4 \\rightarrow v_2 \\rightarrow v_3 \\rightarrow v_1 \\rightarrow v_3 \\rightarrow v_6 \\rightarrow v_5$\n",
    "- よって, 近似解は以下のように得られる.\n",
    "    - $v_5 \\rightarrow v_6 \\rightarrow v_3 \\rightarrow v_1 \\rightarrow v_2 \\rightarrow v_4 \\rightarrow v_5$\n",
    "    - $v_5 \\rightarrow v_6 \\rightarrow v_3 \\rightarrow v_2 \\rightarrow v_4 \\rightarrow v_1 \\rightarrow v_5$"
   ]
  },
  {
   "cell_type": "markdown",
   "metadata": {},
   "source": [
    "#### 問\n",
    "- (2) この解放が2近似解法であることを示せ.\n",
    "#### 答\n",
    "- 最適解の重みを $w^{OPT}$ とし, 最小全域木の重みを$w^{MST}$とする. この時, OPTから辺を一本取り除いたときものは全域木であるから$w^{OPT} \\geq w^{MST}$\n",
    "- 最小全域木の辺を有向グラフ化したものから近似解$w$を得る時, 三角不等式から $2w^{MST} \\leq w$\n",
    "- よって近似界は2近似である."
   ]
  },
  {
   "cell_type": "markdown",
   "metadata": {},
   "source": [
    "### 6-2\n",
    "#### 問(i)\n",
    "- 最適解のカットを$C^{OPT}$とする. この時, C^{OPT} はカットの定義より $|C^{OPT}| \\leq |E|$.\n",
    "- アルゴリズムが返すカットをCとし, $2|C| < |E|$と仮定すると, |C| < |E \\ C|となるため,アルゴリズムの停止条件を満たさないことから, $2|C| \\geq |E|$\n",
    "- よって, $0.5|C^{OPT}| \\leq 0.5|E| \\leq |C|$ であるからアルゴリズムは0.5近似解を返す\n",
    "\n",
    "#### 問(ii)\n",
    "- $v^* \\in \\argmax c(\\{v\\}, V - \\{v\\})$ をとり,  $S = \\{v^*\\}$とする.\n",
    "- $v \\in V - S$を満たすvのうち, $|c(S \\cup \\{v\\}, V - S \\cup \\{v\\})| \\geq |c(S , V - S)|$ を満たす$v$が存在する場合, $v^* \\in \\argmax c(S \\cup \\{v\\}, V - S \\cup \\{v\\})$ をとる.\n",
    "- $S \\leftarrow S \\cup \\{v^*\\}$で$S$を更新する. $v^*$が取れない場合は停止し, c(S, V-S)を解として返す."
   ]
  },
  {
   "cell_type": "markdown",
   "metadata": {},
   "source": [
    "### 6-3\n",
    "#### (i)\n",
    "- 最適解のクラスタリングを $\\{C^{OPT}_1,  \\dots, C^{OPT}_k \\}$, クラスター中心を$U^{OPT}$とする.\n",
    "- 最遠点クラスタリング法によるクラスタリングを $\\{C_1,  \\dots, C_k \\}$, クラスター中心を$U$とする.\n",
    "- いま $s_{k+1}^* = \\argmax\\{\\rho(s_l, U) | s_l \\in V\\}, \\delta^* = \\max\\{\\rho(s_l, U) | s_l \\in V\\}$ とすると, $s_1^* \\dots s_k^* , s_{k+1}^* \\in U \\cup \\{s_{k+1}^*\\}$のうち２点を含む$C^{OPT}_i$が存在する.\n",
    "- $s_i^*, s_j^* \\in C^{OPT}_i$　は必ず $\\rho(s_i^*, s_j^* ) \\geq \\delta^*$ であるから $ \\max\\{ \\rho(s^{opt}_i, s) | s \\in C^{OPT}_i \\} \\geq \\frac{\\delta^*}{2}$ である. \n",
    "- よって, 最遠点クラスタリング法はk-センター問題の2近似解法である.\n",
    "\n",
    "\n",
    "#### (ii)\n",
    "- $R^2$で右の5点$(0, 0), (1, 0), (2, 0), (3, 0), (4, 0)$ の2-センター問題を最遠点クラスタリングし、(2, 0)を初期点とする.\n",
    "- 最遠遠として, (0, 0)が選ばれたのち, $(1, 0), (3, 0), (4, 0)$が$(2, 0)$のクラスターとして選ばれるとき, このクラスターでのk-センター問題での目的関数は2.\n",
    "- 一方k-センター問題の最適解は, $(1, 0), (3, 0)$をクラスタリング中心としてクラスターをつくった場合であり, この目的関数は1."
   ]
  },
  {
   "cell_type": "markdown",
   "metadata": {},
   "source": [
    "### 6-4\n",
    "#### (i)\n",
    "- 任意に$S \\subset T \\subset V, j \\in V - T$ であるような$S, T, j$ を固定する.\n",
    "- $f$は集合内の要素を単点とする辺の数を返す関数であるから,　以下が成り立つ.\n",
    " $$f(S \\cup \\{j\\}) - f(S) = |\\{v \\in V | (v, j) \\in E \\ \\text{and} \\ v \\notin S \\}|$$\n",
    "- この時, $S \\subset T$ であるから, \n",
    "$$ \\{v \\in V | (v, j) \\in E \\ \\text{and} \\ v \\notin T \\} \\subset \\{v \\in V | (v, j) \\in E \\ \\text{and} \\ v \\notin S \\}$$\n",
    "- よって, $f(S \\cup \\{j\\}) - f(S) \\geq f(T \\cup \\{j\\}) - f(T)$が成り立つので, $f$は劣モジュラ関数.\n",
    "\n",
    "#### (ii)\n",
    "- 任意に$S \\subset T \\subset E, j \\in E - T$であるような$S, T, j$ を固定する.\n",
    "- $g$は集合内の要素が端点に持つノードの数を返す関数であるから,　以下が成り立つ.\n",
    " $$g(S \\cup \\{j\\}) - g(S) = |\\{v \\in V| v \\in j \\ \\text{and} \\ \\forall e \\in S \\ v \\notin e\\}|$$\n",
    "- この時, $S \\subset T$ であるから, \n",
    "$$ \\{v \\in V| v \\in j \\ \\text{and} \\ \\forall e \\in T \\ v \\notin e\\} \\subset \\{v \\in V| v \\in j \\ \\text{and} \\ \\forall e \\in S \\ v \\notin e\\}$$\n",
    "- よって, $g(S \\cup \\{j\\}) - g(S) \\geq g(T \\cup \\{j\\}) - g(T)$が成り立つので, $g$は劣モジュラ関数."
   ]
  }
 ],
 "metadata": {
  "interpreter": {
   "hash": "beb4cf9dae92875600228d3972fe0816dec86166e2e7bb5e634c22474cb517ea"
  },
  "kernelspec": {
   "display_name": "Python 3.7.4 ('base')",
   "language": "python",
   "name": "python3"
  },
  "language_info": {
   "name": "python",
   "version": "3.7.4"
  },
  "orig_nbformat": 4
 },
 "nbformat": 4,
 "nbformat_minor": 2
}
