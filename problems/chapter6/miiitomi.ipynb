{
 "cells": [
  {
   "cell_type": "markdown",
   "metadata": {},
   "source": [
    "# 6.1\n",
    ">最小木問題の最適解を利用した, 巡回セールスマン問題の近似解法を考える.\n",
    ">重み付き無向グラフ $G = (V, E, c)$ が与えられている.\n",
    ">ただし, 任意の2点間には辺が存在し, 辺の重みは正で三角不等式を満たすものとする.\n",
    ">図 6.13(a) は6つの点からなるグラフ $G$ の例であり, 各辺の重みはその端点間のユークリッド距離で定められているとする.\n",
    ">近似解としては, まず $G$ の最小木を求める.\n",
    ">次に最小木の各辺を $2$ 本ずつにし, それぞれに異なる向きをつける.\n",
    ">そして, この向きのついた辺をすべてたどる経路を考える.\n",
    ">この経路ですでに一度訪れた点はスキップすることにすると, 巡回路が得られる.\n",
    ">この巡回路が巡回セールスマン問題の近似解になっている.\n",
    ">次の問いに答えよ."
   ]
  },
  {
   "cell_type": "markdown",
   "metadata": {},
   "source": [
    "(i)\n",
    ">図 6.13(a) のグラフにおいて, 点 $v_5$ を始点にした場合はどのような近似解が得られるか."
   ]
  },
  {
   "cell_type": "markdown",
   "metadata": {},
   "source": [
    "- $v_3$ の後に $v_1$ に進んだケース: $v_5 \\to v_6 \\to v_3 \\to v_1 \\to v_2 \\to v_4 \\to v_5$.\n",
    "- $v_3$ の後に $v_2$ に進んだケース: $v_5 \\to v_6 \\to v_3 \\to v_2 \\to v_4 \\to v_1 \\to v_5$."
   ]
  },
  {
   "cell_type": "markdown",
   "metadata": {},
   "source": [
    "(ii)\n",
    ">この解法が $2$-近似解法であることを示せ."
   ]
  },
  {
   "cell_type": "markdown",
   "metadata": {},
   "source": [
    "最適巡回路の重みを $\\overline{f}$, 上記の近似解法で得られる巡回路の重みを $f^o$ とする.\n",
    "また, グラフの最小全域木の重みを $f^{\\mathrm{tree}}$ とする.\n",
    "巡回路から辺を1つ除くと全域木になり, 重みはユークリッド距離のため非負であるため,\n",
    "$$\n",
    "    \\overline{f} \\ge f^{\\mathrm{tree}}. \\tag{1}\n",
    "$$\n",
    "近似解は, 最小全域木上で一周するようにした上で重複点は飛ばすようにしたものであるため, 三角不等式より以下が成り立つ.\n",
    "$$\n",
    "    2 f^{\\mathrm{tree}} \\ge f^o. \\tag{2}\n",
    "$$\n",
    "したがって (1) (2) より\n",
    "$$\n",
    "f^o \\le 2 \\overline{f}\n",
    "$$\n",
    "なので, この解法は $2$-近似解である.$_\\square$"
   ]
  },
  {
   "cell_type": "markdown",
   "metadata": {},
   "source": [
    "# 6.2\n",
    ">無向グラフ $G = (V, E)$ が与えられたとき, カット $(S, V\\setminus S)$ に含まれる辺の数が最大になるような $V$ の部分集合 $S$ を求める問題を, 最大カット問題と呼ぶ.\n",
    ">次の問いに答えよ."
   ]
  },
  {
   "cell_type": "markdown",
   "metadata": {},
   "source": [
    "(i)\n",
    ">最大カット問題に対して, 次の局所探索法を考える.\n",
    ">まず, $V$ からランダムにいくつかの点を選んで $S$ とする.\n",
    ">次に, $V\\setminus S$に属する点のうち, それを $S$ に移すことでカットの本数が増える点を $S$ に移す.\n",
    ">また, 同様に, $S$ に属する点のうち, それを $V \\setminus S$ に移すことでカットの本数が増える点を $V\\setminus S$ に移す.\n",
    ">このような操作を, $S$ が更新されなくなるまで繰り返す.\n",
    ">この局所探索法は, 最大カット問題の $0.5$-近似解法であることを示せ."
   ]
  },
  {
   "cell_type": "markdown",
   "metadata": {},
   "source": [
    "上記の近似解法によって得られた解を $S^o$ とする.  \n",
    "各点 $v \\in V$ に対し, $v$ と繋がっている辺のうちカット $(S^o, V\\setminus S^o)$ に含まれる辺の数を $c_v$, 含まれない辺の数を $d_v$ とおく.  \n",
    "まず各辺は $2$ つの点を結ぶものなので,\n",
    "$$\\sum_{v \\in V} (c_v + d_v) = 2 |E|. \\tag{1}$$\n",
    "また, 各点 $v$ について, \n",
    "$$ c_v \\ge d_v \\tag{2}$$\n",
    "が成り立つはずである.\n",
    "なぜなら, これが成り立たないとすると点 $v$ を移すことでカットの本数が増えることになってしまい, 仮定に反するからである.  \n",
    "よって, (1) (2) より,\n",
    "$$ \\frac{1}{2}\\sum_{v \\in V} c_v \\ge \\frac{1}{2}|E|. \\tag{3}$$\n",
    "(3) の左辺がこの近似解におけるカットの本数に他ならず, また最適値は明らかに $|E|$ 以下なので, この解法は $0.5$-近似解法である.$_\\square$"
   ]
  },
  {
   "cell_type": "markdown",
   "metadata": {},
   "source": [
    "(ii)\n",
    ">最大カット問題に対して, 劣モジュラ最大化に基づく貪欲算法を設計せよ."
   ]
  },
  {
   "cell_type": "markdown",
   "metadata": {},
   "source": [
    "1. $S_0 \\leftarrow \\emptyset$ と初期化する.\n",
    "2. for $k = 1, 2, \\dots, |V|$ do\n",
    "    - if $V\\setminus S_{k-1}$ に含まれる点 $v$ のうち, $S_{k-1}$ に加えることでカット本数が増えるものが存在する:\n",
    "        - $j^* \\leftarrow $最もカット本数の増分が大きい点\n",
    "        - $S_k \\leftarrow S_{k-1} \\cup \\{j^*\\}$\n",
    "    - else:\n",
    "        - $S_k \\leftarrow S_{k-1}$\n",
    "3. $S_{|V|}$ を出力."
   ]
  },
  {
   "cell_type": "markdown",
   "metadata": {},
   "source": [
    "# 6.3\n",
    ">**$k$-センター問題**とは, データ点の集合 $V = \\{s_1, s_2, \\dots, s_m\\}$ に対して以下の最適化問題として定式化される.\n",
    ">$$\n",
    ">\\min_{U \\subseteq V: |U| = k} \\max_{v \\in V}\\rho(v, U)\n",
    ">$$"
   ]
  },
  {
   "cell_type": "markdown",
   "metadata": {},
   "source": [
    "(i)\n",
    ">最遠点クラスタリング法がこの $k$-センター問題の $2$-近似解を得ることを示せ."
   ]
  },
  {
   "cell_type": "markdown",
   "metadata": {},
   "source": [
    "最遠点クラスタリングによって得られるセンターを順に $s_1^o, s_2^o, \\dots, s_k^o$ とし, その次に $k+1$ 番目の点を選ぶとしたら選ばれる点を $s_{k+1}^o$ とおく.\n",
    "この近似解における値 $f^o$ は\n",
    "$$ f^o = \\rho(s_{k+1}^o, \\{s_1^o,\\dots, s_k^o\\}) $$\n",
    "であり, $s_1^o, \\dots, s_{k+1}^o$ の任意の2点間の距離は $f^o$ 以上である.  \n",
    "\n",
    "$k$-センター問題における最適解を $U^* = \\{s_1^*, \\dots, s_k^*\\}$ とし, 最適値を $f^*$ とおく.  \n",
    "$s_1^o, \\dots, s_{k+1}^o$ の内の少なくともある $2$ 点 $s_i^o, s_j^o$ について, $U^*$ 内で最も近い点が同じであるはずである（これを $s_h^*$ とする）.  \n",
    "したがって,\n",
    "$$\n",
    "\\begin{align*}\n",
    "f^* &\\ge \\max\\{ \\rho(s_i^o, s_{h}^*) , \\rho(s_j^o, s_{h}^*)\\} \\\\\n",
    "&\\ge \\frac{1}{2}(\\rho(s_i^o, s_{h}^*) +\\rho(s_j^o, s_{h}^*)) \\\\\n",
    "& \\ge \\frac{1}{2}\\rho(s_i^o, s_j^o)\\\\\n",
    "&\\ge \\frac{1}{2}f^o.\n",
    "\\end{align*}\n",
    "$$\n",
    "よって $f_o \\le 2 f^*$ であり, この解法は $2$-近似解法である.$_\\square$"
   ]
  },
  {
   "cell_type": "markdown",
   "metadata": {},
   "source": [
    "(ii)\n",
    ">最遠点クラスタリング法で得られる解の目的関数値が, $k$-センター問題の最適値のちょうど $2$ 倍になるようなデータの例をあげよ."
   ]
  },
  {
   "cell_type": "markdown",
   "metadata": {},
   "source": [
    "次の $6$ 点に対する $k=2$-センター問題を考える（距離は普通のユークリッド距離）."
   ]
  },
  {
   "cell_type": "code",
   "execution_count": 1,
   "metadata": {},
   "outputs": [
    {
     "data": {
      "image/png": "[encoded data removed]",
      "text/plain": [
       "<Figure size 432x288 with 1 Axes>"
      ]
     },
     "metadata": {
      "needs_background": "light"
     },
     "output_type": "display_data"
    }
   ],
   "source": [
    "import matplotlib.pyplot as plt\n",
    "plt.scatter([0,1,2,5,6,7], [0]*6)\n",
    "plt.show()"
   ]
  },
  {
   "cell_type": "markdown",
   "metadata": {},
   "source": [
    "最適解は明らかに, $x = 1, 6$ の位置の2点をセンターとするものであり, 最適値は $1$ になる."
   ]
  },
  {
   "cell_type": "code",
   "execution_count": 2,
   "metadata": {},
   "outputs": [
    {
     "data": {
      "image/png": "[encoded data removed]",
      "text/plain": [
       "<Figure size 432x288 with 1 Axes>"
      ]
     },
     "metadata": {
      "needs_background": "light"
     },
     "output_type": "display_data"
    }
   ],
   "source": [
    "plt.scatter([0,2,5,7], [0]*4)\n",
    "plt.scatter([1,6], [0]*2, c=\"red\")\n",
    "plt.show()"
   ]
  },
  {
   "cell_type": "markdown",
   "metadata": {},
   "source": [
    "最遠点クラスタリングでは最初の点 $s_1$ は任意に選ばれるが, 一般性を失うことなく左3つのうちどれかが選ばれたとして良い.  \n",
    "このとき, $s_2$ は $x = 7$ の位置にある点となり, この解における値は $5$ と $7$ の距離である $2$ になる.  \n",
    "したがって, この例では最初の点がどのように選ばれたとしても, 最遠点クラスタリングで得られる解の値は $2$ であり, 最適値のちょうど $2$ 倍となる."
   ]
  },
  {
   "cell_type": "code",
   "execution_count": 3,
   "metadata": {},
   "outputs": [
    {
     "data": {
      "image/png": "[encoded data removed]",
      "text/plain": [
       "<Figure size 432x288 with 1 Axes>"
      ]
     },
     "metadata": {
      "needs_background": "light"
     },
     "output_type": "display_data"
    }
   ],
   "source": [
    "# 最初に x = 1 の位置の点が選ばれた場合の例\n",
    "plt.scatter([0,2,5,6], [0]*4)\n",
    "plt.scatter([1,7], [0]*2, c=\"red\")\n",
    "plt.show()"
   ]
  },
  {
   "cell_type": "markdown",
   "metadata": {},
   "source": [
    "# 6.4\n",
    ">無向グラフ $G = (V, E)$ に関して, 次の問いに答えよ."
   ]
  },
  {
   "cell_type": "markdown",
   "metadata": {},
   "source": [
    "(i)\n",
    ">点集合 $S \\subseteq V$ に属する点を端点とする辺の数を $f(S)$ で表すとき, $f$ が劣モジュラ関数であることを示せ."
   ]
  },
  {
   "cell_type": "markdown",
   "metadata": {},
   "source": [
    "任意の $S\\subset T (\\subset V)$ と任意の $j \\in V \\setminus T$ に対し,\n",
    "$$\n",
    "\\begin{align*}\n",
    "&f(S \\cup \\{j\\}) - f(S) = |\\{(j, k) \\in E \\mid k \\notin S\\}|, \\\\\n",
    "&f(T \\cup \\{j\\}) - f(T) = |\\{(j, k) \\in E \\mid k \\notin T\\}| \n",
    "\\end{align*}\n",
    "$$\n",
    "であり, $S \\subset T$ より\n",
    "$$\n",
    "\\{(j, k) \\in E \\mid k \\notin T\\} \\subset \\{(j, k) \\in E \\mid k \\notin S\\}\n",
    "$$\n",
    "なので, \n",
    "$$\n",
    "f(S \\cup \\{j\\}) - f(S) \\ge f(T \\cup \\{j\\}) - f(T).\n",
    "$$\n",
    "したがって, $f$ は劣モジュラ関数である.$_\\square$"
   ]
  },
  {
   "cell_type": "markdown",
   "metadata": {},
   "source": [
    "(ii)\n",
    ">辺集合 $T \\subseteq E$ に属する辺の端点である点の数を $g(T)$ で表すとき, $g$ が列モジュラ関数であることを示せ."
   ]
  },
  {
   "cell_type": "markdown",
   "metadata": {},
   "source": [
    "任意の $S \\subset T (\\subset E)$ と任意の $e \\in E \\setminus T$ に対し,\n",
    "$$\n",
    "\\begin{align*}\n",
    "&g(S\\cup\\{e\\}) - g(S) = |\\{v \\in V \\mid \\text{$v$ は $e$ の端点であり, $S$ 内の辺の端点でない}\\}|, \\\\\n",
    "&g(T\\cup\\{e\\}) - g(T) = |\\{v \\in V \\mid \\text{$v$ は $e$ の端点であり, $T$ 内の辺の端点でない}\\}|\n",
    "\\end{align*}\n",
    "$$\n",
    "であり, $S \\subset T$ より\n",
    "$$\n",
    "\\begin{align*}\n",
    "&\\{v \\in V \\mid \\text{$v$ は $e$ の端点であり, $T$ 内の辺の端点でない}\\}\\\\\n",
    "\\subset \\ &\\{v \\in V \\mid \\text{$v$ は $e$ の端点であり, $S$ 内の辺の端点でない}\\}\n",
    "\\end{align*}\n",
    "$$\n",
    "なので, \n",
    "$$\n",
    "g(S\\cup\\{e\\}) - g(S) \\ge g(T\\cup\\{e\\}) - g(T).\n",
    "$$\n",
    "したがって, $g$ は劣モジュラ関数である.$_\\square$"
   ]
  }
 ],
 "metadata": {
  "interpreter": {
   "hash": "05a82b1fc6c84bbe6ce55a75b7a9effe7f262f72ad6281ff12557de44c45853c"
  },
  "kernelspec": {
   "display_name": "Python 3.9.10 ('base')",
   "language": "python",
   "name": "python3"
  },
  "language_info": {
   "codemirror_mode": {
    "name": "ipython",
    "version": 3
   },
   "file_extension": ".py",
   "mimetype": "text/x-python",
   "name": "python",
   "nbconvert_exporter": "python",
   "pygments_lexer": "ipython3",
   "version": "3.9.10"
  },
  "orig_nbformat": 4
 },
 "nbformat": 4,
 "nbformat_minor": 2
}
