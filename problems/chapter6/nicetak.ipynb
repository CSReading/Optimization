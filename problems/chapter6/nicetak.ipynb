{
 "cells": [
  {
   "cell_type": "markdown",
   "metadata": {},
   "source": [
    "# Chapter 6\n",
    "#### Nicetak"
   ]
  },
  {
   "cell_type": "code",
   "execution_count": 2,
   "metadata": {},
   "outputs": [
    {
     "data": {
      "text/plain": [
       "'February 20, 2022'"
      ]
     },
     "execution_count": 2,
     "metadata": {},
     "output_type": "execute_result"
    }
   ],
   "source": [
    "import datetime; datetime.datetime.now().strftime('%B %-d, %Y')"
   ]
  },
  {
   "cell_type": "code",
   "execution_count": 1,
   "metadata": {},
   "outputs": [],
   "source": [
    "import networkx as nx\n",
    "import matplotlib.pyplot as plt"
   ]
  },
  {
   "cell_type": "markdown",
   "metadata": {},
   "source": [
    "## 6.1\n",
    "### 6.1 (i)\n",
    ">図6.13(a)のグラフにおいて, 点$v_5$を始点にした場合はどのような近似解が得られるか.\n",
    "\n",
    "例えば $v_5 \\rightarrow v_6 \\rightarrow v_3 \\rightarrow v_1 \\rightarrow v_2 \\rightarrow v_4 \\rightarrow v_5$"
   ]
  },
  {
   "cell_type": "markdown",
   "metadata": {},
   "source": [
    "### 6.1 (ii)\n",
    ">この解法が2-近似解法であることを示せ.\n",
    "\n",
    "最適解を$T^*$, 図6.13(b)-(d)を　$T_b, T_c, T_d$ とおいた時, 重み関数を $w(\\cdot)$ として,\n",
    "$$\\begin{aligned}\n",
    "w(T^*) &\\ge w(T_b) & (T^* \\text{は全域木に一辺足したもの}) \\\\\n",
    "&\\ge \\frac{1}{2}w(T_c) \\\\\n",
    "&\\ge \\frac{1}{2}w(T_d) & (\\text{距離に関する三角不等式より})\n",
    "\\end{aligned}$$"
   ]
  },
  {
   "cell_type": "markdown",
   "metadata": {},
   "source": [
    "## 6.2\n",
    "### 6.2 (i)\n",
    ">この局所探索法が最大カット問題の0.5-近似解法であることを示せ."
   ]
  },
  {
   "cell_type": "markdown",
   "metadata": {},
   "source": []
  },
  {
   "cell_type": "markdown",
   "metadata": {},
   "source": [
    "### 6.2 (ii)\n",
    ">最大カット問題に対して, 劣モジュラ最大化に基づく貪欲算法を設計せよ."
   ]
  },
  {
   "cell_type": "markdown",
   "metadata": {},
   "source": [
    "## 6.3\n",
    "### 6.3 (i)\n",
    ">最遠点クラスタリング法により, k-センター問題の2-近似解が得られることを示せ."
   ]
  },
  {
   "cell_type": "markdown",
   "metadata": {},
   "source": [
    "### 6.3 (ii)\n",
    ">最遠点クラスタリング法で得られる解の目的関数値が, k-センター問題の最適値のちょうど2倍になるようなデータの例をあげよ."
   ]
  },
  {
   "cell_type": "markdown",
   "metadata": {},
   "source": [
    "## 6.4\n",
    "### 6.4 (i)\n",
    ">点集合 $S\\subseteq V$ に属する点を端点とする辺の数を $f(S)$ で表すとき, $f$ が劣モジュラ関数であることを示せ."
   ]
  },
  {
   "cell_type": "markdown",
   "metadata": {},
   "source": [
    "### 6.4 (ii)\n",
    ">辺集合 $T \\subseteq V$ に属する辺の端の点である点の数を $g(T)$ で表すとき, $g$ が劣モジュラ関数であることを示せ."
   ]
  },
  {
   "cell_type": "markdown",
   "metadata": {},
   "source": []
  }
 ],
 "metadata": {
  "interpreter": {
   "hash": "d4d1e4263499bec80672ea0156c357c1ee493ec2b1c70f0acce89fc37c4a6abe"
  },
  "kernelspec": {
   "display_name": "Python 3.9.7 ('base')",
   "language": "python",
   "name": "python3"
  },
  "language_info": {
   "codemirror_mode": {
    "name": "ipython",
    "version": 3
   },
   "file_extension": ".py",
   "mimetype": "text/x-python",
   "name": "python",
   "nbconvert_exporter": "python",
   "pygments_lexer": "ipython3",
   "version": "3.9.7"
  },
  "orig_nbformat": 4
 },
 "nbformat": 4,
 "nbformat_minor": 2
}
