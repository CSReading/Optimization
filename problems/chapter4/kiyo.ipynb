{
 "cells": [
  {
   "cell_type": "markdown",
   "metadata": {},
   "source": [
    "# 4.1 \n",
    "(i) \n",
    "$$ f(\\boldsymbol{x}) = 2x_1^3 - x_1^2 x_2 + 2x_2^2 $$\n",
    "\n",
    "$$\n",
    "\\nabla^2 f(x) = \\begin{bmatrix}\n",
    "12x_1 - 2x_2 & -2x_1 \\\\\n",
    "-2x_1 & 4 \n",
    "\\end{bmatrix} \n",
    "$$\n",
    "\n",
    "$\\boldsymbol{a} = (a, b)', \\ \\nabla^2 f(\\boldsymbol{x}) = X$ とおくと、\n",
    "$$\n",
    "\\boldsymbol{a'}X\\boldsymbol{a} = (ax_1 - 2b)^2 + (12x_1 - 2x_2 - x_1^2)a^2\n",
    "$$\n",
    "となるが、$\\boldsymbol{x} = (0, 1)'$のとき、$\\boldsymbol{a'}X\\boldsymbol{a} <0$ になりえるので、$f(\\boldsymbol{x})$ は凸関数ではない\n",
    "\n"
   ]
  },
  {
   "cell_type": "markdown",
   "metadata": {},
   "source": [
    "\n",
    "(ii) $$ f(\\boldsymbol{x}) = (x_1 - 3)^2 + x_1x_2 + \\frac{1}{16}x_2^4 + (x_2 - 1)^2 $$\n",
    "\n",
    "$$\n",
    "\\nabla^2 f(x) = \\begin{bmatrix}\n",
    "                    2 & 1 \\\\\n",
    "                    1 & \\frac{3}{4}x_2^2 + 2 \n",
    "                \\end{bmatrix} \n",
    "$$\n",
    "\n",
    "$\\boldsymbol{a} = (a, b)', \\ \\nabla^2 f(\\boldsymbol{x}) = X$ とおくと、\n",
    "$$\n",
    "\\boldsymbol{a'}X\\boldsymbol{a} = (a + b)^2 + a^2 + b^2\\left(\\frac{3}{4}x_2^2 + 1\\right) \\geq 0\n",
    "$$\n",
    "\n",
    "よって、$f(\\boldsymbol{x})$ は凸関数"
   ]
  },
  {
   "cell_type": "markdown",
   "metadata": {},
   "source": [
    "(iii) $$ f(\\boldsymbol{x}) = \\| Ax-b \\|_2^2 + \\gamma \\|x\\|_2^2 $$\n",
    "\n",
    "$$\n",
    "\\nabla^2 f(x) = 2(A'A + \\gamma I)\n",
    "$$\n",
    "\n",
    "$$\n",
    "\\boldsymbol{a'}(A'A + \\gamma I)\\boldsymbol{a} = (A\\boldsymbol{a})'(A\\boldsymbol{a}) + \\gamma\\boldsymbol{a}'\\boldsymbol{a} \\geq 0\n",
    "$$\n",
    "\n",
    "よって、$f(\\boldsymbol{x})$ は凸関数\n",
    "\n"
   ]
  },
  {
   "cell_type": "markdown",
   "metadata": {},
   "source": [
    "\n",
    "(iv) $$ f(\\boldsymbol{x}) = \\sum_{j = 1}^n \\log(1 + \\exp(-x_j)) $$\n",
    "\n",
    "$$\n",
    "\\nabla^2 f(x) = \\begin{bmatrix}\n",
    "                    \\frac{\\exp(-x_1)}{(1 + \\exp(-x_1))^2} &  & O \\\\\n",
    "                      & \\ddots & \\\\\n",
    "                    O &  & \\frac{\\exp(-x_n)}{(1 + \\exp(-x_n))^2}\n",
    "                \\end{bmatrix} \n",
    "$$\n",
    "\n",
    "$\\boldsymbol{a} = (a_1, \\cdots, a_n)', \\ \\nabla^2 f(\\boldsymbol{x}) = X$ とおくと、\n",
    "$$\n",
    "\\boldsymbol{a'}X\\boldsymbol{a} = \\sum_{j=1}^n a_j\\frac{\\exp(-x_j)}{(1 + \\exp(-x_j))^2} \\geq 0\n",
    "$$\n",
    "\n",
    "よって、$f(\\boldsymbol{x})$ は凸関数\n"
   ]
  },
  {
   "cell_type": "markdown",
   "metadata": {},
   "source": [
    "(v) $$ f(\\boldsymbol{x}) =  \\log\\left( \\sum_{j = 1}^n \\exp(x_j) \\right) $$\n",
    "\n",
    "$$\n",
    "\\nabla^2 f(x) = diag(z(x)) - z(x)z(x)' \\ \\ \\ \\left(z(x) = \\frac{1}{\\sum_{j=1}^n\\exp(-x_j)}\\begin{bmatrix} \\exp(-x_1) \\\\ \\vdots \\\\ \\exp(-x_n)\\end{bmatrix}\\right)\n",
    "$$\n",
    "\n",
    "$\\boldsymbol{a} = (a_1, \\cdots, a_n)', \\ \\nabla^2 f(\\boldsymbol{x}) = X$ とおくと、\n",
    "$$\n",
    "\\boldsymbol{a'}X\\boldsymbol{a} = \\sum_{j=1}^n a_j^2z_j(x) - (z(x)'\\boldsymbol{a})'(z(x)\\boldsymbol{a}) = 0\n",
    "$$\n",
    "\n",
    "よって、$f(\\boldsymbol{x})$ は凸関数"
   ]
  },
  {
   "cell_type": "markdown",
   "metadata": {},
   "source": [
    "# 4.2"
   ]
  },
  {
   "cell_type": "markdown",
   "metadata": {},
   "source": [
    "(i)\n",
    "$$\n",
    "f(x) = \\max\\{c-x, 0\\}\n",
    "$$\n",
    "\n",
    "任意の$x_1, \\ x_2$に関して、$\\lambda f(x_1) + (1 - \\lambda) f(x_2) \\geq f(\\lambda x_1 + (1 - \\lambda) x_2)$ が成り立てば良い\n",
    "\n",
    "(1) $c - x_1 \\geq 0, \\ c - x_2 \\geq 0, \\ x_1 \\geq x_2 $\n",
    "\n",
    "(LHS) $ = \\lambda (c - x_1) + (1-\\lambda) (c - x_2) = c - \\lambda x_1 - (1-\\lambda) x_2$\n",
    "\n",
    "(RHS) $ = \\max\\{ c - \\lambda x_1 - (1-\\lambda) x_2, 0 \\} = \\max\\{ \\lambda (c - x_1) + (1-\\lambda) (c-x_2), 0 \\} = c - \\lambda x_1 - (1-\\lambda) x_2$\n",
    "\n",
    "$\\therefore \\ \\text{(LHS) = (RHS)}$\n",
    "\n",
    "(2) $c - x_1 \\leq 0, \\ c - x_2 \\leq 0, \\ x_1 \\geq x_2 $\n",
    "\n",
    "(LHS) $ = \\lambda 0 + (1-\\lambda) 0 = 0$\n",
    "\n",
    "(RHS) $ = \\max\\{ c - \\lambda x_1 - (1-\\lambda) x_2, 0 \\} = \\max\\{ \\lambda (c - x_1) + (1-\\lambda) (c-x_2), 0 \\} = 0$\n",
    "\n",
    "$\\therefore \\ \\text{(LHS) = (RHS)}$\n",
    "\n",
    "(3) $c - x_1 \\geq 0, \\ c - x_2 \\leq 0$\n",
    "\n",
    "(LHS) $ = \\lambda (c-x_1) + (1-\\lambda) 0 = \\lambda (c-x_1)$\n",
    "\n",
    "(RHS)  $ = \\max\\{ c - \\lambda x_1 - (1-\\lambda) x_2, 0 \\} = \\max\\{ \\lambda (c - x_1) + (1-\\lambda) (c-x_2), 0 \\} $\n",
    "\n",
    "$\\therefore \\ \\text{(LHS)} \\geq \\text{(RHS)}$"
   ]
  },
  {
   "cell_type": "markdown",
   "metadata": {},
   "source": [
    "(ii) \n",
    "\n",
    "$$ \n",
    "f(x) = e^{-cx}\n",
    "$$\n",
    "\n",
    "$f''(x) = c^2 e^{-cx} \\geq 0$ なので、$f(x)$ は凸関数"
   ]
  },
  {
   "cell_type": "markdown",
   "metadata": {},
   "source": [
    "# 4.3\n"
   ]
  },
  {
   "cell_type": "markdown",
   "metadata": {},
   "source": [
    "(i) \n",
    "\n",
    "$$ \\text{Minimize} \\  \\| Ax-b \\|_2^2 + \\gamma \\|x\\|_1 $$\n",
    "\n",
    "$$ \\Leftrightarrow  $$\n",
    "\\begin{align*}\n",
    "    & \\text{Minimize} \\  z + \\sum_{j=1}^n \\gamma w_j \\\\\n",
    "    &  \\ \\text{s.t. } \\ z+1 \\geq \\left|\\left| \\begin{bmatrix} z-1 \\\\ 2(A\\boldsymbol{x} - \\boldsymbol{b}) \\end{bmatrix} \\right|\\right|_2^2 \\\\\n",
    "    &  \\ \\ \\ \\ \\ \\ \\ \\ \\ w_j \\geq \\| x_j \\| \\ \\ \\ \\ j = 1, \\cdots, n\n",
    "\\end{align*}"
   ]
  },
  {
   "cell_type": "markdown",
   "metadata": {},
   "source": [
    "(ii) \n",
    "\n",
    "$$ \\text{Minimize} \\  \\| Ax-b \\|_1 + \\gamma \\|x\\|_2 $$\n",
    "\n",
    "$$ \\Leftrightarrow  $$\n",
    "\\begin{align*}\n",
    "    & \\text{Minimize} \\  \\boldsymbol{1'}\\boldsymbol{z} + \\gamma w \\\\\n",
    "    &  \\ \\text{s.t. } \\ \\boldsymbol{z} \\geq \\| A\\boldsymbol{x} - \\boldsymbol{b} \\|_2^2 \\\\\n",
    "    &  \\ \\ \\ \\ \\ \\ \\ \\ \\ w \\geq \\| \\boldsymbol{x} \\|_2\n",
    "\\end{align*}"
   ]
  },
  {
   "cell_type": "markdown",
   "metadata": {},
   "source": [
    "(iii) \n",
    "\n",
    "$$ \\text{Minimize} \\  \\frac{1}{2}\\left| \\left| \\sum_{l=1}^r A_l\\boldsymbol{x_l} - \\boldsymbol{b} \\right| \\right|_2^2 + \\gamma \\sum_{l=1}^r \\| \\boldsymbol{x_l} \\|_2 $$\n",
    "\n",
    "$$ \\Leftrightarrow  $$\n",
    "\\begin{align*}\n",
    "    & \\text{Minimize} \\ 2z + \\gamma \\sum_{l=1}^r w_l  \\\\\n",
    "    &  \\ \\text{s.t. } \\ z+1 \\geq \\left|\\left| \\begin{bmatrix} z-1 \\\\ \\sum_{l=1}^r A_l\\boldsymbol{x_l} - \\boldsymbol{b} \\end{bmatrix} \\right|\\right|_2 \\\\\n",
    "    &  \\ \\ \\ \\ \\ \\ \\ \\ \\ w_l \\geq \\| \\boldsymbol{x_l} \\|_2 \\ \\ \\ \\ l = 1, \\cdots, n\n",
    "\\end{align*}"
   ]
  },
  {
   "cell_type": "markdown",
   "metadata": {},
   "source": [
    "# 4.4"
   ]
  },
  {
   "cell_type": "markdown",
   "metadata": {},
   "source": [
    "(i) \n",
    "$$\n",
    "q(\\boldsymbol{z}) = \\| \\boldsymbol{z} \\|_2 + \\frac{1}{2}\\| \\boldsymbol{z} - \\boldsymbol{x} \\|_2^2\n",
    "$$\n",
    "\n",
    "$$\n",
    "\\nabla q(\\boldsymbol{z}) = \\begin{bmatrix}\n",
    "z_1 - x_1 + \\frac{z_1}{\\sqrt{z_1^2 + \\cdots + z_n^2}}  \\\\\n",
    "\\vdots \\\\\n",
    "z_n - x_n + \\frac{z_n}{\\sqrt{z_1^2 + \\cdots + z_n^2}}\n",
    "\\end{bmatrix} \n",
    "$$\n",
    "\n",
    "KKT条件より、$\\nabla q(\\boldsymbol{z}) = \\boldsymbol{0}$ を解くと、$i = 1, \\cdots, n$ について、$z_i \\left( 1 + \\frac{1}{\\sqrt{z_1^2 + \\cdots + z_n^2}} \\right) = x_i$（$z_i$ と $x_i$ は同符号）\n",
    "\n",
    "これより、以下条件を得る\n",
    "\\begin{cases}\n",
    "x_1 + \\cdots + x_n = \\left( 1 + \\frac{1}{\\sqrt{z_1^2 + \\cdots + z_n^2}} \\right) (z_1 + \\cdots + z_n) \\\\ \n",
    "\\frac{z_i}{z_j} = \\frac{x_i}{x_j} \\ \\ \\ \\ \\ i, j = 1, \\cdots, n  \\ \\ \\ \\ (z_j, \\ x_j \\neq 0)\n",
    "\\end{cases}\n",
    "\n",
    "簡単化のため、$z_1 \\neq 0$ で1式目を割ると、\n",
    "\\begin{align*}\n",
    "\\frac{x_1 + \\cdots + x_n}{z_1} &= \\left( 1 + \\frac{1}{\\sqrt{z_1^2 + \\cdots + z_n^2}} \\right) \\left(1 + \\frac{z_2}{z_1} + \\cdots + \\frac{z_n}{z_1}\\right) \\\\\n",
    " &= \\left( 1 + \\frac{1}{z_1\\sqrt{1 + \\frac{x_2^2}{x_1^2} + \\cdots + \\frac{x_n^2}{x_1^2}}} \\right) \\left(1 + \\frac{x_2}{x_1} + \\cdots + \\frac{x_n}{x_1}\\right) \\\\\n",
    " &= \\frac{1}{x_1}\\left( 1 + \\frac{1}{\\frac{z_1}{x_1}\\sqrt{1 + x_2^2 + \\cdots + x_n^2}} \\right) \\left(x_1 + \\cdots + x_n\\right) \\\\\n",
    "\\Leftrightarrow \\frac{x_1}{z_1} &= 1 + \\frac{1}{\\frac{z_1}{x_1}\\sqrt{1 + x_2^2 + \\cdots + x_n^2}} \\\\\n",
    "\\Leftrightarrow 1 &= \\frac{z_1}{x_1} + \\frac{1}{\\sqrt{x_1^2 + \\cdots + x_n^2}} \\\\\n",
    "\\Leftrightarrow x_1 &= z_1 + \\frac{x_1}{\\sqrt{x_1^2 + \\cdots + x_n^2}} \\\\\n",
    "\\Leftrightarrow z_1 &= x_1\\left(1 - \\frac{1}{\\sqrt{x_1^2 + \\cdots + x_n^2}}\\right)\n",
    "\\end{align*}\n",
    "\n",
    "よって、$q(\\boldsymbol{z})$ を最小化する $\\boldsymbol{z} = \\boldsymbol{z^*}$ は、$z_i$ と $x_i$ が同符号であることを考慮すると\n",
    "$$\n",
    "\\boldsymbol{z^*} = (z_l^*)_{l=1, \\cdots, n} = \\left(\\max{\\left\\{ x_l\\left(1 - \\frac{1}{\\| \\boldsymbol{x}\\|_2}\\right), 0 \\right\\}}\\right)_{l=1, \\cdots, n}\n",
    "$$"
   ]
  },
  {
   "cell_type": "markdown",
   "metadata": {},
   "source": [
    "(ii)\n",
    "$ f(\\boldsymbol{x}) = \\frac{1}{2}\\left| \\left| \\sum_{l=1}^r A_l\\boldsymbol{x_l} - \\boldsymbol{b} \\right| \\right|_2^2, \\ g(\\boldsymbol{x}) = \\gamma \\sum_{l=1}^r \\| \\boldsymbol{x_l} \\|_2$ とおけば、初期値 $x_l^0\\in{\\mathbb{R^{n_l}}}, \\ \\alpha >0$ に対して、\n",
    "\n",
    "\\begin{align*}\n",
    "& \\boldsymbol{d_l^k} \\leftarrow -\\nabla f(\\boldsymbol{x}) = -A_l'A_l\\boldsymbol{x_l} + A_l'\\boldsymbol{b} - A_l'\\sum_{j\\neq l}A_j\\boldsymbol{x_j^k} \\\\\n",
    "& \\boldsymbol{z_l^k} \\leftarrow \\boldsymbol{x_l^k} + \\alpha \\boldsymbol{d_l^k} \\\\\n",
    "& \\boldsymbol{x_l^{k+1}} \\leftarrow \\left(\\max{\\left\\{ \\boldsymbol{z_l^k} \\left(1 - \\frac{\\alpha \\gamma}{\\| \\boldsymbol{z_l^k}\\|_2}\\right), \\boldsymbol{0} \\right\\}}\\right)_{l=1, \\cdots, n}\n",
    "\\end{align*}"
   ]
  },
  {
   "cell_type": "markdown",
   "metadata": {},
   "source": [
    "# 4.5 "
   ]
  },
  {
   "cell_type": "markdown",
   "metadata": {},
   "source": [
    "(i)\n",
    "\n",
    "$L_{\\rho} (\\boldsymbol{x}, \\boldsymbol{z}; \\boldsymbol{v}) = \\| \\boldsymbol{z}\\|_1 + \\frac{\\rho}{2}\\|A\\boldsymbol{x} - \\boldsymbol{b} - \\boldsymbol{z} + \\boldsymbol{v} \\|_2^2 - \\frac{\\rho}{2}\\|\\boldsymbol{v} \\|_2^2$ とすれば、\n",
    "\n",
    "$$\n",
    "\\begin{align*}\n",
    "&\\boldsymbol{x^{k+1}} \\leftarrow \\argmin_x L_{\\rho} (\\boldsymbol{x}, \\boldsymbol{z^k}; \\boldsymbol{v^k}) \\\\\n",
    "&\\boldsymbol{z^{k+1}} \\leftarrow \\argmin_z L_{\\rho} (\\boldsymbol{x^{k+1}}, \\boldsymbol{z}; \\boldsymbol{v^k}) \\\\\n",
    "&\\boldsymbol{v^{k+1}} \\leftarrow \\boldsymbol{v^{k}} + A\\boldsymbol{x^{k+1}} - \\boldsymbol{b} - \\boldsymbol{z^{k+1}}\n",
    "\\end{align*}\n",
    "$$\n",
    "\n",
    "となるので、例4.25を用いると、\n",
    "$$\n",
    "\\begin{align*}\n",
    "\\argmin_x L_{\\rho} (\\boldsymbol{x}, \\boldsymbol{z^k}; \\boldsymbol{v^k}) = (A'A)^{-1}A(\\boldsymbol{z^k} - \\boldsymbol{v^k} + \\boldsymbol{b}) \\\\\n",
    "\\argmin_z L_{\\rho} (\\boldsymbol{x^{k+1}}, \\boldsymbol{z}; \\boldsymbol{v^k}) = \\begin{bmatrix} \\text{sthr}_{1/\\rho}\\left( (A\\boldsymbol{x^{k+1}} - \\boldsymbol{b} + \\boldsymbol{v^k})_1 \\right) \\\\ \\vdots \\\\ \\text{sthr}_{1/\\rho}\\left( (A\\boldsymbol{x^{k+1}} - \\boldsymbol{b} + \\boldsymbol{v^k})_n \\right) \\end{bmatrix}\n",
    "\\end{align*}\n",
    "$$"
   ]
  },
  {
   "cell_type": "markdown",
   "metadata": {},
   "source": [
    "(ii)\n",
    "\n",
    "$L_{\\rho} (\\boldsymbol{x}, \\boldsymbol{z}; \\boldsymbol{v}) = \\| \\boldsymbol{z}\\|_1 + \\frac{\\rho}{2}\\|\\boldsymbol{x} - \\boldsymbol{z} + \\boldsymbol{v} \\|_2^2 - \\frac{\\rho}{2}\\|\\boldsymbol{v} \\|_2^2$ とすれば、\n",
    "\n",
    "$$\n",
    "\\begin{align*}\n",
    "&\\boldsymbol{x^{k+1}} \\leftarrow \\argmin_x \\{L_{\\rho} (\\boldsymbol{x}, \\boldsymbol{z^k}; \\boldsymbol{v^k}) | A\\boldsymbol{x} = \\boldsymbol{b}\\} \\\\\n",
    "&\\boldsymbol{z^{k+1}} \\leftarrow \\argmin_z L_{\\rho} (\\boldsymbol{x^{k+1}}, \\boldsymbol{z}; \\boldsymbol{v^k}) \\\\\n",
    "&\\boldsymbol{v^{k+1}} \\leftarrow \\boldsymbol{v^{k}} + \\boldsymbol{x^{k+1}} - \\boldsymbol{z^{k+1}}\n",
    "\\end{align*}\n",
    "$$\n",
    "\n",
    "となるので、例4.25を用いると、\n",
    "$$\n",
    "\\begin{align*}\n",
    "\\argmin_z L_{\\rho} (\\boldsymbol{x^{k+1}}, \\boldsymbol{z}; \\boldsymbol{v^k}) = \\begin{bmatrix} \\text{sthr}_{1/\\rho}\\left( (\\boldsymbol{x^{k+1}} + \\boldsymbol{v^k})_1 \\right) \\\\ \\vdots \\\\ \\text{sthr}_{1/\\rho}\\left( (\\boldsymbol{x^{k+1}}  + \\boldsymbol{v^k})_n \\right) \\end{bmatrix}\n",
    "\\end{align*}\n",
    "$$\n",
    "\n",
    "$\\argmin_x \\{L_{\\rho} (\\boldsymbol{x}, \\boldsymbol{z^k}; \\boldsymbol{v^k}) | A\\boldsymbol{x} = \\boldsymbol{b}\\}$ に関しては、KKT条件より、\n",
    "$$\n",
    "\\begin{align*}\n",
    "\\begin{cases}\n",
    "    2\\boldsymbol{x} - 2\\boldsymbol{z} + 2\\boldsymbol{v} + A'\\boldsymbol{\\mu} = \\boldsymbol{0}\\\\\n",
    "    A\\boldsymbol{x} = \\boldsymbol{b}\n",
    "\\end{cases} \n",
    "&\\Leftrightarrow\n",
    "\\begin{cases}\n",
    "    AA'\\boldsymbol{\\mu} = -2\\boldsymbol{b} + 2A\\boldsymbol{z} - 2A\\boldsymbol{v}\\\\\n",
    "    A\\boldsymbol{x} = \\boldsymbol{b}\n",
    "\\end{cases} \\\\\n",
    "&\\Leftrightarrow\n",
    "\\begin{cases}\n",
    "    \\boldsymbol{\\mu} = -2(AA')^{-1}\\{\\boldsymbol{b} - A\\boldsymbol{z} + A\\boldsymbol{v}\\}\\\\\n",
    "    A\\boldsymbol{x} = \\boldsymbol{b}\n",
    "\\end{cases} \n",
    "\\end{align*}\n",
    "$$\n",
    "よって、\n",
    "$$\n",
    "\\boldsymbol{x^{k+1}} \\leftarrow \\boldsymbol{z^k} - \\boldsymbol{v^k} - \\frac{1}{2}A'\\boldsymbol{\\mu} = [I - A'(AA')^{-1}A](\\boldsymbol{z^k} - \\boldsymbol{v^k}) + A'(AA')^{-1}\\boldsymbol{b}\n",
    "$$\n"
   ]
  },
  {
   "cell_type": "markdown",
   "metadata": {},
   "source": []
  }
 ],
 "metadata": {
  "language_info": {
   "name": "plaintext"
  },
  "orig_nbformat": 4
 },
 "nbformat": 4,
 "nbformat_minor": 2
}
