{
 "cells": [
  {
   "cell_type": "markdown",
   "metadata": {},
   "source": [
    "# 4. 凸最適化"
   ]
  },
  {
   "cell_type": "markdown",
   "metadata": {},
   "source": [
    "## 4.1\n",
    ">以下の関数が凸かどうかを調べよ."
   ]
  },
  {
   "cell_type": "markdown",
   "metadata": {},
   "source": [
    "(i)\n",
    ">$$ f(x) = 2 x_1^3 - x_1^2x_2 + 2x_2^2 $$"
   ]
  },
  {
   "cell_type": "markdown",
   "metadata": {},
   "source": [
    "練習問題 3.1 (i) よりヘッセ行列は\n",
    "$$ \\nabla^2 f(x) = \\begin{bmatrix}\n",
    "                  12x_1 - 2x_2  &  -2x_1\\\\\n",
    "                  -2x_1  & 4\n",
    "                \\end{bmatrix}. $$\n",
    "で, 連続なので $f$ は $C^2$級.\n",
    "$ \\bar{x} = \\begin{bmatrix}0 \\\\ 1\\end{bmatrix}$ では \n",
    "$\\nabla^2 f(\\bar{x}) = \\begin{bmatrix} -2 & 0\\\\0 & 4\\end{bmatrix} $\n",
    "であり, これは\n",
    "$$\n",
    "\\begin{bmatrix}1&0\\end{bmatrix} \\begin{bmatrix} -2 & 0\\\\0 & 4\\end{bmatrix} \\begin{bmatrix}1\\\\0\\end{bmatrix} = -2\n",
    "$$\n",
    "より半正定値でないので, $f$ は凸関数でない. $_\\square$"
   ]
  },
  {
   "cell_type": "markdown",
   "metadata": {},
   "source": [
    "(ii)\n",
    ">$$ f(x) = (x_1 - 3)^2 + x_1 x_2 + \\frac{1}{16}x_2^4 + (x_2 - 1)^2 $$"
   ]
  },
  {
   "cell_type": "markdown",
   "metadata": {},
   "source": [
    "ヘッセ行列は\n",
    "$$\n",
    "    \\nabla^2 f(x) = \\begin{bmatrix}\n",
    "                        2 & 1\\\\\n",
    "                        1 & \\frac{3}{4}x_2^2 + 2\n",
    "                    \\end{bmatrix}.\n",
    "$$\n",
    "行列 $A = \\begin{bmatrix}2 & 1 \\\\ 1 & c\\end{bmatrix}$ (ただし$c \\ge 2$) について, 固有値は\n",
    "$$\n",
    "\\det(A - \\lambda I) = (2- \\lambda)(c - \\lambda) -1 = \\lambda^2 - (2 + c)\\lambda + 2c - 1\n",
    "$$\n",
    "より,\n",
    "$$\n",
    "\\lambda = \\frac{2 + c \\pm \\sqrt{(2 + c)^2 - 4 (2c - 1)}}{2}\n",
    "= \\frac{2 + c \\pm \\sqrt{ c^2 -4c + 8 }}{2} = \\frac{\\sqrt{(c+2)^2} \\pm \\sqrt{(c-2)^2 + 4}}{2}.\n",
    "$$\n",
    "$g_1(c) := (c+2)^2, g_2(c) = (c-2)^2 +4$ を比較すると, まず $c = 2$ では\n",
    "$$ g_1(c) = 16 > g_2(c) = 4 $$\n",
    "であり, また任意の $c$ に対して\n",
    "$$ g_1'(c) = 2(c + 2) > g_2'(c) = 2(c-2)$$\n",
    "なので, 任意の $c \\ge 2$ について $g_1(c) > g_2(c)$ である.\n",
    "よって $A$ の固有値は正なのでヘッセ行列は常に正定値であり, したがって $f$ は凸関数. $_\\square$"
   ]
  },
  {
   "cell_type": "markdown",
   "metadata": {},
   "source": [
    "(iii)\n",
    ">$$ f(x) = \\| Ax-b \\|_2^2 + \\gamma \\|x\\|_2^2 $$"
   ]
  },
  {
   "cell_type": "markdown",
   "metadata": {},
   "source": [
    "ヘッセ行列は\n",
    "$$ \\nabla^2f(x) = 2(A'A + \\gamma I) $$\n",
    "で, 任意のベクトル $u \\ (\\ne 0)$ に対し\n",
    "$$2u'(A'A + \\gamma I)u = 2((Au)'Au + \\gamma u'u) > 0$$\n",
    "なので正定値であり, したがって $f$ は凸関数. $_\\square$"
   ]
  },
  {
   "cell_type": "markdown",
   "metadata": {},
   "source": [
    "(iv)\n",
    ">$$ f(x) = \\sum_{j=1}^n \\log\\left(1+\\exp(-x_j)\\right) $$"
   ]
  },
  {
   "cell_type": "markdown",
   "metadata": {},
   "source": [
    "ヘッセ行列は常に\n",
    "$$\n",
    "    \\nabla^2 f(x) = \\begin{bmatrix}\n",
    "                      \\frac{\\exp(-x_1)}{(1 + \\exp(-x_1))^2} & & O\\\\\n",
    "                      & \\ddots & \\\\\n",
    "                      O & & \\frac{\\exp(-x_n)}{(1 + \\exp(-x_n))^2}\n",
    "                    \\end{bmatrix}\n",
    "$$\n",
    "と対角成分が正の対角行列なので明らかに正定値行列であり, したがって $f$ は凸関数. $_\\square$"
   ]
  },
  {
   "cell_type": "markdown",
   "metadata": {},
   "source": [
    "(v)\n",
    ">$$ f(x) = \\log \\left( \\sum_{j=1}^n \\exp(x_j) \\right) $$"
   ]
  },
  {
   "cell_type": "markdown",
   "metadata": {},
   "source": [
    "ヘッセ行列は,\n",
    "$$\n",
    "    \\nabla^2 f(x) = \\mathrm{diag}\\left(z(x)\\right) - z(x) z(x)', \\ \\ \\ \\mathrm{where} \\ \\ z(x) = \\frac{1}{\\sum \\exp(x_j)} \\begin{bmatrix}\\exp(x_1) \\\\ \\vdots \\\\ \\exp(x_n)\\end{bmatrix}\n",
    "$$\n",
    "である.\n",
    "任意の $u \\in \\mathbb{R}^n$ ($u \\ne 0$) に対して,\n",
    "$$\n",
    "\\begin{align*}\n",
    "    u'\\nabla^2f(x)u\n",
    "    &= u' \\left[ \\mathrm{diag}\\left(z(x)\\right) - z(x) z(x)' \\right] u\\\\\n",
    "    &= u'\\mathrm{diag}(z(x))u - (z(x)'u)^2\\\\\n",
    "    &= \\frac{1}{\\sum\\exp(x_j)}\\sum\\exp(x_j)u_j^2 - \\left(\\frac{1}{\\sum\\exp(x_j)}\\sum\\exp(x_j)u_j\\right)^2\\\\\n",
    "    &= \\frac{1}{\\left(\\sum\\exp(x_j)\\right)^2}\\left(\\left(\\sum\\exp(x_j)\\right)\\left(\\sum \\exp(x_j)u_j^2\\right) - \\left(\\sum\\exp(x_j)u_j\\right)^2\\right)\\\\\n",
    "    &\\ge 0\n",
    "\\end{align*}\n",
    "$$\n",
    "となる(最後の不等号はコーシー・シュワルツの不等式より)ので, ヘッセ行列は常に半正定値であり, したがって $f$ は凸関数. $_\\square$"
   ]
  },
  {
   "cell_type": "markdown",
   "metadata": {},
   "source": [
    "## 4.2\n",
    ">次の関数が凸関数であることを示せ. ただし, $c$ は正の定数とする."
   ]
  },
  {
   "cell_type": "markdown",
   "metadata": {},
   "source": [
    "(i)\n",
    ">ヒンジ損失関数\n",
    ">$$ f(x) = \\max\\{c-x, 0\\}$$"
   ]
  },
  {
   "cell_type": "markdown",
   "metadata": {},
   "source": [
    "関数 $f_1, f_2$ を\n",
    "$$\n",
    "    f_1(x) = c - x, \\ \\ f_2(x) = 0\n",
    "$$\n",
    "とすると, $f_1$ は線形関数なので凸関数であり, また $f_2$ は定数関数なので凸関数である.\n",
    "関数 $f$ は\n",
    "$$ f(x) = \\max\\{f_1(x), f_2(x)\\} $$\n",
    "と書けるので, 例4.9より凸関数である. $_\\square$"
   ]
  },
  {
   "cell_type": "markdown",
   "metadata": {},
   "source": [
    "(ii)\n",
    ">指数損失関数\n",
    ">$$ f(x) = e^{-cx} $$"
   ]
  },
  {
   "cell_type": "markdown",
   "metadata": {},
   "source": [
    "$f$ の一階微分, 二階微分は\n",
    "$$\n",
    "f'(x) = -c\\cdot e^{-cx}, \\ f''(x) = c^2 e^{-cx}\n",
    "$$\n",
    "となり, 任意の $x$ に対して $f''(x) = c^2 e^{-cx} > 0$ なので, $f$ は凸関数. $_\\square$"
   ]
  },
  {
   "cell_type": "markdown",
   "metadata": {},
   "source": []
  }
 ],
 "metadata": {
  "interpreter": {
   "hash": "05a82b1fc6c84bbe6ce55a75b7a9effe7f262f72ad6281ff12557de44c45853c"
  },
  "kernelspec": {
   "display_name": "Python 3.9.7 64-bit ('base': conda)",
   "language": "python",
   "name": "python3"
  },
  "language_info": {
   "codemirror_mode": {
    "name": "ipython",
    "version": 3
   },
   "file_extension": ".py",
   "mimetype": "text/x-python",
   "name": "python",
   "nbconvert_exporter": "python",
   "pygments_lexer": "ipython3",
   "version": "3.9.7"
  },
  "orig_nbformat": 4
 },
 "nbformat": 4,
 "nbformat_minor": 2
}
