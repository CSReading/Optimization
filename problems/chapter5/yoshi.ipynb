{
 "cells": [
  {
   "cell_type": "markdown",
   "metadata": {},
   "source": [
    "### 5-1\n",
    "#### 問\n",
    "- 図5.7のグラフの最短路を求めよ"
   ]
  },
  {
   "cell_type": "code",
   "execution_count": 3,
   "metadata": {},
   "outputs": [
    {
     "name": "stdout",
     "output_type": "stream",
     "text": [
      "['v1', 'v2', 'v4', 'v5', 'v8']\n"
     ]
    }
   ],
   "source": [
    "import networkx as nx\n",
    "\n",
    "G = nx.DiGraph()\n",
    "G.add_nodes_from(['v1', 'v2', 'v3', 'v4', 'v5', 'v6', 'v7', 'v8'])\n",
    "G.add_weighted_edges_from([('v1', 'v2', 20.0), ('v1', 'v3', 40.0), ('v1', 'v4', 58.0), \n",
    "                           ('v2', 'v4', 30.0), ('v2', 'v5', 51.0),\n",
    "                           ('v3', 'v6', 16.0), ('v3', 'v7', 17.0),\n",
    "                           ('v4', 'v5', 18.0), ('v4', 'v6', 7.0), ('v4', 'v7', 6.0),\n",
    "                           ('v5', 'v8', 11.0), \n",
    "                           ('v6', 'v7', 4.0), ('v6', 'v8', 25.0), \n",
    "                           ('v7', 'v8', 24.0)])\n",
    "print(nx.dijkstra_path(G, 'v1', 'v8'))"
   ]
  },
  {
   "cell_type": "markdown",
   "metadata": {},
   "source": [
    "### 5-2\n",
    "#### 問\n",
    "- クラスカル・プリムのアルゴリズムの正当性を示せ\n",
    "\n",
    "#### 答\n",
    "##### クラスカル法\n",
    "- クラスカル法のループ内で $T \\cup \\{e_k\\}$ が閉路を持たない時, 辺を小さい順にソートしていることから辺$e_k$ は $cut(T, V-T)$の中で最小の辺である.\n",
    "- 定理5.1より, 任意のカット$cut(S, V-S)$に含まれる辺のうち, 重み最小のものは最小全域木に含まれることから, $e_k$は最小全域木に含まれる.\n",
    "- よって, クラスカル法は最小全域木に含まれるような辺を常に採用して, 全域木を構成することから最小全域木を返す.\n",
    "\n",
    "##### プリム法\n",
    "- 定理5.1より, プリム法のループ内で採用される$e$は最小全域木に含まれるものであり、そのような辺をのみ採用して全域木を構成することから, プリム法は最小全域木を返す."
   ]
  },
  {
   "cell_type": "markdown",
   "metadata": {},
   "source": [
    "### 5-3\n",
    "#### 問\n",
    "- 全域木のうち重みがk番目に小さいものをk-最小全域木とする. 2-最小全域木を求めるアルゴリズムを構成せよ\n"
   ]
  },
  {
   "cell_type": "code",
   "execution_count": 5,
   "metadata": {},
   "outputs": [],
   "source": [
    "class UnionFind():\n",
    "    def __init__(self, n) -> None:\n",
    "        self.par = [-1] * n\n",
    "        self.siz = [1] * n\n",
    "\n",
    "    def root(self, x):\n",
    "        if self.par[x] == -1:\n",
    "            return x\n",
    "        else:\n",
    "            self.par[x] = self.root(self.par[x])\n",
    "            return self.par[x]\n",
    "\n",
    "    def issame(self, x, y):\n",
    "        return self.root(x) == self.root(y)\n",
    "\n",
    "    def unite(self, x, y):\n",
    "        x = self.root(x)\n",
    "        y = self.root(y)\n",
    "\n",
    "        if x == y:\n",
    "            return False\n",
    "\n",
    "        if self.siz[x] < self.siz[y]:\n",
    "            x, y = y, x\n",
    "\n",
    "        self.par[y] = x\n",
    "        self.siz[x] += self.siz[y]\n",
    "        return True\n",
    "\n",
    "    def size(self, x):\n",
    "        return self.siz[self.root(x)]"
   ]
  },
  {
   "cell_type": "code",
   "execution_count": 27,
   "metadata": {},
   "outputs": [
    {
     "name": "stdout",
     "output_type": "stream",
     "text": [
      "6\n",
      "[3, 4] [2, 4] [1, 3] [0, 1] [4, 5]\n",
      "20\n",
      "~~~~~~~~\n",
      "3 4\n",
      "6\n",
      "[2, 4] [1, 3] [1, 4] [0, 1] [4, 5]\n",
      "23\n",
      "~~~~~~~~\n",
      "2 4\n",
      "6\n",
      "[3, 4] [1, 3] [0, 1] [1, 2] [4, 5]\n",
      "24\n",
      "~~~~~~~~\n",
      "1 3\n",
      "6\n",
      "[3, 4] [2, 4] [1, 4] [0, 1] [4, 5]\n",
      "21\n",
      "~~~~~~~~\n",
      "0 1\n",
      "6\n",
      "[3, 4] [2, 4] [1, 3] [0, 2] [4, 5]\n",
      "22\n",
      "~~~~~~~~\n",
      "4 5\n",
      "6\n",
      "[3, 4] [2, 4] [1, 3] [0, 1] [3, 5]\n",
      "21\n",
      "~~~~~~~~\n",
      "ans\n",
      "[3, 4] [2, 4] [1, 4] [0, 1] [4, 5]\n",
      "21\n"
     ]
    }
   ],
   "source": [
    "# O(|V||E|log(|V|))\n",
    "# 図5-10\n",
    "N = 6 # #node \n",
    "M = 10 # #edge\n",
    "edge = [[0, 1, 5], [0, 2, 7], [1, 2, 6], [1, 3, 3], [1, 4, 4], [2, 3, 8], [2, 4, 2], [3, 4, 1], [3, 5, 10], [4, 5, 9]] # [node, node, cost]\n",
    "\n",
    "def findSecondSpanningTree(N, M, edge):\n",
    "    sort_edge = sorted(edge, key=lambda x:x[2])\n",
    "    minSpanningTree = kruskal(N, sort_edge)[1]\n",
    "    \n",
    "    INF = float('inf')\n",
    "    secondSpanningTree = [None, INF]\n",
    "    for edge in minSpanningTree:\n",
    "        print(\"~~~~~~~~\")\n",
    "        print(*edge)\n",
    "        res = kruskal(N, sort_edge, edge)\n",
    "        if res[0] and secondSpanningTree[1] > res[2]:\n",
    "                secondSpanningTree =  [res[1], res[2]]\n",
    "    \n",
    "    print(\"~~~~~~~~\")\n",
    "    print(\"ans\")\n",
    "    print(*secondSpanningTree[0])\n",
    "    print(secondSpanningTree[1])\n",
    "    \n",
    "    \n",
    "def kruskal(N, sort_edge, excludeEdge = None):     \n",
    "    uf = UnionFind(N)\n",
    "    spanningTree = []\n",
    "    totalCost = 0\n",
    "    for a, b, c in sort_edge:\n",
    "        if excludeEdge != None:\n",
    "            if a == excludeEdge[0] and b == excludeEdge[1]:\n",
    "                continue\n",
    "        if uf.issame(a, b):\n",
    "            continue\n",
    "        else:\n",
    "            uf.unite(a, b)\n",
    "            spanningTree.append([a, b])\n",
    "            totalCost += c\n",
    "    \n",
    "    print(uf.size(0))\n",
    "    print(*spanningTree)\n",
    "    print(totalCost)\n",
    "    return [uf.size(0) == N, spanningTree , totalCost]\n",
    "\n",
    "findSecondSpanningTree(N, M, edge)"
   ]
  },
  {
   "cell_type": "markdown",
   "metadata": {},
   "source": [
    "### 5-4\n",
    "#### 問\n",
    "- 図5-23のように与えられたデータ点に対し、単リンク法によるクラスタリングを行いデンドログラムをかけ\n",
    "#### 答\n"
   ]
  },
  {
   "cell_type": "code",
   "execution_count": 30,
   "metadata": {},
   "outputs": [
    {
     "name": "stdout",
     "output_type": "stream",
     "text": [
      "~~~~\n",
      "0\n",
      "4\n",
      "~~~~\n",
      "2\n",
      "3\n",
      "~~~~\n",
      "0\n",
      "2\n",
      "~~~~\n",
      "1\n",
      "2\n"
     ]
    }
   ],
   "source": [
    "N = 5\n",
    "M = 10\n",
    "edge = [[0, 1, 8], [0, 2, 3], [0, 3, 6], [0, 4, 1], [1, 2, 7], [1, 3, 10], [1, 4, 9], [2, 3, 2], [2, 4, 4], [3, 4, 5]]\n",
    "\n",
    "def kruskal(N, edge):   \n",
    "    sort_edge = sorted(edge, key=lambda x:x[2])\n",
    "    uf = UnionFind(N)\n",
    "    for a, b, c in sort_edge:\n",
    "        if uf.issame(a, b):\n",
    "            continue\n",
    "        else:\n",
    "            uf.unite(a, b)\n",
    "            print(\"~~~~\")\n",
    "            print(a)\n",
    "            print(b)\n",
    "\n",
    "kruskal(N, edge)"
   ]
  },
  {
   "cell_type": "markdown",
   "metadata": {},
   "source": [
    "### 5-5\n",
    "#### 問\n",
    "- 最小費用流問題を解くことで輸送問題を解く方法を考えよ\n",
    "#### 答\n",
    "- Sのnodeにコスト0, 容量無限大のedgeをsから張る\n",
    "- Cのnodeにコスト0, 容量無限大のedgeをtへ張る.\n",
    "- この時, sからtへの最小費用流問題を解くと, それは輸送問題の解となる."
   ]
  },
  {
   "cell_type": "markdown",
   "metadata": {},
   "source": [
    "### 5-6\n",
    "#### 問\n",
    "- 2部グラフのマッチングで辺の数が最大のものを求める問題を最大マッチング問題と呼ぶ.\n",
    "- 最大流問題を利用することで最大マッチング問題を解く方法を考えろ\n",
    "\n",
    "#### 答\n",
    "- 片側のnodeに容量1のedgeをsから張る.\n",
    "- もう片側のnodeに容量1のedgeをtへ張る\n",
    "- node間のedgeも容量1とする.\n",
    "- この状態で, sからtへの最大流問題を解くとフローの大きさが最大マッチングのマッチ数となる."
   ]
  }
 ],
 "metadata": {
  "interpreter": {
   "hash": "beb4cf9dae92875600228d3972fe0816dec86166e2e7bb5e634c22474cb517ea"
  },
  "kernelspec": {
   "display_name": "Python 3.7.4 ('base')",
   "language": "python",
   "name": "python3"
  },
  "language_info": {
   "codemirror_mode": {
    "name": "ipython",
    "version": 3
   },
   "file_extension": ".py",
   "mimetype": "text/x-python",
   "name": "python",
   "nbconvert_exporter": "python",
   "pygments_lexer": "ipython3",
   "version": "3.7.4"
  },
  "orig_nbformat": 4
 },
 "nbformat": 4,
 "nbformat_minor": 2
}
