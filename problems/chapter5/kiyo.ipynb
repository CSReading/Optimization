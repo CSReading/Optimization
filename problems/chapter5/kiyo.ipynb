{
 "cells": [
  {
   "cell_type": "code",
   "execution_count": 1,
   "metadata": {},
   "outputs": [],
   "source": [
    "import networkx as nx "
   ]
  },
  {
   "cell_type": "markdown",
   "metadata": {},
   "source": [
    "# 5.1\n"
   ]
  },
  {
   "cell_type": "code",
   "execution_count": 2,
   "metadata": {},
   "outputs": [
    {
     "name": "stdout",
     "output_type": "stream",
     "text": [
      "['v1', 'v2', 'v4', 'v5', 'v8']\n"
     ]
    }
   ],
   "source": [
    "G = nx.DiGraph()\n",
    "G.add_nodes_from(['v1', 'v2', 'v3', 'v4', 'v5', 'v6', 'v7', 'v8'])\n",
    "G.add_weighted_edges_from([('v1', 'v2', 20.0), ('v1', 'v3', 40.0), ('v1', 'v4', 58.0), \n",
    "                           ('v2', 'v4', 30.0), ('v2', 'v5', 51.0),\n",
    "                           ('v3', 'v6', 16.0), ('v3', 'v7', 17.0),\n",
    "                           ('v4', 'v5', 18.0), ('v4', 'v6', 7.0), ('v4', 'v7', 6.0),\n",
    "                           ('v5', 'v8', 11.0), \n",
    "                           ('v6', 'v7', 4.0), ('v6', 'v8', 25.0), \n",
    "                           ('v7', 'v8', 24.0)])\n",
    "print(nx.dijkstra_path(G, 'v1', 'v8'))"
   ]
  },
  {
   "cell_type": "markdown",
   "metadata": {},
   "source": [
    "# 5.2\n",
    "#### クラスカル\n",
    "\n",
    "$G = (V, E, c)$ に対して、$G$ の辺を重みが小さい順に並べて、$e_1, e_2, \\cdots, c_{|E|}$ とする。\n",
    "\n",
    "最小の重みを持つ辺 $e_1\\in{E}$ を含む任意のカットを考えたとき、定理5.1 より、$e_1$ は $G$ の最小木 $T$ に含まれる。\n",
    "\n",
    "次に、$e_2\\in{E}$ を含むが、$e_1$ を含まないカットを考えると、定理5.1 より、$e_2$ も $G$ の最小木 $T$ に含まれることがわかる。\n",
    "\n",
    "$e_3, e_4, \\cdots, c_{|E|}$それぞれについて、重みが小さい順に同様の手順を行なっていくと、$e_i\\in{E} \\ (i\\in{\\{3, \\cdots, |E|\\}})$ について、以下2ケースが考えられる。\n",
    "\n",
    "- どちらか一方の端点が、$e_i$ より大きい辺のみと共有している\n",
    "\n",
    "- 両端点を $e_i$ より小さい辺と共有している\n",
    "\n",
    "どちらか一方の端点が、$e_i$ より大きい辺のみと共有している際には、$e_i$ を含み、$e_i$ 以下の辺を含まないカットは存在するため（ その端点を $v_{e_i}^1$ とおき、$S = \\{v_{e_i}^1\\}$ とすればよい）、定理5.1 より、$e_i$ も $G$ の最小木 $T$ に含まれることがわかる。\n",
    "\n",
    "両端点を $e_i$ より小さい辺と共有している際には、$e_i$ を含み、$e_i$ 以下の辺を含まないカットは存在しない。（これ間違い、例えば、図5.10で2と7の重みの位置入れ替えた際に5が最小木に含まれる）\n",
    "\n",
    "\n",
    "#### プリム\n",
    "\n",
    "プリムのアルゴリズムでは、カット $(S, V-S)$ の辺のうち重み最小なものを選び、その端点を $S$ に加えていくため、閉路はできず、連結である。よって、アルコリズム終了時に得られるグラフは全域木である。\n",
    "\n",
    "また、定理5.1とその証明より、プリムのアルゴリズムで選ばれる辺が最小木に含まれるのは自明であるため、アルコリズム終了時に得られるグラフは最小木である。"
   ]
  },
  {
   "cell_type": "markdown",
   "metadata": {},
   "source": [
    "# 5.3\n",
    "\n",
    "第2最小全域木では、少なくとも1本の辺が第1最小全域木のそれと異なる。そのため、第1最小全域木のある辺を除いた上で、最小重みになるように辺を選び直す。これを全ての辺に対して行い、最も小さい重みになるものが第2最小全域木である。"
   ]
  },
  {
   "cell_type": "markdown",
   "metadata": {},
   "source": [
    "# 5.4\n",
    "クラスター形成順に $C_i = (x_i^1, x_i^2, d_i)$ とすると、以下手順でデンドログラムが描ける。（ $x_i$ は構成要素、 $d_i$ は2要素間の最近燐距離）\n",
    "1) $s_1$ と $s_5$ が最も近いので（距離1）、$s_1$ と $s_5$ がクラスタリングされる。結果： $\\{(s_1, s_5, 1), s_2, s_3, s_4\\}$\n",
    "2) $s_3$ と $s_4$ が次に近いので（距離2）、$s_3$ と $s_4$ がクラスタリングされる。結果： $\\{(s_1, s_5, 1), s_2, (s_3, s_4, 2)\\}$\n",
    "3) $s_1$ と $s_3$ が次に近いので（距離3）、$(s_1, s_5, 1)$ と $(s_3, s_4, 2)$ がクラスタリングされる。結果： $\\{((s_1, s_5, 1), (s_3, s_4, 2), 3), s_2\\}$\n",
    "4) 距離4, 5, 6 の場合は、すでにクラスタリングが形成されているので、変化なし。\n",
    "5) $s_2$ と $s_3$ が次に近いので（距離7）、$(s_1, s_5, 1), (s_3, s_4, 2), 3)$ と $s_2$ がクラスタリングされる。結果： $\\{((s_1, s_5, 1), (s_3, s_4, 2), 3), s_2, 7\\}$"
   ]
  },
  {
   "cell_type": "markdown",
   "metadata": {},
   "source": [
    "# 5.5\n",
    "各輸送費用が重みとなり、ソースを供給量、シンクを需要量、輸送時の容量を無限大とすれば、図5.16 (a) と同様の形式で解くことができる。"
   ]
  },
  {
   "cell_type": "code",
   "execution_count": 3,
   "metadata": {},
   "outputs": [
    {
     "name": "stdout",
     "output_type": "stream",
     "text": [
      "{'s1': {'c1': 0.0, 'c2': 12.5, 'c3': 7.5}, 's2': {'c1': 8.5, 'c2': 0, 'c3': 6.5}, 'c1': {}, 'c2': {}, 'c3': {}}\n"
     ]
    }
   ],
   "source": [
    "G = nx.DiGraph()\n",
    "G.add_node('s1', demand = -20.0)\n",
    "G.add_node('s2', demand = -15.0)\n",
    "G.add_node('c1', demand = 8.5)\n",
    "G.add_node('c2', demand = 12.5)\n",
    "G.add_node('c3', demand = 14.0)\n",
    "G.add_edge('s1', 'c1', weight = 1.0)\n",
    "G.add_edge('s1', 'c2', weight = 2.0)\n",
    "G.add_edge('s1', 'c3', weight = 3.0)\n",
    "G.add_edge('s2', 'c1', weight = 4.0)\n",
    "G.add_edge('s2', 'c2', weight = 8.0)\n",
    "G.add_edge('s2', 'c3', weight = 7.0)\n",
    "flowDict = nx.min_cost_flow(G)\n",
    "print(flowDict)"
   ]
  },
  {
   "cell_type": "markdown",
   "metadata": {},
   "source": [
    "# 5.6\n",
    "ソース側の要素全てに需要が1あるとし、同様に、供給側の要素全てに供給が1あるとする。\n",
    "各辺の重みを0、容量を無限大とすれば、最適化した結果が最大マッチングとなる。（2つのソースから1つのシンクに辺がある際は、片方のソースのみからシンクに流れる場合はアウト？）"
   ]
  }
 ],
 "metadata": {
  "interpreter": {
   "hash": "d4d1e4263499bec80672ea0156c357c1ee493ec2b1c70f0acce89fc37c4a6abe"
  },
  "kernelspec": {
   "display_name": "Python 3.9.7 ('base')",
   "language": "python",
   "name": "python3"
  },
  "language_info": {
   "codemirror_mode": {
    "name": "ipython",
    "version": 3
   },
   "file_extension": ".py",
   "mimetype": "text/x-python",
   "name": "python",
   "nbconvert_exporter": "python",
   "pygments_lexer": "ipython3",
   "version": "3.9.7"
  },
  "orig_nbformat": 4
 },
 "nbformat": 4,
 "nbformat_minor": 2
}
