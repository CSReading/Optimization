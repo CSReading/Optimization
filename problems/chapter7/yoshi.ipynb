{
 "cells": [
  {
   "cell_type": "markdown",
   "metadata": {},
   "source": [
    "### 7-1\n",
    "#### ナップザック問題(7.7)を整数計画ソルバーで解け"
   ]
  },
  {
   "cell_type": "code",
   "execution_count": 7,
   "metadata": {},
   "outputs": [
    {
     "name": "stdout",
     "output_type": "stream",
     "text": [
      "selected items: [0, 3]\n"
     ]
    }
   ],
   "source": [
    "from mip import Model, xsum, maximize, BINARY\n",
    "\n",
    "p = [28, 33, 10, 45, 32]\n",
    "w = [2, 3, 1, 5, 4]\n",
    "c = 7\n",
    "I = range(len(w))\n",
    "\n",
    "m = Model(\"knapsack\")\n",
    "\n",
    "x = [m.add_var(var_type=BINARY) for i in I]\n",
    "\n",
    "m.objective = maximize(xsum(p[i] * x[i] for i in I))\n",
    "\n",
    "m += xsum(w[i] * x[i] for i in I) <= c\n",
    "\n",
    "m.optimize()\n",
    "\n",
    "selected = [i for i in I if x[i].x >= 0.99]\n",
    "print(\"selected items: {}\".format(selected))"
   ]
  },
  {
   "cell_type": "markdown",
   "metadata": {},
   "source": [
    "### 7-2\n",
    "#### 以下の問題を定式化せよ\n",
    "- n個の講義をm個の教室に割り当てる（$m > n$）\n",
    "- 講義の受講者を $d_1,\\dots, d_n$\n",
    "- 教室の収容人数を $r_1, \\dots, r_m$\n",
    "- 収容人数の数を超える教室の数を最小化する問題を, 整数計画問題として定式化せよ\n",
    "\n",
    "#### 答\n",
    "- $i$ を講義, $j$ を教室とする.\n",
    "-  $M > 0$ を十分大きな定数としたときに以下のように整数計画問題として定式化できる.\n",
    "$$\n",
    "\\begin{equation*}\n",
    "\\begin{aligned}\n",
    "\\min \\quad & \\sum_{i=1}^n \\sum_{j=1}^m z_{ij} \\\\\n",
    "\\textrm{s.t.} \\quad & \\sum_{j=1}^m x_{ij} = 1\\\\\n",
    "\\quad & \\sum_{i=1}^n x_{ij} \\leq 1 \\\\\n",
    "\\quad & x_{ij}(d_i - r_j) \\leq Mz_{ij} \\\\\n",
    "\\quad & x_{ij} \\in \\{0, 1\\} \\\\\n",
    "\\quad & z_{ij} \\in \\{0, 1\\} \n",
    "\\end{aligned}\n",
    "\\end{equation*}\n",
    "$$"
   ]
  },
  {
   "cell_type": "markdown",
   "metadata": {},
   "source": [
    "### 7-3\n",
    "#### 問\n",
    "- クラスター半径のうち最大のもの最小化する問題を整数制約つき２次錐計画問題として定式化せよ.\n",
    "\n",
    "#### 答\n",
    "\n",
    "$$\n",
    "\\begin{equation*}\n",
    "\\begin{aligned}\n",
    "\\min \\quad & z \\\\\n",
    "\\textrm{s.t.} \\quad & \\sum_{l=1}^m x_l = k\\\\\n",
    "\\quad & \\sum_{l = 1}^m y_{hl} = 1 \\\\\n",
    "\\quad & y_{hl} \\leq x_l \\\\\n",
    "\\quad & z \\geq y_{hl} \\cdot ||s_h - s_l||_2 \\\\\n",
    "\\quad & x_{l} \\in \\{0, 1\\} \\\\\n",
    "\\quad & y_{hl} \\in \\{0, 1\\} \n",
    "\\end{aligned}\n",
    "\\end{equation*}\n",
    "$$"
   ]
  },
  {
   "cell_type": "markdown",
   "metadata": {},
   "source": [
    "### 7-4\n",
    "#### 問\n",
    "- クラスター重心からの２乗和の合計を最小化する問題を整数制約つき２次錐計画問題として定式化せよ.\n",
    "\n",
    "#### 答\n",
    "$$\n",
    "\\begin{equation*}\n",
    "\\begin{aligned}\n",
    "\\min \\quad & \\sum_{h}^m \\sum_{l}^mz_{hl} \\\\\n",
    "\\textrm{s.t.} \\quad & \\sum_{l=1}^m x_l = k\\\\\n",
    "\\quad & \\sum_{l = 1}^m y_{hl} = 1 \\\\\n",
    "\\quad & y_{hl} \\leq x_l \\\\\n",
    "\\quad & z_{hl} \\geq y_{hl} \\cdot ||s_h - s_l||_2^2 \\\\\n",
    "\\quad & x_{l} \\in \\{0, 1\\} \\\\\n",
    "\\quad & y_{hl} \\in \\{0, 1\\} \n",
    "\\end{aligned}\n",
    "\\end{equation*}\n",
    "$$\n",
    "\n",
    "- ここで, 制約 $z_{hl} \\geq y_{hl} \\cdot ||s_h - s_l||_2^2 $ は以下のように2次錐制約の形で書き表せられる.\n",
    "$$z_{hl} + 1 \\geq ||\\begin{bmatrix} z_{hl} - 1 \\\\ 2y_{hl}(s_h - \\mu_l) \\end{bmatrix}||_2$$"
   ]
  },
  {
   "cell_type": "markdown",
   "metadata": {},
   "source": [
    "### 7-5\n",
    "#### 問\n",
    "-  文書要約を整数計画として定式化せよ.\n",
    "\n",
    "#### 答\n",
    "- 類似度を評価尺度とした場合は以下.\n",
    "$$\n",
    "\\begin{equation*}\n",
    "\\begin{aligned}\n",
    "\\max \\quad & \\sum_{i\\in V} r_i x_i \\\\\n",
    "\\textrm{s.t.} \\quad & \\sum_{i\\in V} x_i \\leq m\\\\\n",
    "\\quad & x_{i} \\in \\{0, 1\\}\n",
    "\\end{aligned}\n",
    "\\end{equation*}\n",
    "$$\n",
    "\n",
    "- 重要度を評価尺度とした場合は以下\n",
    "$$\n",
    "\\begin{equation*}\n",
    "\\begin{aligned}\n",
    "\\max \\quad & \\sum_{i \\in V} \\sum_{j \\in W_i} t_j y_j \\\\\n",
    "\\textrm{s.t.} \\quad & \\sum_{i\\in V} x_i \\leq m\\\\\n",
    "\\quad & x_{i} \\leq y_j \\quad \\forall j \\in W_i \\\\\n",
    "\\quad & x_{i} \\in \\{0, 1\\}\n",
    "\\end{aligned}\n",
    "\\end{equation*}\n",
    "$$"
   ]
  }
 ],
 "metadata": {
  "interpreter": {
   "hash": "beb4cf9dae92875600228d3972fe0816dec86166e2e7bb5e634c22474cb517ea"
  },
  "kernelspec": {
   "display_name": "Python 3.7.4 ('base')",
   "language": "python",
   "name": "python3"
  },
  "language_info": {
   "codemirror_mode": {
    "name": "ipython",
    "version": 3
   },
   "file_extension": ".py",
   "mimetype": "text/x-python",
   "name": "python",
   "nbconvert_exporter": "python",
   "pygments_lexer": "ipython3",
   "version": "3.7.4"
  },
  "orig_nbformat": 4
 },
 "nbformat": 4,
 "nbformat_minor": 2
}
