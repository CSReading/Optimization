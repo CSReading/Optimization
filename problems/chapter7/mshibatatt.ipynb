{
 "cells": [
  {
   "cell_type": "markdown",
   "metadata": {},
   "source": [
    "# Chapter7: 整数計画"
   ]
  },
  {
   "cell_type": "code",
   "execution_count": 1,
   "metadata": {},
   "outputs": [],
   "source": [
    "import numpy as np\n",
    "import cvxpy as cp"
   ]
  },
  {
   "cell_type": "markdown",
   "metadata": {},
   "source": [
    "## 7.1\n",
    "(問) ナップサック問題(7.7)を整数計画のソルバーで解いてみよ\n",
    "$\\begin{aligned}\n",
    "\\text{Maximize }& 28 x_{1} + 33 x_{2} + 10 x_{3} + 45 x_{4} + 32 x_{5} \\\\\n",
    "\\text{subject to }& 2 x_{1} + 3 x_{2} + x_{3} + 5 x_{4} + 4 x_{5} \\le 7 \\\\\n",
    "& x_{j} \\in \\{0, 1\\}, \\ \\ j = 1, \\dots, 5 \n",
    "\\end{aligned}$"
   ]
  },
  {
   "cell_type": "code",
   "execution_count": 3,
   "metadata": {},
   "outputs": [
    {
     "name": "stdout",
     "output_type": "stream",
     "text": [
      "optimal\n",
      "[1. 0. 0. 1. 0.]\n"
     ]
    }
   ],
   "source": [
    "# run after `pip install cvxopt`\n",
    "value = np.array([28, 33, 10, 45, 32])\n",
    "weight = np.array([2, 3, 1, 5, 4])\n",
    "x = cp.Variable(5, boolean = True)\n",
    "\n",
    "problem = cp.Problem(cp.Maximize(value.T @ x), constraints=[weight.T @ x <= 7])\n",
    "problem.solve()\n",
    "print(problem.status)\n",
    "print(x.value)"
   ]
  },
  {
   "cell_type": "markdown",
   "metadata": {},
   "source": [
    "## 7.2\n",
    "(問) 水曜3限の$n$個の講義科目を$m$個の教室に割り当てる問題を考える. 講義の受講者数を$d_1,\\dots, d_n$とおき, 教室の収容人数を$r_1, \\dots, r_m$とおく. 受講者数が収容人数を超える教室の数を最小にする問題を, 整数計画として定式化せよ. ただし$n$個すべての講義をいずれかの教室で開講しなければならない. また, 一つの教室で複数の講義を開講することはできない.\n",
    "\n",
    "(答) \n",
    "$\\begin{aligned}\n",
    "\\text{Minimize }& \\sum_{i = 1}^{n}\\sum_{j=1}^{m} z_{ij} \\\\\n",
    "\\text{subject to }& a_{ij}(d_{i} - r_{j}) \\le Mz_{ij} \\\\\n",
    "& z_{ij}, a_{ij} \\in \\{0, 1\\}, \\\\ \n",
    "& \\sum_{i=1}^{n} a_{ij} \\le 1 \\\\\n",
    "& \\sum_{j=1}^{m} a_{ij} = 1, \\\\\n",
    "& i = 1, \\dots, n, \\ \\ j = 1, \\dots, m \n",
    "\\end{aligned}$\n",
    "\n",
    "where $M$ is big-M"
   ]
  },
  {
   "cell_type": "markdown",
   "metadata": {},
   "source": [
    "## 7.3\n",
    "(問) 非階層クラスタリングの一つとして, クラスターの半径のうち最大のものを最小化する問題を考える. ただし, クラスターの半径とは, そのクラスターに属するすべての点を含む最小の円の半径であると定義する. 図7.9の例では, 点線で表した線分の長さがクラスターの半径である. この問題を, 整数制約付き2次錘計画問題として定式化せよ.\n",
    "\n",
    "(答) \n",
    "Let $\\bm{s}_{1}, \\dots ,\\bm{s}_{m}, \\in \\mathbb{R}^{d}$ be data and $y_{il}$ be an indicator to show if $\\bm{s}_{i}$ is in the cluster $C_{l}$.\n",
    "\n",
    "$\\begin{aligned}\n",
    "\\text{Minimize }& z \\\\\n",
    "\\text{subject to }& z + M(1-y_{il}) \\ge \\|\\bm{s}_{i} - \\bm{x}_{l} \\|_{2} \\\\\n",
    "& \\sum_{l}y_{il} = 1 \\\\\n",
    "& y_{il} \\in \\{0, 1\\}, \\ \\ i = 1, \\dots, m \\\\\n",
    "& \\bm{x}_{l} \\in \\mathbb{R}^{d}\n",
    "\\end{aligned}$\n",
    "\n",
    "where $M$ is big-M"
   ]
  },
  {
   "cell_type": "markdown",
   "metadata": {},
   "source": [
    "## 7.4\n",
    "(問) クラスタリング法では,クラスターの重心からデータ点の距離の2乗和を最小化する問題\n",
    "$$\\text{Minimize }\\sum^{k}_{i=1}\\sum_{\\bm{s}_{l}\\in C_{i}}\\rho(\\bm{s}_{l}, \\bm{\\mu}_{i})^2$$\n",
    "を考えた. ただし, クラスター$C_{i}$の重心$\\bm{\\mu}_{i}$は, $C_{i}$に属する点からの距離の2乗和が最小の点である:\n",
    "$$\\bm{\\mu}_{i}=\\argmin_{\\bm{\\mu}^{\\prime}\\in \\mathbb{R}^{n}}\\sum_{\\bm{s}_{l}\\in C_{i}}\\rho(\\bm{s}_{l}, \\bm{\\mu}^{\\prime})^2$$\n",
    "この問題と等価な問題として, 目的関数が線形関数であり, 制約が線形制約, 2次錘制約, 整数制約の3種類のみであるような問題を定式化せよ.\n",
    "\n",
    "(答) \n",
    "Let $\\bm{s}_{1}, \\dots ,\\bm{s}_{m}, \\in \\mathbb{R}^{d}$ be data and $y_{il}$ be an indicator to show if $\\bm{s}_{i}$ is in the cluster $C_{l}$.\n",
    "\n",
    "$\\begin{aligned}\n",
    "\\text{Minimize }& z \\\\\n",
    "\\text{subject to }& z + M(1-y_{il}) + 1 \\ge \\left\\| \\begin{matrix} z + M(1-y_{il}) - 1 \\\\ 2(\\bm{s}_{i} - \\bm{x}_{l}) \\end{matrix}\\right\\|_{2} \\\\\n",
    "& \\sum_{l}y_{il} = 1 \\\\\n",
    "& y_{il} \\in \\{0, 1\\}, \\ \\ i = 1, \\dots, m \\\\\n",
    "& \\bm{x}_{l} \\in \\mathbb{R}^{d}\n",
    "\\end{aligned}$\n",
    "\n",
    "where $z + M(1-y_{il}) + 1 \\ge \\left\\| \\begin{matrix} z + M(1-y_{il}) - 1 \\\\ 2(\\bm{s}_{i} - \\bm{x}_{l}) \\end{matrix}\\right\\|_{2}$ is equivlent to $z + M(1-y_{il}) \\ge \\|\\bm{s}_{i} - \\bm{x}_{l} \\|_{2}^{2}$"
   ]
  },
  {
   "cell_type": "markdown",
   "metadata": {},
   "source": [
    "## 7.5\n",
    "(問) 6.4.3節で取り上げた文書要約に関する最適化問題を,整数計画問題として定式化せよ\n",
    "\n",
    "(答) \n",
    "(i) In case $f(S) = \\sum_{i\\in S}r_{i}$. Let $x_{i}$ be an indicator to show if sentence ${i}$ is in the summary $S$.\n",
    "\n",
    "$\\begin{aligned}\n",
    "\\text{Maximize }& \\sum_{i\\in V} r_{i}x_{i} \\\\\n",
    "\\text{subject to }& \\sum_{i}x_{i} \\le m \\\\\n",
    "& x_{i} \\in \\{0, 1\\}\n",
    "\\end{aligned}$\n",
    "\n",
    "(ii) In case $f(S) = \\sum_{j\\in \\cup_{i\\in S}W_{i}} t_{j}$. Let $x_{i}$ be an indicator to show if sentence ${i}$ is in the summary $S$.\n",
    "\n",
    "$\\begin{aligned}\n",
    "\\text{Maximize }& \\sum_{j\\in W} t_{j}y_{j}\\\\\n",
    "\\text{subject to }& \\sum_{i}x_{i} \\le m \\\\\n",
    "& x_{i} \\ge y_{j} \\ \\forall\\ i\\in V, j\\in W_{i} \\\\\n",
    "& x_{i}\\in \\{0, 1\\}\n",
    "\\end{aligned}$\n",
    "\n",
    "(iii) In case $f(S) = \\sum_{i\\in V} \\min\\{\\sum_{j\\in S}u_{ij}, \\hat{w}_{i}\\}$. Let $x_{i}$ be an indicator to show if sentence ${i}$ is in the summary $S$.\n",
    "$\\begin{aligned}\n",
    "\\text{Maximize }& \\sum_{i\\in V}z_{i}  \\\\\n",
    "\\text{subject to }& \\sum_{j\\in V} u_{ij}x_{j} \\ge z_{i} \\\\\n",
    "& \\hat{w}_{i} \\ge z_{i} \\\\\n",
    "& \\sum_{i}x_{i} \\le m \\\\\n",
    "& x_{i} \\in \\{0, 1\\}\n",
    "\\end{aligned}$"
   ]
  },
  {
   "cell_type": "code",
   "execution_count": null,
   "metadata": {},
   "outputs": [],
   "source": []
  }
 ],
 "metadata": {
  "interpreter": {
   "hash": "d4d1e4263499bec80672ea0156c357c1ee493ec2b1c70f0acce89fc37c4a6abe"
  },
  "kernelspec": {
   "display_name": "Python 3.9.7 ('base')",
   "language": "python",
   "name": "python3"
  },
  "language_info": {
   "codemirror_mode": {
    "name": "ipython",
    "version": 3
   },
   "file_extension": ".py",
   "mimetype": "text/x-python",
   "name": "python",
   "nbconvert_exporter": "python",
   "pygments_lexer": "ipython3",
   "version": "3.9.7"
  },
  "orig_nbformat": 4
 },
 "nbformat": 4,
 "nbformat_minor": 2
}
