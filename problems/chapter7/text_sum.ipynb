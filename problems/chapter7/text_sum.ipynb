{
 "cells": [
  {
   "cell_type": "code",
   "execution_count": 154,
   "metadata": {},
   "outputs": [],
   "source": [
    "import pandas as pd\n",
    "from janome.tokenizer import Tokenizer\n",
    "from janome.analyzer import Analyzer\n",
    "from janome.tokenfilter import POSStopFilter\n",
    "from sklearn.feature_extraction.text import CountVectorizer\n",
    "from sklearn.feature_extraction.text import TfidfVectorizer\n",
    "from scipy import spatial\n",
    "import numpy as np"
   ]
  },
  {
   "cell_type": "code",
   "execution_count": 128,
   "metadata": {},
   "outputs": [],
   "source": [
    "url = \"https://nlp100.github.io/data/neko.txt\"\n",
    "df = pd.read_csv(url, header = None)\n",
    "df.rename(columns={0 : \"raw\"}, inplace=True)\n",
    "\n",
    "indices = [df.index[df.raw == s][0] for s in [\"一\", \"二\", \"三\", \"四\", \"五\", \"六\", \"七\", \"八\", \"九\", \"十\", \"十一\"]]\n",
    "indices.append(len(df))\n",
    "chapter = []\n",
    "for i in range(1, len(indices)):\n",
    "    chapter.extend([i] * (indices[i] - indices[i-1]))\n",
    "\n",
    "df[\"chapter\"] = chapter\n",
    "df.drop(index = indices[0:-1], inplace = True)\n",
    "df.reset_index(drop=True, inplace = True)"
   ]
  },
  {
   "cell_type": "code",
   "execution_count": 129,
   "metadata": {},
   "outputs": [],
   "source": [
    "tokenizer = Tokenizer()\n",
    "token_filters = [POSStopFilter([\"記号\", \"助詞\", \"助動詞\"])]\n",
    "a = Analyzer(tokenizer=tokenizer, token_filters=token_filters)"
   ]
  },
  {
   "cell_type": "code",
   "execution_count": 130,
   "metadata": {},
   "outputs": [],
   "source": [
    "def get_tokens(raw):\n",
    "    test_tokens = a.analyze(raw)\n",
    "    text = \" \". join([t.base_form for t in test_tokens])\n",
    "    return text\n",
    "    "
   ]
  },
  {
   "cell_type": "code",
   "execution_count": 131,
   "metadata": {},
   "outputs": [],
   "source": [
    "df[\"text\"] = df[\"raw\"].apply(get_tokens)"
   ]
  },
  {
   "cell_type": "markdown",
   "metadata": {},
   "source": [
    "## Bag of Words\n",
    "Cosine Similarity"
   ]
  },
  {
   "cell_type": "code",
   "execution_count": 171,
   "metadata": {},
   "outputs": [
    {
     "name": "stderr",
     "output_type": "stream",
     "text": [
      "/opt/conda/lib/python3.9/site-packages/scipy/spatial/distance.py:630: RuntimeWarning: invalid value encountered in double_scalars\n",
      "  dist = 1.0 - uv / np.sqrt(uu * vv)\n"
     ]
    }
   ],
   "source": [
    "counter = CountVectorizer()\n",
    "vec_bow = counter.fit_transform(df[\"text\"])\n",
    "df[\"vec_bow\"] = [vec for vec in vec_bow.toarray()]\n",
    "\n",
    "tmp = df.groupby(\"chapter\").vec_bow.apply(np.sum)\n",
    "dict_bow = {i+1:x for i, x in enumerate(tmp)}\n",
    "df[\"vec_bow_chap\"] = df[\"chapter\"].map(dict_bow)\n",
    "\n",
    "df[\"similarity\"] = df.apply(lambda x: spatial.distance.cosine(x.vec_bow, x.vec_bow_chap), axis = 1)"
   ]
  },
  {
   "cell_type": "code",
   "execution_count": 180,
   "metadata": {},
   "outputs": [
    {
     "data": {
      "text/plain": [
       "chapter\n",
       "1     そのうち池の上をさらさらと風が渡って日が暮れかかる。涎を本の上へ垂らす。第一色が違う。彼は純...\n",
       "2              「何おめでてえ？球は上へ上へとのぼる。彼は強い。球が空にあがる。「御苦労だった。\n",
       "3     「鼠どころじゃございません。シモニジスは八十で妙詩を作った。こいつは剣呑だと水桶の裏へかくれ...\n",
       "4     ——もってのほかの事である。宜しゅうございます」「かしこまりました。「いやー珍客だね。「大変...\n",
       "5      鼻は猫にとっても急所である。痛む事おびただしい。「七時半でしたろう」「黒足袋が一足」「頑愚だな。\n",
       "6     鳳眠を驚かし奉ってはなはだ相済まん。いわゆる霊の交換だね。御気に入りませんかね。倦んじて薫ず...\n",
       "7        図太い奴だ。台湾の生蕃である。和唐内の時にゃ無かったね。魔中の大王だ。「字って横文字ですか」\n",
       "8                ずるい奴だ。大気※である。「にせものだろう。何かご用で」「君うるさくないか。\n",
       "10    声盲だって片輪に違いない。夏だって夜露は毒だ。情ない事だ。「天探女でしょう。無類ですよ」「う...\n",
       "Name: raw, dtype: object"
      ]
     },
     "execution_count": 180,
     "metadata": {},
     "output_type": "execute_result"
    }
   ],
   "source": [
    "df[df.groupby(\"chapter\")[\"similarity\"].rank(ascending = False) <= 5].groupby(\"chapter\")[\"raw\"].apply(\"\".join)"
   ]
  }
 ],
 "metadata": {
  "interpreter": {
   "hash": "d4d1e4263499bec80672ea0156c357c1ee493ec2b1c70f0acce89fc37c4a6abe"
  },
  "kernelspec": {
   "display_name": "Python 3.9.7 ('base')",
   "language": "python",
   "name": "python3"
  },
  "language_info": {
   "codemirror_mode": {
    "name": "ipython",
    "version": 3
   },
   "file_extension": ".py",
   "mimetype": "text/x-python",
   "name": "python",
   "nbconvert_exporter": "python",
   "pygments_lexer": "ipython3",
   "version": "3.9.10"
  },
  "orig_nbformat": 4
 },
 "nbformat": 4,
 "nbformat_minor": 2
}
