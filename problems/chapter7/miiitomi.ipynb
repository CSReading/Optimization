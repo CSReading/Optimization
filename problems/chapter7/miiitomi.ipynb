{
 "cells": [
  {
   "cell_type": "markdown",
   "metadata": {},
   "source": [
    "# 第7章 整数計画"
   ]
  },
  {
   "cell_type": "markdown",
   "metadata": {},
   "source": [
    "## 7.1\n",
    ">ナップサック問題 (7.7) を、整数計画のソルバーで解いてみよ。\n",
    ">$$\n",
    ">\\begin{align*}\n",
    ">\\max \\ &28x_1 + 33 x_2 + 10 x_3 + 45 x_4 + 32 x_5\\\\\n",
    ">\\mathrm{s.t.} \\ &2x_1 + 3 x_2 + x_3 + 5x_4 + 4 x_5 \\le 7\\\\\n",
    ">&x_j \\in \\{0, 1\\}, \\ \\ j = 1, \\dots, 5.\n",
    ">\\end{align*}\n",
    ">$$"
   ]
  },
  {
   "cell_type": "code",
   "execution_count": 1,
   "metadata": {},
   "outputs": [],
   "source": [
    "from mip import Model, BINARY, xsum, maximize"
   ]
  },
  {
   "cell_type": "code",
   "execution_count": 2,
   "metadata": {},
   "outputs": [],
   "source": [
    "m = Model()\n",
    "x = [m.add_var(var_type=BINARY) for _ in range(5)]\n",
    "c = [28, 33, 10, 45, 32]\n",
    "a = [2, 3, 1, 5, 4]\n",
    "\n",
    "m.objective = maximize(xsum(c[i]*x[i] for i in range(5)))\n",
    "m += xsum(a[i]*x[i] for i in range(5)) <= 7\n",
    "\n",
    "m.optimize()\n",
    "\n",
    "from IPython.display import clear_output\n",
    "clear_output()"
   ]
  },
  {
   "cell_type": "code",
   "execution_count": 3,
   "metadata": {},
   "outputs": [
    {
     "name": "stdout",
     "output_type": "stream",
     "text": [
      "Status: OptimizationStatus.OPTIMAL\n",
      "Value: 73.0\n",
      "Solution: x = [1.0, 0.0, 0.0, 1.0, 0.0]\n"
     ]
    }
   ],
   "source": [
    "print(\"Status:\", m.status)\n",
    "print(\"Value:\", m.objective_value)\n",
    "print(\"Solution: x =\", [z.x for z in m.vars])"
   ]
  }
 ],
 "metadata": {
  "interpreter": {
   "hash": "3196bc118918a0ecff391b0ed98e915cb3234bdee8d6e143a87d514bd37f71a4"
  },
  "kernelspec": {
   "display_name": "Python 3.9.7 ('base')",
   "language": "python",
   "name": "python3"
  },
  "language_info": {
   "codemirror_mode": {
    "name": "ipython",
    "version": 3
   },
   "file_extension": ".py",
   "mimetype": "text/x-python",
   "name": "python",
   "nbconvert_exporter": "python",
   "pygments_lexer": "ipython3",
   "version": "3.9.7"
  },
  "orig_nbformat": 4
 },
 "nbformat": 4,
 "nbformat_minor": 2
}
