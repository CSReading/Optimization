{
 "cells": [
  {
   "cell_type": "markdown",
   "metadata": {},
   "source": [
    "# Chapter2: 線形計画と凸2次計画"
   ]
  },
  {
   "cell_type": "code",
   "execution_count": 1,
   "metadata": {},
   "outputs": [],
   "source": [
    "import cvxpy as cp\n",
    "import numpy as np\n",
    "import matplotlib.pyplot as plt\n",
    "import seaborn as sns"
   ]
  },
  {
   "cell_type": "markdown",
   "metadata": {},
   "source": [
    "## 2.1\n",
    "(問) 1.1節の例1.2の輸送問題を線形計画問題として定式化せよ.\n",
    "\n",
    "(答) \n",
    "$\\begin{aligned}\n",
    "\\text{Minimize } & x_{11} + 2x_{12} + 3x_{13} + 4x_{21} + 8x_{22} + 7x_{23} \\\\\n",
    "\\text{subject to } & x_{11} + x_{12} + x_{13} \\le 20,\\\\\n",
    "& x_{21} + x_{22} + x_{23} \\le 15,\\\\\n",
    "& x_{11} + x_{21} = 8.5,\\\\\n",
    "& x_{12} + x_{22} = 12.5,\\\\\n",
    "& x_{13} + x_{23} = 14,\\\\\n",
    "& x_{11}, x_{12}, x_{13}, x_{21}, x_{22}, x_{23} \\ge 0.\n",
    "\\end{aligned}$"
   ]
  },
  {
   "cell_type": "code",
   "execution_count": 4,
   "metadata": {},
   "outputs": [
    {
     "name": "stdout",
     "output_type": "stream",
     "text": [
      "status: optimal\n",
      "optimal value 127.00000000256257\n",
      "optimal var [2.33008413e-09 1.25000000e+01 7.50000000e+00 8.50000000e+00\n",
      " 2.07574270e-10 6.50000000e+00]\n"
     ]
    }
   ],
   "source": [
    "# solving by cvxpy\n",
    "x = cp.Variable(6)\n",
    "obj = cp.Minimize(x[0] + 2*x[1] + 3*x[2] + 4* x[3] + 8*x[4] + 7*x[5])\n",
    "constraints = [x[0] + x[1] + x[2] <= 20,\n",
    "               x[3] + x[4] + x[5] <= 15,\n",
    "               x[0] + x[3] == 8.5,\n",
    "               x[1] + x[4] == 12.5,\n",
    "               x[2] + x[5] == 14,\n",
    "               x >= 0]\n",
    "prob = cp.Problem(obj, constraints)\n",
    "prob.solve() \n",
    "print(\"status:\", prob.status)\n",
    "print(\"optimal value\", prob.value)\n",
    "print(\"optimal var\", x.value)"
   ]
  },
  {
   "cell_type": "markdown",
   "metadata": {},
   "source": [
    "## 2.2\n",
    "(問) 次の線形計画問題を等式標準形に直せ.\n",
    "\n",
    "(i)\n",
    "$\\begin{aligned}\n",
    "    \\text{Maximize } &-x_{1} + 4x_{2} \\\\\n",
    "    \\text{subject to } &x_{1} + 3x_{2} \\ge 3,\\\\\n",
    "    & -2x_{1} + x_{2} \\le 2,\\\\\n",
    "    & x_{1}, x_{2} \\ge 0.\n",
    "    \\end{aligned}$\n",
    "\n",
    "(ii)\n",
    "$\\begin{aligned}\n",
    "    \\text{Minimize } &x_{1} + 2x_{2} + x_{3}\\\\\n",
    "    \\text{subject to } &x_{1} + 2x_{2} + 4x_{3} = 6,\\\\\n",
    "    & 5x_{1} + 4x_{2} \\ge 20,\\\\\n",
    "    & x_{2} \\ge 0.\n",
    "    \\end{aligned}$\n",
    "\n",
    "(答)\n",
    "スラック変数を導入し、以下のような等式標準形にする\n",
    "$\\begin{aligned}\n",
    "\\text{Minimize } &\\bm{c}^{\\top}\\bm{x}\\\\\n",
    "\\text{subject to } &A\\bm{x} = \\bm{b},\\\\\n",
    "& \\bm{x} \\ge 0.\n",
    "\\end{aligned}$\n",
    "\n",
    "(i)\n",
    "$\\begin{aligned}\n",
    "\\text{Minimize } &\n",
    "\\left[\n",
    "    \\begin{matrix} 1 \\\\ -4 \\\\ 0 \\\\ 0 \\end{matrix}\n",
    "\\right]^{\\top}\n",
    "\\left[\n",
    "    \\begin{matrix} x_{1} \\\\ x_{2} \\\\ x_{3} \\\\ x_{4} \\end{matrix}\n",
    "\\right]\\\\\n",
    "\\text{subject to } &\n",
    "\\left[\n",
    "    \\begin{matrix} 1 & 3 & -1 & 0 \\\\ -2 & 1 & 0 & 1 \\end{matrix}\n",
    "\\right] \n",
    "\\left[\n",
    "    \\begin{matrix} x_{1} \\\\ x_{2} \\\\ x_{3} \\\\ x_{4} \\end{matrix}\n",
    "\\right] =\n",
    "\\left[\n",
    "    \\begin{matrix} 3 \\\\ 2 \\end{matrix}\n",
    "\\right],\\\\\n",
    "& \n",
    "\\left[\n",
    "    \\begin{matrix} x_{1} \\\\ x_{2} \\\\ x_{3} \\\\ x_{4} \\end{matrix}\n",
    "\\right] \\ge \\bm{0}.\n",
    "\\end{aligned}$\n",
    "\n",
    "(ii)\n",
    "\n",
    "$\\begin{aligned}\n",
    "\\text{Minimize } &\n",
    "\\left[\n",
    "    \\begin{matrix} 1 \\\\ -1 \\\\ 2 \\\\ 1 \\\\ -1 \\\\ 0 \\end{matrix}\n",
    "\\right]^{\\top}\n",
    "\\left[\n",
    "    \\begin{matrix} x_{1}^{+} \\\\ x_{1}^{-} \\\\ x_{2} \\\\ x_{3}^{+} \\\\ x_{3}^{-} \\\\ x_{4} \\end{matrix}\n",
    "\\right]\\\\\n",
    "\\text{subject to } &\n",
    "\\left[\n",
    "    \\begin{matrix} 1 & -1 & 2 & 4 & -4 & 0 \\\\ 5 & -5 & 4 & 0 & 0 & -1 \\end{matrix}\n",
    "\\right] \n",
    "\\left[\n",
    "    \\begin{matrix} x_{1}^{+} \\\\ x_{1}^{-} \\\\ x_{2} \\\\ x_{3}^{+} \\\\ x_{3}^{-} \\\\ x_{4} \\end{matrix}\n",
    "\\right] =\n",
    "\\left[\n",
    "    \\begin{matrix} 6 \\\\ 20 \\end{matrix}\n",
    "\\right],\\\\\n",
    "& \n",
    "\\left[\n",
    "    \\begin{matrix} x_{1}^{+} \\\\ x_{1}^{-} \\\\ x_{2} \\\\ x_{3}^{+} \\\\ x_{3}^{-} \\\\ x_{4} \\end{matrix}\n",
    "\\right] \\ge \\bm{0}.\n",
    "\\end{aligned}$"
   ]
  },
  {
   "cell_type": "code",
   "execution_count": 77,
   "metadata": {},
   "outputs": [
    {
     "name": "stdout",
     "output_type": "stream",
     "text": [
      "unbounded\n",
      "None\n"
     ]
    }
   ],
   "source": [
    "# (i)\n",
    "x = cp.Variable(2)\n",
    "obj = cp.Maximize(-x[0] + 4*x[1])\n",
    "cons = [x[0] + 3 * x[1] >= 3, -2*x[0] + x[1] <= 2]\n",
    "P = cp.Problem(obj, cons)\n",
    "P.solve()\n",
    "print(P.status)\n",
    "print(x.value)"
   ]
  },
  {
   "cell_type": "code",
   "execution_count": 98,
   "metadata": {},
   "outputs": [
    {
     "data": {
      "image/png": "[encoded data removed]",
      "text/plain": [
       "<Figure size 432x288 with 1 Axes>"
      ]
     },
     "metadata": {
      "needs_background": "light"
     },
     "output_type": "display_data"
    }
   ],
   "source": [
    "# visualize (i)\n",
    "x1 = np.arange(0, 5, 0.1)\n",
    "x2 = np.arange(0, 5, 0.1)\n",
    "x1, x2 = np.meshgrid(x1, x2)\n",
    "obj = -x1 + 4*x2\n",
    "cons1 = x1 + 3 * x2\n",
    "cons2 = -2*x1 + x2\n",
    "CS_obj = plt.contour(x1, x2, obj, np.arange(0, 11, 2))\n",
    "CS_cons1 = plt.contourf(x1, x2, cons1, [3, 100], colors = 'red', alpha=0.1)\n",
    "CS_cons2 = plt.contourf(x1, x2, cons2, [-100, 2], colors = 'blue', alpha=0.1)\n",
    "plt.xlabel('x1')\n",
    "plt.ylabel('x2')\n",
    "plt.clabel(CS_obj)\n",
    "CS_cons1.collections[0].set_label('constraint 1')\n",
    "CS_cons2.collections[0].set_label('constraint 2')\n",
    "plt.legend()\n",
    "plt.show()"
   ]
  },
  {
   "cell_type": "code",
   "execution_count": 60,
   "metadata": {},
   "outputs": [
    {
     "name": "stdout",
     "output_type": "stream",
     "text": [
      "unbounded\n",
      "None\n"
     ]
    }
   ],
   "source": [
    "# (ii) normalized\n",
    "x = cp.Variable(5)\n",
    "c = np.array([1, -1, 2, 1, 0]).T\n",
    "A = np.array([[1, -1, 2, 4, 0], [5, -5, 4, 0, 1]])\n",
    "b = np.array([6, 20]).T\n",
    "\n",
    "obj = cp.Minimize(c.T @ x)\n",
    "cons = [A @ x == b, x >= 0]\n",
    "P_normal = cp.Problem(obj, cons)\n",
    "P_normal.solve()\n",
    "print(P.status)\n",
    "print(x.value)\n",
    "# com'on!!"
   ]
  },
  {
   "cell_type": "markdown",
   "metadata": {},
   "source": [
    "## 2.3 \n",
    "(問) 練習問題2.2の線形計画問題の双対問題を導け.\n",
    "\n",
    "ラグランジュ双対問題を示す.\n",
    "等式標準形\n",
    "$\\begin{aligned}\n",
    "\\text{Minimize } &\\bm{c}^{\\top}\\bm{x}\\\\\n",
    "\\text{subject to } &A\\bm{x} = \\bm{b},\\\\\n",
    "& \\bm{x} \\ge 0.\n",
    "\\end{aligned}$\n",
    "から\n",
    "$$\\min_{\\bm{x}, \\bm{\\lambda}, \\bm{\\mu}} \\mathcal{L}= \\bm{c}^{\\top}\\bm{x} - \\bm{\\lambda}^{\\top}(A\\bm{x} - \\bm{b}) - \\bm{\\mu}^{\\top}\\bm{x}$$\n",
    "\n",
    "Now, \n",
    "$\\begin{aligned}\n",
    "\\mathcal{L}&= \\bm{\\lambda}^{\\top}\\bm{b} + \\bm{c}^{\\top}\\bm{x} - \\bm{\\lambda}^{\\top}A\\bm{x} - \\bm{\\mu}^{\\top}\\bm{x} \\\\\n",
    "&= \\bm{b}^{\\top}\\bm{\\lambda} + \\bm{x}^{\\top}\\bm{c} - \\bm{x}^{\\top}A^{\\top}\\bm{\\lambda} - \\bm{x}^{\\top}\\bm{\\mu} \\\\\n",
    "&= \\bm{b}^{\\top}\\bm{\\lambda} - \\bm{x}^{\\top}(A^{\\top}\\bm{\\lambda} - \\bm{c}) - \\bm{x}^{\\top}\\bm{\\mu}\n",
    "???????\n",
    "\\end{aligned}$\n",
    "\n",
    "(答)\n",
    "\n",
    "(i)\n",
    "$\\begin{aligned}\n",
    "\\text{Maximize } &\n",
    "\\left[\n",
    "    \\begin{matrix} 3 \\\\ 2 \\end{matrix}\n",
    "\\right]^{\\top}\n",
    "\\left[\n",
    "    \\begin{matrix} y_{1} \\\\ y_{2} \\end{matrix}\n",
    "\\right]\\\\\n",
    "\\text{subject to } &\n",
    "\\left[\n",
    "    \\begin{matrix} 1 & 3 & -1 & 0 \\\\ -2 & 1 & 0 & 1 \\end{matrix}\n",
    "\\right]^{\\top}\n",
    "\\left[\n",
    "    \\begin{matrix} y_{1} \\\\ y_{2} \\end{matrix}\n",
    "\\right] \\le\n",
    "\\left[\n",
    "    \\begin{matrix} 1 \\\\ -4 \\\\ 0 \\\\ 0 \\end{matrix}\n",
    "\\right]\n",
    "\\end{aligned}$\n",
    "\n",
    "(ii)\n",
    "\n",
    "$\\begin{aligned}\n",
    "\\text{Maximize } &\n",
    "\\left[\n",
    "    \\begin{matrix} 6 \\\\ 20 \\end{matrix}\n",
    "\\right]^{\\top}\n",
    "\\left[\n",
    "    \\begin{matrix} y_{1} \\\\ y_{2} \\end{matrix}\n",
    "\\right]\\\\\n",
    "\\text{subject to } &\n",
    "\\left[\n",
    "    \\begin{matrix} 1 & -1 & 2 & 4 & -4 & 0 \\\\ 5 & -5 & 4 & 0 & 0 & -1 \\end{matrix}\n",
    "\\right]^{\\top}\n",
    "\\left[\n",
    "    \\begin{matrix} y_{1} \\\\ y_{2} \\end{matrix}\n",
    "\\right] \\le\n",
    "\\left[\n",
    "    \\begin{matrix} 1 \\\\ -1 \\\\ 2 \\\\ 1 \\\\ -1 \\\\ 0 \\end{matrix}\n",
    "\\right]\n",
    "\\end{aligned}$"
   ]
  },
  {
   "cell_type": "code",
   "execution_count": 97,
   "metadata": {},
   "outputs": [
    {
     "data": {
      "image/png": "[encoded data removed]",
      "text/plain": [
       "<Figure size 432x288 with 1 Axes>"
      ]
     },
     "metadata": {
      "needs_background": "light"
     },
     "output_type": "display_data"
    }
   ],
   "source": [
    "# visualize (i)\n",
    "y1 = np.arange(0, 5, 0.1)\n",
    "y2 = np.arange(-4.9, 0.1, 0.1)\n",
    "y1, y2 = np.meshgrid(y1, y2)\n",
    "\n",
    "obj = -3 * y1 - 2 * y2\n",
    "cons1 = y1 - 2 * y2\n",
    "cons2 = 3 * y1 + y2 \n",
    "\n",
    "CS = plt.contour(y1, y2, obj, np.arange(-5, 5))\n",
    "plt.contourf(y1, y2, cons1, [-100,1], colors = 'red', alpha = 0.1)\n",
    "plt.contourf(y1, y2, cons2, [-100, -4], colors = 'blue', alpha = 0.1)\n",
    "plt.clabel(CS)\n",
    "plt.xlabel('y1')\n",
    "plt.ylabel('y2')\n",
    "plt.show()"
   ]
  },
  {
   "cell_type": "code",
   "execution_count": 94,
   "metadata": {},
   "outputs": [
    {
     "name": "stdout",
     "output_type": "stream",
     "text": [
      "infeasible\n",
      "None\n"
     ]
    }
   ],
   "source": [
    "# solve (i)\n",
    "y = cp.Variable(2)\n",
    "\n",
    "obj = cp.Maximize(np.array([3, 2]) @ y)\n",
    "cons = [y[0] - 2 * y[1] <= 1,\n",
    "        3 * y[0] + y[1] <= -4,\n",
    "        y[0] >= 0,\n",
    "        y[1] <= 0]\n",
    "P = cp.Problem(obj, cons)\n",
    "P.solve()\n",
    "print(P.status)\n",
    "print(y.value)"
   ]
  },
  {
   "cell_type": "markdown",
   "metadata": {},
   "source": [
    "## 2.4 \n",
    "(問) 2.3.1節では線形計画問題(2.15)の実行可能基底解が得られていることを前提に,単一法の一反復を説明した.実行可能基底解を得るためにしばしば次の線形計画問題が利用される.\n",
    "$\\begin{aligned}\n",
    "\\text{Minimize } &\\bm{1}^{\\top}\\bm{z} \\\\\n",
    "\\text{subject to } &A\\bm{x} + \\bm{z} = \\bm{b}, \\\\\n",
    "& \\bm{x} \\ge \\bm{0}, \\bm{z} \\ge \\bm{0}\n",
    "\\end{aligned}$\n",
    "ただし, $\\bm{b}\\ge\\bm{0}$.ここで, $\\bm{z}$を基底変数とするこの問題の実行可能基底解はどのようなものか. また, この問題の最適解と問題(2.15)の実行可能基底解とにはどのような関係があるか.\n",
    "\n",
    "(答)\n",
    "- $\\bm{z}$を基底変数とすると$\\bm{x} = \\bm{0}$より, この問題の実行可能基底解は$\\bm{z}= \\bm{b}$.\n",
    "- この問題の最適解で$\\bm{z}=\\bm{0}$ならそのときの$\\bm{x}$が問題(2.15)の実行可能基底解である. 解の$\\bm{z}$のうちどれかの成分が正であれば制約式を満たすことができないため,元の問題に実行可能解は存在しない"
   ]
  },
  {
   "cell_type": "code",
   "execution_count": 45,
   "metadata": {},
   "outputs": [
    {
     "name": "stdout",
     "output_type": "stream",
     "text": [
      "optimal\n",
      "4.999999998118344\n",
      "[5.00000000e+00 4.84924028e-10]\n"
     ]
    }
   ],
   "source": [
    "# assume following problem \n",
    "x = cp.Variable(2)\n",
    "c = np.array([1, 1]).T\n",
    "A = np.array([\n",
    "    [0, 2],\n",
    "    [0.5, -1], \n",
    "    [2, 3]\n",
    "])\n",
    "b = np.array([10, 0.5, 20]).T\n",
    "obj = cp.Maximize(c.T @ x)\n",
    "P = cp.Problem(obj, [A @ x <= b, x >= 0])\n",
    "P.solve()\n",
    "print(P.status)\n",
    "print(P.value)\n",
    "print(x.value)"
   ]
  },
  {
   "cell_type": "code",
   "execution_count": 46,
   "metadata": {},
   "outputs": [
    {
     "data": {
      "image/png": "[encoded data removed]",
      "text/plain": [
       "<Figure size 432x288 with 1 Axes>"
      ]
     },
     "metadata": {
      "needs_background": "light"
     },
     "output_type": "display_data"
    }
   ],
   "source": [
    "def visualize_cp2d(c, A, b):\n",
    "    \"\"\"\n",
    "    visualize 2D linear programming problem\n",
    "    c, A, b are np.ndarray in normal form of problem\n",
    "    \"\"\"\n",
    "    x1, x2 = np.meshgrid(np.arange(0, 10, 0.1), np.arange(0, 10, 0.1)) # todo: decide range\n",
    "    obj = c[0] * x1 + c[1] * x2\n",
    "    CS = plt.contour(x1, x2, obj, np.arange(5, 11)) # todo: decide range\n",
    "    for i, row in enumerate(A):\n",
    "        cons = row[0] * x1 + row[1] * x2 \n",
    "        plt.contourf(x1, x2, cons, [-float('inf'), b[i]], alpha = 0.1)\n",
    "\n",
    "    plt.clabel(CS)\n",
    "    plt.xlabel('$x_1$')\n",
    "    plt.ylabel('$x_2$')\n",
    "    plt.show()\n",
    "\n",
    "visualize_cp2d(c, A, b)"
   ]
  },
  {
   "cell_type": "code",
   "execution_count": 47,
   "metadata": {},
   "outputs": [
    {
     "name": "stdout",
     "output_type": "stream",
     "text": [
      "optimal\n",
      "P: 5.2309252868385365e-09\n",
      "x: [1.87906904 2.08062064]\n",
      "z: [5.23092529e-09]\n"
     ]
    },
    {
     "data": {
      "text/plain": [
       "array([1.87906904, 2.08062064])"
      ]
     },
     "execution_count": 47,
     "metadata": {},
     "output_type": "execute_result"
    }
   ],
   "source": [
    "def basic_solution(A, b):\n",
    "    \"\"\"\n",
    "    derive basic solution of linear programming problem\n",
    "    A, b are np.ndarray in normal form of problem\n",
    "    \"\"\"\n",
    "    x = cp.Variable(A.shape[1])\n",
    "    z = cp.Variable(len(b))\n",
    "    obj = cp.Minimize(cp.sum(z))\n",
    "\n",
    "    P = cp.Problem(obj, [A @ x + z == b, x >= 0, z >= 0])\n",
    "    P.solve()\n",
    "\n",
    "    print(P.status)\n",
    "    print('P:', P.value)\n",
    "    print('x:', x.value)\n",
    "    print('z:', z.value)\n",
    "    return x.value\n",
    "basic_solution(A, b)\n",
    "# z is positive but there are feasible solution!! (when A has more rows than columns)"
   ]
  },
  {
   "cell_type": "code",
   "execution_count": 43,
   "metadata": {},
   "outputs": [],
   "source": [
    "def pivotal_transformation(c, A, b, x, delta = 0.01, cutoff = 10**(-3)):\n",
    "    \"\"\"\n",
    "    execute symplex cycle method \n",
    "    A, b are np.ndarray of normal form\n",
    "    x is base solution of x\n",
    "    delta is how much x_n changes\n",
    "    cutoff is threshold to consider as 0\n",
    "    return: new solution of x in  \n",
    "    \"\"\"\n",
    "    # split into Base and Non-Base matrix\n",
    "    xb = np.array([]) \n",
    "    xn = np.array([])\n",
    "    Ab = np.array([])\n",
    "    An = np.array([]) \n",
    "    cb = np.array([])\n",
    "    cn = np.array([])\n",
    "    for i in range(len(x)):\n",
    "        if x[i] > cutoff:\n",
    "            xb = np.append(xb, x[i])\n",
    "            Ab = np.append(Ab, A[:, i], axis=0)\n",
    "            cb = np.append(cb, c[i])\n",
    "        else:\n",
    "            xn = np.append(xn, x[i])\n",
    "            An = np.append(An, A[:, i], axis=0)\n",
    "            cn = np.append(cn, c[i])\n",
    "    if len(xn) == 0:\n",
    "        return xb\n",
    "\n",
    "    AbTinv = 1/Ab if Ab.ndim == 1 else np.linalg.inv(Ab.T)\n",
    "    sn = cn - An.T * AbTinv  * cb\n",
    "    j = np.argmin(sn)     \n",
    "    while min(xb) < 0:\n",
    "        x[j] += delta\n",
    "        xb = AbTinv * (b - An * xn)\n",
    "\n",
    "    return np.append(xb, xn)"
   ]
  },
  {
   "cell_type": "code",
   "execution_count": 44,
   "metadata": {},
   "outputs": [
    {
     "name": "stderr",
     "output_type": "stream",
     "text": [
      "/tmp/ipykernel_598/3858263693.py:29: RuntimeWarning: divide by zero encountered in true_divide\n",
      "  AbTinv = 1/Ab if Ab.ndim == 1 else np.linalg.inv(Ab.T)\n"
     ]
    },
    {
     "ename": "ValueError",
     "evalue": "operands could not be broadcast together with shapes (6,) (9,) ",
     "output_type": "error",
     "traceback": [
      "\u001b[0;31m---------------------------------------------------------------------------\u001b[0m",
      "\u001b[0;31mValueError\u001b[0m                                Traceback (most recent call last)",
      "\u001b[0;32m/tmp/ipykernel_598/3749636232.py\u001b[0m in \u001b[0;36m<module>\u001b[0;34m\u001b[0m\n\u001b[1;32m      2\u001b[0m \u001b[0mcz\u001b[0m \u001b[0;34m=\u001b[0m \u001b[0mnp\u001b[0m\u001b[0;34m.\u001b[0m\u001b[0mappend\u001b[0m\u001b[0;34m(\u001b[0m\u001b[0mnp\u001b[0m\u001b[0;34m.\u001b[0m\u001b[0mzeros\u001b[0m\u001b[0;34m(\u001b[0m\u001b[0mA\u001b[0m\u001b[0;34m.\u001b[0m\u001b[0mshape\u001b[0m\u001b[0;34m[\u001b[0m\u001b[0;36m1\u001b[0m\u001b[0;34m]\u001b[0m\u001b[0;34m)\u001b[0m\u001b[0;34m,\u001b[0m \u001b[0mnp\u001b[0m\u001b[0;34m.\u001b[0m\u001b[0mones\u001b[0m\u001b[0;34m(\u001b[0m\u001b[0mlen\u001b[0m\u001b[0;34m(\u001b[0m\u001b[0mb\u001b[0m\u001b[0;34m)\u001b[0m\u001b[0;34m)\u001b[0m\u001b[0;34m)\u001b[0m\u001b[0;34m\u001b[0m\u001b[0;34m\u001b[0m\u001b[0m\n\u001b[1;32m      3\u001b[0m \u001b[0minit\u001b[0m \u001b[0;34m=\u001b[0m \u001b[0mnp\u001b[0m\u001b[0;34m.\u001b[0m\u001b[0mappend\u001b[0m\u001b[0;34m(\u001b[0m\u001b[0mnp\u001b[0m\u001b[0;34m.\u001b[0m\u001b[0mzeros\u001b[0m\u001b[0;34m(\u001b[0m\u001b[0mA\u001b[0m\u001b[0;34m.\u001b[0m\u001b[0mshape\u001b[0m\u001b[0;34m[\u001b[0m\u001b[0;36m1\u001b[0m\u001b[0;34m]\u001b[0m\u001b[0;34m)\u001b[0m\u001b[0;34m,\u001b[0m \u001b[0mb\u001b[0m\u001b[0;34m)\u001b[0m\u001b[0;34m\u001b[0m\u001b[0;34m\u001b[0m\u001b[0m\n\u001b[0;32m----> 4\u001b[0;31m \u001b[0mpivotal_transformation\u001b[0m\u001b[0;34m(\u001b[0m\u001b[0mcz\u001b[0m\u001b[0;34m,\u001b[0m \u001b[0mAz\u001b[0m\u001b[0;34m,\u001b[0m \u001b[0mb\u001b[0m\u001b[0;34m,\u001b[0m \u001b[0minit\u001b[0m\u001b[0;34m,\u001b[0m \u001b[0mdelta\u001b[0m \u001b[0;34m=\u001b[0m \u001b[0;36m0.01\u001b[0m\u001b[0;34m,\u001b[0m \u001b[0mcutoff\u001b[0m \u001b[0;34m=\u001b[0m \u001b[0;36m10\u001b[0m\u001b[0;34m**\u001b[0m\u001b[0;34m(\u001b[0m\u001b[0;34m-\u001b[0m\u001b[0;36m3\u001b[0m\u001b[0;34m)\u001b[0m\u001b[0;34m)\u001b[0m\u001b[0;34m\u001b[0m\u001b[0;34m\u001b[0m\u001b[0m\n\u001b[0m",
      "\u001b[0;32m/tmp/ipykernel_598/3858263693.py\u001b[0m in \u001b[0;36mpivotal_transformation\u001b[0;34m(c, A, b, x, delta, cutoff)\u001b[0m\n\u001b[1;32m     28\u001b[0m \u001b[0;34m\u001b[0m\u001b[0m\n\u001b[1;32m     29\u001b[0m     \u001b[0mAbTinv\u001b[0m \u001b[0;34m=\u001b[0m \u001b[0;36m1\u001b[0m\u001b[0;34m/\u001b[0m\u001b[0mAb\u001b[0m \u001b[0;32mif\u001b[0m \u001b[0mAb\u001b[0m\u001b[0;34m.\u001b[0m\u001b[0mndim\u001b[0m \u001b[0;34m==\u001b[0m \u001b[0;36m1\u001b[0m \u001b[0;32melse\u001b[0m \u001b[0mnp\u001b[0m\u001b[0;34m.\u001b[0m\u001b[0mlinalg\u001b[0m\u001b[0;34m.\u001b[0m\u001b[0minv\u001b[0m\u001b[0;34m(\u001b[0m\u001b[0mAb\u001b[0m\u001b[0;34m.\u001b[0m\u001b[0mT\u001b[0m\u001b[0;34m)\u001b[0m\u001b[0;34m\u001b[0m\u001b[0;34m\u001b[0m\u001b[0m\n\u001b[0;32m---> 30\u001b[0;31m     \u001b[0msn\u001b[0m \u001b[0;34m=\u001b[0m \u001b[0mcn\u001b[0m \u001b[0;34m-\u001b[0m \u001b[0mAn\u001b[0m\u001b[0;34m.\u001b[0m\u001b[0mT\u001b[0m \u001b[0;34m*\u001b[0m \u001b[0mAbTinv\u001b[0m  \u001b[0;34m*\u001b[0m \u001b[0mcb\u001b[0m\u001b[0;34m\u001b[0m\u001b[0;34m\u001b[0m\u001b[0m\n\u001b[0m\u001b[1;32m     31\u001b[0m     \u001b[0mj\u001b[0m \u001b[0;34m=\u001b[0m \u001b[0mnp\u001b[0m\u001b[0;34m.\u001b[0m\u001b[0margmin\u001b[0m\u001b[0;34m(\u001b[0m\u001b[0msn\u001b[0m\u001b[0;34m)\u001b[0m\u001b[0;34m\u001b[0m\u001b[0;34m\u001b[0m\u001b[0m\n\u001b[1;32m     32\u001b[0m     \u001b[0;32mwhile\u001b[0m \u001b[0mmin\u001b[0m\u001b[0;34m(\u001b[0m\u001b[0mxb\u001b[0m\u001b[0;34m)\u001b[0m \u001b[0;34m<\u001b[0m \u001b[0;36m0\u001b[0m\u001b[0;34m:\u001b[0m\u001b[0;34m\u001b[0m\u001b[0;34m\u001b[0m\u001b[0m\n",
      "\u001b[0;31mValueError\u001b[0m: operands could not be broadcast together with shapes (6,) (9,) "
     ]
    }
   ],
   "source": [
    "Az = np.append(A, np.identity(len(b)), axis=1)\n",
    "cz = np.append(np.zeros(A.shape[1]), np.ones(len(b)))\n",
    "init = np.append(np.zeros(A.shape[1]), b)\n",
    "pivotal_transformation(cz, Az, b, init, delta = 0.01, cutoff = 10**(-3))"
   ]
  },
  {
   "cell_type": "code",
   "execution_count": 42,
   "metadata": {},
   "outputs": [
    {
     "data": {
      "text/plain": [
       "2"
      ]
     },
     "execution_count": 42,
     "metadata": {},
     "output_type": "execute_result"
    }
   ],
   "source": []
  },
  {
   "cell_type": "markdown",
   "metadata": {},
   "source": [
    "\n",
    "## 2.5\n",
    "次の最適化問題を線形計画問題か凸2次計画問題のいずれかに帰着せよ. ただし, $\\gamma$, $\\rho$は正の定数である.\n",
    "\n",
    "(i) チェビシェフ近似問題\n",
    "\n",
    "(問) $$\\text{Minimize } \\|A\\bm{x}-\\bm{b}\\|_{\\infty}$$\n",
    "(答)\n",
    "$\\begin{aligned}\n",
    "\\text{Minimize } &y\\\\\n",
    "\\text{subject to } &A\\bm{x}-\\bm{b} \\le \\bm{1}y \\\\\n",
    "&- A\\bm{x} + \\bm{b} \\le \\bm{1}y\n",
    "\\end{aligned}$\n",
    "\n",
    "(ii) $\\ell_{1}$ノルム正則化付きチェビシェフ近似問題\n",
    "\n",
    "(問) $$\\text{Minimize } \\|A\\bm{x}-\\bm{b}\\|_{\\infty} + \\gamma\\|\\bm{x}\\|_{1}$$\n",
    "(答)\n",
    "$\\begin{aligned}\n",
    "\\text{Minimize } &y + \\bm{1}^{\\top}\\bm{z}\\\\\n",
    "\\text{subject to } &A\\bm{x}-\\bm{b} \\le \\bm{1}y \\\\\n",
    "&- A\\bm{x} + \\bm{b} \\le \\bm{1}y \\\\\n",
    "& \\bm{z} \\ge \\bm{x} \\\\\n",
    "&  \\bm{z} \\ge -\\bm{x} \\\\\n",
    "\\end{aligned}$\n",
    "\n",
    "(iii) ティコノフ正則化付きチェビシェフ近似問題\n",
    "\n",
    "(問) $$\\text{Minimize } \\|A\\bm{x}-\\bm{b}\\|_{\\infty}+ \\gamma\\|\\bm{x}\\|_{2}^{2}$$\n",
    "(答)\n",
    "$\\begin{aligned}\n",
    "\\text{Minimize } &y + \\frac{1}{2}\\bm{x}^{\\top}(2\\gamma I)\\bm{x}\\\\\n",
    "\\text{subject to } &A\\bm{x}-\\bm{b} \\le \\bm{1}y \\\\\n",
    "&- A\\bm{x} + \\bm{b} \\le \\bm{1}y \n",
    "\\end{aligned}$\n",
    "\n",
    "(iv) エラスティックネット正則化付き最小2乗法\n",
    "\n",
    "(問) $$\\text{Minimize } \\|A\\bm{x}-\\bm{b}\\|_{2}^{2} + \\gamma\\|\\bm{x}\\|_{2}^{2} + \\rho\\|\\bm{x}\\|_{1}$$\n",
    "(答)\n",
    "$\\begin{aligned}\n",
    "\\text{Minimize } &\\frac{1}{2}\\bm{x}^{\\top}2(A^{\\top}\\bm{A} -\\gamma\\bm{I})\\bm{x} - 2\\bm{b}^{\\top}A\\bm{x} + \\rho\\bm{1}^{\\top}\\bm{z}\\\\\n",
    "\\text{subject to } & \\bm{z} \\ge \\bm{x} \\\\\n",
    "&  \\bm{z} \\ge -\\bm{x} \\\\\n",
    "\\end{aligned}$"
   ]
  },
  {
   "cell_type": "markdown",
   "metadata": {},
   "source": [
    "## 2.6\n",
    "(問) \n",
    "\n",
    "(i) 問題(2.45)を問題(2.33)の形に直したとき, $Q, A, \\bm{b}, \\bm{c}$はどのようになるか.\n",
    "\n",
    "問題(2.45)\n",
    "$\\begin{aligned}\n",
    "\\text{Minimize }&\\bm{w}^{\\top}\\bm{w} + \\gamma\\sum_{l=1}^{r}e_{l} \\\\\n",
    "\\text{subject to }& t_{l}(\\bm{s}_{l}^{\\top}\\bm{w}+v) + e_{l} \\ge 1, & l = 1, \\dots, r\\\\\n",
    "& e_{l} \\ge 0, & l = 1, \\dots, r \n",
    "\\end{aligned}$\n",
    "問題(2.33)\n",
    "$\\begin{aligned}\n",
    "\\text{Minimize }& \\frac{1}{2}\\bm{x}^{\\top}Q\\bm{x} + \\bm{c}^{\\top} \\bm{x} \\\\\n",
    "\\text{subject to }& A\\bm{x} = \\bm{b}\\\\\n",
    "& \\bm{x} \\ge \\bm{0}\n",
    "\\end{aligned}$\n",
    "\n",
    "(ii) 問題(2.43)において関数$\\phi$を\n",
    "$$\n",
    "\\phi(z)=\n",
    "\\begin{cases}\n",
    "0 & (z \\ge 1\\text{ のとき}) \\\\\n",
    "(z-1)^{2} & (z < 1\\text{ のとき})\n",
    "\\end{cases}\n",
    "$$\n",
    "で定義する.このとき, 問題(2.43)を凸2次計画問題(2.33)の形に直せ\n",
    "\n",
    "\n",
    "問題(2.43)\n",
    "$$\\text{Minimize } \\bm{w}^{\\top}\\bm{w} + \\gamma\\sum_{l=1}^{r}\\phi(t_{l}(\\bm{s}_{l}^{\\top}\\bm{w}+v)) $$\n",
    "\n",
    "(答)\n",
    "\n",
    "(i)  \n",
    "Let $\\bm{u}$ be a slack variable.\n",
    "$$\\bm{x} = \\left[\\begin{matrix} \\bm{w}^{+} \\\\ \\bm{w}^{-} \\\\ v^{+} \\\\ v^{-} \\\\ \\bm{e} \\\\ \\bm{u}\\end{matrix}\\right], \n",
    "Q = \\left[\\begin{matrix} \n",
    "2I & -2I & O & O & O & O\\\\\n",
    "-2I & 2I & O & O & O & O\\\\\n",
    "O & O & O & O & O & O\\\\\n",
    "O & O & O & O & O & O\\\\\n",
    "O & O & O & O & O & O\\\\\n",
    "O & O & O & O & O & O\n",
    "\\end{matrix}\\right],\n",
    "A = \\left[\\begin{matrix}\n",
    "\\begin{matrix}t_{1}\\bm{s}_{1}^{\\top} \\\\ \\vdots \\\\ t_{r}\\bm{s}_{r}^{\\top} \\end{matrix} &  \n",
    "\\begin{matrix}-t_{1}\\bm{s}_{1}^{\\top} \\\\ \\vdots \\\\ -t_{r}\\bm{s}_{r}^{\\top} \\end{matrix} &\n",
    "\\bm{t} & -\\bm{t} & I & -I\n",
    "\\end{matrix}\\right],\n",
    "\\bm{b} = \\bm{1},\n",
    "\\bm{c} = \\left[\\begin{matrix} \n",
    "O\\\\\n",
    "O\\\\\n",
    "O\\\\\n",
    "O\\\\\n",
    "\\gamma I \\\\\n",
    "O\n",
    "\\end{matrix}\\right]\n",
    "$$\n",
    "\n",
    "(ii)\n",
    "$\\phi$ can be considered as\n",
    "$$\\phi(z)=\\min_{e}\\{e^{2}|z + e \\ge 1, e \\ge 0 \\}$$\n",
    "Then, the problem is \n",
    "$\\begin{aligned}\n",
    "\\text{Minimize }&\\bm{w}^{\\top}\\bm{w} + \\gamma\\|\\bm{e}\\|_{2}^{2} \\\\\n",
    "\\text{subject to }& t_{l}(\\bm{s}_{l}^{\\top}\\bm{w}+v) + e_{l} \\ge 1, & l = 1, \\dots, r\\\\\n",
    "& e_{l} \\ge 0, & l = 1, \\dots, r \n",
    "\\end{aligned}$\n",
    "\n",
    "Hence, \n",
    "$$\\bm{x} = \\left[\\begin{matrix} \\bm{w}^{+} \\\\ \\bm{w}^{-} \\\\ v^{+} \\\\ v^{-} \\\\ \\bm{e} \\\\ \\bm{u}\\end{matrix}\\right], \n",
    "Q = \\left[\\begin{matrix} \n",
    "2I & -2I & O & O & O & O\\\\\n",
    "-2I & 2I & O & O & O & O\\\\\n",
    "O & O & O & O & O & O\\\\\n",
    "O & O & O & O & O & O\\\\\n",
    "O & O & O & O & 2\\gamma I & O\\\\\n",
    "O & O & O & O & O & O\n",
    "\\end{matrix}\\right],\n",
    "A = \\left[\\begin{matrix}\n",
    "\\begin{matrix}t_{1}\\bm{s}_{1}^{\\top} \\\\ \\vdots \\\\ t_{r}\\bm{s}_{r}^{\\top} \\end{matrix} &  \n",
    "\\begin{matrix}-t_{1}\\bm{s}_{1}^{\\top} \\\\ \\vdots \\\\ -t_{r}\\bm{s}_{r}^{\\top} \\end{matrix} &\n",
    "\\bm{t} & -\\bm{t} & I & -I\n",
    "\\end{matrix}\\right],\n",
    "\\bm{b} = \\bm{1},\n",
    "\\bm{c} = \\left[\\begin{matrix} \n",
    "O\\\\\n",
    "O\\\\\n",
    "O\\\\\n",
    "O\\\\\n",
    "O\\\\\n",
    "O\n",
    "\\end{matrix}\\right]\n",
    "$$\n"
   ]
  },
  {
   "cell_type": "markdown",
   "metadata": {},
   "source": []
  }
 ],
 "metadata": {
  "interpreter": {
   "hash": "d4d1e4263499bec80672ea0156c357c1ee493ec2b1c70f0acce89fc37c4a6abe"
  },
  "kernelspec": {
   "display_name": "Python 3.9.7 64-bit ('base': conda)",
   "language": "python",
   "name": "python3"
  },
  "language_info": {
   "codemirror_mode": {
    "name": "ipython",
    "version": 3
   },
   "file_extension": ".py",
   "mimetype": "text/x-python",
   "name": "python",
   "nbconvert_exporter": "python",
   "pygments_lexer": "ipython3",
   "version": "3.9.7"
  },
  "orig_nbformat": 4
 },
 "nbformat": 4,
 "nbformat_minor": 2
}
