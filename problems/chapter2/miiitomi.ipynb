{
 "cells": [
  {
   "cell_type": "markdown",
   "metadata": {},
   "source": [
    "# 2.1 \n",
    "倉庫 $S_i$ から顧客 $C_j$ に輸送する商品の量を $x_{ij}$ $(i=1,2, j = 1,2,3)$ とする.  \n",
    "このとき、輸送費用最小化問題は\n",
    "$$\n",
    "\\begin{align*}\n",
    "    \\min_{(x_{ij})_{i=1,2, j=1,2,3}}  &x_{11} + 2x_{12} + 3x_{13} + 4x_{21} + 8x_{22} + 7x_{23}\\\\\n",
    "    \\mathrm{s.t.} \\hspace{0.5cm} &x_{11} + x_{12} + x_{13} \\le 20\\\\\n",
    "                                 &x_{21} + x_{22} + x_{23} \\le 15\\\\ \n",
    "                                 &x_{11} + x_{21} = 8.5\\\\\n",
    "                                 &x_{12} + x_{22} = 12.5\\\\\n",
    "                                 &x_{13} + x_{23} = 14\\\\\n",
    "                                 &x_{ij} \\ge 0 \\ \\mathrm{for} \\ i = 1,2,\\ j=1,2,3.\n",
    "\\end{align*}\n",
    "$$\n",
    "となる. これを CVXPY で解いてみると以下の通り."
   ]
  },
  {
   "cell_type": "code",
   "execution_count": 1,
   "metadata": {},
   "outputs": [
    {
     "name": "stdout",
     "output_type": "stream",
     "text": [
      "[[2.33008309e-09 1.25000000e+01 7.50000000e+00]\n",
      " [8.50000000e+00 2.07573779e-10 6.50000000e+00]]\n"
     ]
    }
   ],
   "source": [
    "import cvxpy as cp\n",
    "import numpy as np\n",
    "\n",
    "x = cp.Variable(shape=(2,3))\n",
    "cost = np.array([[1, 2, 3],\n",
    "                 [4, 8, 7]])\n",
    "obj = cp.Minimize(cp.sum(cp.multiply(x, cost)))\n",
    "cons = [cp.sum(x[0]) <= 20,\n",
    "        cp.sum(x[1]) <= 15,\n",
    "        cp.sum(x[:, 0]) == 8.5,\n",
    "        cp.sum(x[:, 1]) == 12.5,\n",
    "        cp.sum(x[:, 2]) == 14,\n",
    "        x >= 0.0]\n",
    "P = cp.Problem(obj, cons)\n",
    "P.solve()\n",
    "print(x.value)"
   ]
  }
 ],
 "metadata": {
  "interpreter": {
   "hash": "d4d1e4263499bec80672ea0156c357c1ee493ec2b1c70f0acce89fc37c4a6abe"
  },
  "kernelspec": {
   "display_name": "Python 3.9.7 64-bit ('base': conda)",
   "language": "python",
   "name": "python3"
  },
  "language_info": {
   "codemirror_mode": {
    "name": "ipython",
    "version": 3
   },
   "file_extension": ".py",
   "mimetype": "text/x-python",
   "name": "python",
   "nbconvert_exporter": "python",
   "pygments_lexer": "ipython3",
   "version": "3.9.7"
  },
  "orig_nbformat": 4
 },
 "nbformat": 4,
 "nbformat_minor": 2
}
