{
 "cells": [
  {
   "cell_type": "markdown",
   "metadata": {},
   "source": [
    "# 2.1 \n",
    "倉庫 $S_i$ から顧客 $C_j$ に輸送する商品の量を $x_{ij}$ $(i=1,2, j = 1,2,3)$ とする.  \n",
    "この輸送費用最小化問題を線形計画問題として定式化すると,\n",
    "$$\n",
    "\\begin{align*}\n",
    "    \\min_{(x_{ij})_{i=1,2, j=1,2,3}}  &x_{11} + 2x_{12} + 3x_{13} + 4x_{21} + 8x_{22} + 7x_{23}\\\\\n",
    "    \\mathrm{s.t.} \\hspace{0.5cm} &x_{11} + x_{12} + x_{13} \\le 20,\\\\\n",
    "                                 &x_{21} + x_{22} + x_{23} \\le 15,\\\\ \n",
    "                                 &x_{11} + x_{21} = 8.5,\\\\\n",
    "                                 &x_{12} + x_{22} = 12.5,\\\\\n",
    "                                 &x_{13} + x_{23} = 14,\\\\\n",
    "                                 &x_{ij} \\ge 0 \\ \\ \\mathrm{for} \\ i = 1,2,\\ j=1,2,3.\n",
    "\\end{align*}\n",
    "$$\n",
    "となる. これを CVXPY で解いてみると以下の通り."
   ]
  },
  {
   "cell_type": "code",
   "execution_count": 1,
   "metadata": {},
   "outputs": [
    {
     "name": "stdout",
     "output_type": "stream",
     "text": [
      "[[ 0.  12.5  7.5]\n",
      " [ 8.5  0.   6.5]]\n"
     ]
    }
   ],
   "source": [
    "import cvxpy as cp\n",
    "import numpy as np\n",
    "\n",
    "cost = np.array([[1, 2, 3],\n",
    "                 [4, 8, 7]])\n",
    "stock = np.array([20, 15])\n",
    "demand = np.array([8.5, 12.5, 14])\n",
    "\n",
    "x = cp.Variable(shape=(2,3))\n",
    "obj = cp.Minimize(cp.sum(cp.multiply(x, cost)))\n",
    "cons = [cp.sum(x, axis=1) <= stock,\n",
    "        cp.sum(x, axis=0) == demand,\n",
    "        x >= 0.0]\n",
    "P = cp.Problem(obj, cons)\n",
    "P.solve()\n",
    "\n",
    "np.set_printoptions(precision=3, suppress=True)\n",
    "print(x.value)"
   ]
  },
  {
   "cell_type": "markdown",
   "metadata": {},
   "source": [
    "# 2.2\n",
    "(i)\n",
    "$$\n",
    "\\begin{align*}\n",
    "    \\min \\ \\ &x_1 - 4x_2\\\\\n",
    "    \\mathrm{s.t.}\\ \\ &-x_1 -3x_2 +x_3 = -3,\\\\\n",
    "                     &-2x_1 + x_2 + x_4 = 2,\\\\\n",
    "                     &x_1, x_2, x_3, x_4 \\ge 0.\n",
    "\\end{align*}\n",
    "$$\n",
    "\n",
    "(ii)\n",
    "$$\n",
    "\\begin{align*}\n",
    "    \\min \\ \\ &x_1^+ - x_1^- + 2x_2 + x_3^+ - x_3^-\\\\\n",
    "    \\mathrm{s.t.}\\ \\ &x_1^+ - x_1^- + 2x_2 + 4x_3^+ - 4x_3^- = 6,\\\\\n",
    "                     &-5x_1^+ +5x_1^- -4x_2 + x_4 = -20,\\\\\n",
    "                     &x_1^+, x_1^-, x_2, x_3^+, x_3^-, x_4 \\ge 0.\n",
    "\\end{align*}\n",
    "$$"
   ]
  },
  {
   "cell_type": "markdown",
   "metadata": {},
   "source": [
    "# 2.3\n",
    "(i)\n",
    "$$\n",
    "\\begin{align*}\n",
    "    \\max \\ \\ &-3y_1 + 2y_2\\\\\n",
    "    \\mathrm{s.t.}\\ \\ &-y_1-2y_2 \\le 1,\\\\\n",
    "                     &-3y_1 + y_2 \\le -4,\\\\\n",
    "                     &\\ y_1, y_2 \\le 0.\n",
    "\\end{align*}\n",
    "$$\n",
    "\n",
    "(ii)\n",
    "$$\n",
    "\\begin{align*}\n",
    "    \\max \\ \\ &6y_1 -20y_2\\\\\n",
    "    \\mathrm{s.t.}\\ \\ &y_1 -5y_2 \\le 1\\\\\n",
    "                     &-y_1 + 5y_1 \\le -1\\\\\n",
    "                     &2y_1-4y_2 \\le 2\\\\\n",
    "                     &4y_1 \\le 1\\\\\n",
    "                     &-4y_1 \\le -1\\\\\n",
    "                     &y_2 \\le 0\n",
    "\\end{align*}\n",
    "$$"
   ]
  }
 ],
 "metadata": {
  "interpreter": {
   "hash": "d4d1e4263499bec80672ea0156c357c1ee493ec2b1c70f0acce89fc37c4a6abe"
  },
  "kernelspec": {
   "display_name": "Python 3.9.7 64-bit ('base': conda)",
   "language": "python",
   "name": "python3"
  },
  "language_info": {
   "codemirror_mode": {
    "name": "ipython",
    "version": 3
   },
   "file_extension": ".py",
   "mimetype": "text/x-python",
   "name": "python",
   "nbconvert_exporter": "python",
   "pygments_lexer": "ipython3",
   "version": "3.9.7"
  },
  "orig_nbformat": 4
 },
 "nbformat": 4,
 "nbformat_minor": 2
}
