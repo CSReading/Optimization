{
 "cells": [
  {
   "cell_type": "markdown",
   "metadata": {},
   "source": [
    "# 2.1 \n",
    "倉庫 $S_i$ から顧客 $C_j$ への輸送量を $x_{ij}$ $(i=1,2, \\ j = 1,2,3)$ とすると、\n",
    "$$\n",
    "\\begin{align*}\n",
    "    \\min \\ \\ \\ & x_{11} + 2x_{12} + 3x_{13} + 4x_{21} + 8x_{22} + 7x_{23} \\\\\n",
    "    \\text{s.t.} \\ \\ \\ & x_{11} + x_{12} + x_{13} \\le 20, \\\\\n",
    "                      & x_{21} + x_{22} + x_{23} \\le 15, \\\\ \n",
    "                      & x_{11} + x_{21} = 8.5, \\\\\n",
    "                      & x_{12} + x_{22} = 12.5, \\\\\n",
    "                      & x_{13} + x_{23} = 14, \\\\\n",
    "                      & x_{ij} \\ge 0 \\ \\ \\text{for} \\ \\ i = 1, 2, \\ j = 1, 2, 3\n",
    "\\end{align*}\n",
    "$$"
   ]
  },
  {
   "cell_type": "markdown",
   "metadata": {},
   "source": [
    "# 2.2\n",
    "(i)\n",
    "$$\n",
    "\\begin{align*}\n",
    "    \\min \\ \\ \\ & x_1 - 4x_2 \\\\\n",
    "    \\text{s.t.} \\ \\ \\ & -x_1 - 3x_2 - s_1 = -3, \\\\\n",
    "                      & -2x_1 + x_2 + s_2 = 2, \\\\\n",
    "                      & x_1, x_2, s_1, s_2 \\ge 0\n",
    "\\end{align*}\n",
    "$$"
   ]
  },
  {
   "cell_type": "markdown",
   "metadata": {},
   "source": [
    "(ii)\n",
    "$$\n",
    "\\begin{align*}\n",
    "    \\min \\ \\ \\ & x_1^{+} - x_1^{-} + 2x_2 + x_3^{+} - x_3^{-} \\\\\n",
    "    \\text{s.t.} \\ \\ \\ & x_1^{+} - x_1^{-} + 2x_2 + 4x_3^{+} - 4x_3^{-} = 6, \\\\\n",
    "                      & 5x_1^{+} - 5x_1^{-} + 4x_2 - s = 20, \\\\\n",
    "                      & x_1^{+}, x_1^{-}, x_2, x_3^{+}, x_3^{-}, s \\ge 0\n",
    "\\end{align*}\n",
    "$$"
   ]
  },
  {
   "cell_type": "markdown",
   "metadata": {},
   "source": [
    "# 2.3\n",
    "(i)\n",
    "$$\n",
    "\\begin{align*}\n",
    "    \\min \\ \\ \\ & -3y_1 + 2y_2 \\\\\n",
    "    \\text{s.t.} \\ \\ \\ & y_1 + 2y_2 \\le 1, \\\\\n",
    "                      & 3y_1 - y_2 \\le -4, \\\\\n",
    "                      & y_1, y_2 \\ge 0\n",
    "\\end{align*}\n",
    "$$"
   ]
  },
  {
   "cell_type": "markdown",
   "metadata": {},
   "source": [
    "(ii)\n",
    "$$\n",
    "\\begin{align*}\n",
    "    \\max \\ \\ \\ & 6y_1 + 20y_2 \\\\\n",
    "    \\text{s.t.} \\ \\ \\ & y_1 + 5y_2 = 1, \\\\\n",
    "                      & 2y_1 + 4y_2 \\le 2, \\\\\n",
    "                      & 4y_1 = 1, \\\\\n",
    "                      & y_2 \\ge 0\n",
    "\\end{align*}\n",
    "$$"
   ]
  },
  {
   "cell_type": "markdown",
   "metadata": {},
   "source": [
    "# 2.4\n",
    "基底変数が $z$ ならば、$z = b, \\ x = 0$ となり、これは実行可能基底解となる。\n",
    "\n",
    "目的関数が0になるならば、$A x = b$ となるため、最適解は(2.15)の実行可能基底解と一致する。目的関数が0にならない場合は、$A x \\neq b$ となるため、(2.15)は実行可能基底解を持たない。\n",
    "\n"
   ]
  },
  {
   "cell_type": "markdown",
   "metadata": {},
   "source": [
    "# 2.5\n",
    "(i)\n",
    "$$\n",
    "\\begin{align*}\n",
    "    \\min_{x, z} \\ \\ \\ & z \\\\\n",
    "    \\text{s.t.} \\ \\ \\ & A x - b \\le z1, \\\\\n",
    "                      & -A x + b \\le z1\n",
    "\\end{align*}\n",
    "$$\n",
    "\n",
    "(ii)\n",
    "$$\n",
    "\\begin{align*}\n",
    "    \\min_{x, z, w} \\ \\ \\ & z + \\gamma 1' w \\\\\n",
    "    \\text{s.t.} \\ \\ \\ & A x - b \\le z1, \\\\\n",
    "                      & -A x + b \\le z1, \\\\\n",
    "                      & x \\le w, \\\\\n",
    "                      & -x \\le w\n",
    "\\end{align*}\n",
    "$$\n",
    "\n",
    "(iii)\n",
    "$$\n",
    "\\begin{align*}\n",
    "    \\min_{x, z} \\ \\ \\ & z + \\gamma x'x \\\\\n",
    "    \\text{s.t.} \\ \\ \\ & A x - b \\le z1, \\\\\n",
    "                      & -A x + b \\le z1\n",
    "\\end{align*}\n",
    "$$\n",
    "\n",
    "(iv)\n",
    "$$\n",
    "\\begin{align*}\n",
    "    \\min_{x, z} \\ \\ \\ & x'(A'A + \\gamma I)x + \\rho 1' z \\\\\n",
    "    \\text{s.t.} \\ \\ \\ & x \\le z, \\\\\n",
    "                      & -x \\le z\n",
    "\\end{align*}\n",
    "$$"
   ]
  },
  {
   "cell_type": "markdown",
   "metadata": {},
   "source": [
    "# 2.6 \n",
    "(i)\n",
    "$w = w^+ - w^-, \\ v = v^+ - v^-$ とし、 スラック変数 $s \\in \\mathbb{R}^r$ を導入して、 $x = \\begin{bmatrix}w^+\\\\ w^-\\\\ v^+\\\\ v^-\\\\ e \\\\ s\\end{bmatrix}$ とすると、\n",
    "$$\n",
    "\\begin{align*}\n",
    "Q = \\begin{bmatrix}\n",
    "        2I_d & -2I_d & O_{d, 1} & O_{d, 1} & O_{d, r} & O_{d, r} \\\\\n",
    "        -2I_d & 2I_d & O_{d, 1} & O_{d, 1} & O_{d, r} & O_{d, r} \\\\\n",
    "        O_{1, d} & O_{1, d} & O_{1, 1} & O_{1, 1} & O_{1, r} & O_{1, r} \\\\\n",
    "        O_{1, d} & O_{1, d} & O_{1, 1} & O_{1, 1} & O_{1, r} & O_{1, r} \\\\\n",
    "        O_{r, d} & O_{r, d} & O_{r, 1} & O_{r, 1} & O_{r, r} & O_{r, r} \\\\\n",
    "        O_{r, d} & O_{r, d} & O_{r, 1} & O_{r, 1} & O_{r, r} & O_{r, r} \n",
    "    \\end{bmatrix}, \n",
    "c = \\begin{bmatrix}O_{d, 1}\\\\ O_{d, 1}\\\\ O_{1, 1} \\\\ O_{1, 1} \\\\ \\gamma 1_r \\\\ O_{r, 1}\\end{bmatrix},\n",
    "A = \\begin{bmatrix}\n",
    "    t_1s_1' & -t_1s_1' & t_1 & -t_1 & &  \\\\\n",
    "    \\vdots & \\vdots & \\vdots & \\vdots & I_r & -I_r \\\\\n",
    "    t_r s_r' & -t_rs_r' & t_l & -t_l & &\n",
    "    \\end{bmatrix},\n",
    "b = \\begin{bmatrix}1 \\\\ \\vdots \\\\ 1\\end{bmatrix}\n",
    "\\end{align*}\n",
    "$$\n",
    "\n",
    "\n"
   ]
  },
  {
   "cell_type": "markdown",
   "metadata": {},
   "source": [
    "(ii)\n",
    "$\\phi(z) = \\min \\{e^2 \\ | \\ z + e \\ge 1, \\ e \\ge 0 \\}$ となるので、$x = \\begin{bmatrix}w^+\\\\ w^-\\\\ v^+\\\\ v^-\\\\ e \\\\ s\\end{bmatrix}$ に対して、\n",
    "\n",
    "$$\n",
    "\\begin{align*}\n",
    "Q = \\begin{bmatrix}\n",
    "        2I_d & -2I_d & O_{d, 1} & O_{d, 1} & O_{d, r} & O_{d, r} \\\\\n",
    "        -2I_d & 2I_d & O_{d, 1} & O_{d, 1} & O_{d, r} & O_{d, r} \\\\\n",
    "        O_{1, d} & O_{1, d} & O_{1, 1} & O_{1, 1} & O_{1, r} & O_{1, r} \\\\\n",
    "        O_{1, d} & O_{1, d} & O_{1, 1} & O_{1, 1} & O_{1, r} & O_{1, r} \\\\\n",
    "        O_{r, d} & O_{r, d} & O_{r, 1} & O_{r, 1} & 2 \\gamma I_r & O_{r, r} \\\\\n",
    "        O_{r, d} & O_{r, d} & O_{r, 1} & O_{r, 1} & O_{r, r} & O_{r, r} \n",
    "    \\end{bmatrix}, \n",
    "c = \\begin{bmatrix}O_{d, 1}\\\\ O_{d, 1}\\\\ O_{1, 1} \\\\ O_{1, 1} \\\\ O_{r, 1} \\\\ O_{r, 1}\\end{bmatrix},\n",
    "A = \\begin{bmatrix}\n",
    "    t_1s_1' & -t_1s_1' & t_1 & -t_1 & &  \\\\\n",
    "    \\vdots & \\vdots & \\vdots & \\vdots & I_r & -I_r \\\\\n",
    "    t_r s_r' & -t_rs_r' & t_l & -t_l & &\n",
    "    \\end{bmatrix},\n",
    "b = \\begin{bmatrix}1 \\\\ \\vdots \\\\ 1\\end{bmatrix}\n",
    "\\end{align*}\n",
    "$$"
   ]
  },
  {
   "cell_type": "markdown",
   "metadata": {},
   "source": []
  }
 ],
 "metadata": {
  "interpreter": {
   "hash": "d4d1e4263499bec80672ea0156c357c1ee493ec2b1c70f0acce89fc37c4a6abe"
  },
  "kernelspec": {
   "display_name": "Python 3.9.7 64-bit ('base': conda)",
   "language": "python",
   "name": "python3"
  },
  "language_info": {
   "codemirror_mode": {
    "name": "ipython",
    "version": 3
   },
   "file_extension": ".py",
   "mimetype": "text/x-python",
   "name": "python",
   "nbconvert_exporter": "python",
   "pygments_lexer": "ipython3",
   "version": "3.9.7"
  },
  "orig_nbformat": 4
 },
 "nbformat": 4,
 "nbformat_minor": 2
}
